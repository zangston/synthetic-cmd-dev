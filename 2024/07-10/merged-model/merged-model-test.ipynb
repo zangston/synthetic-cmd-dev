{
 "cells": [
  {
   "cell_type": "code",
   "execution_count": 1,
   "id": "9da12d27",
   "metadata": {
    "scrolled": true
   },
   "outputs": [
    {
     "name": "stderr",
     "output_type": "stream",
     "text": [
      "/home/wyz5rge/.local/lib/python3.6/site-packages/pysynphot/locations.py:345: UserWarning: Extinction files not found in /scratch/wyz5rge/models/cdbs/extinction\n",
      "  warnings.warn('Extinction files not found in %s' % (extdir, ))\n"
     ]
    }
   ],
   "source": [
    "from spisea import synthetic, evolution, atmospheres, reddening, ifmr"
   ]
  },
  {
   "cell_type": "code",
   "execution_count": 2,
   "id": "c563f7bf",
   "metadata": {},
   "outputs": [],
   "source": [
    "import sys\n",
    "sys.path.append('/scratch/wyz5rge/synthetic-hr/cmd_generator/')\n",
    "import cmd_generator as cmd_generator"
   ]
  },
  {
   "cell_type": "code",
   "execution_count": 8,
   "id": "0abe8ae6",
   "metadata": {},
   "outputs": [],
   "source": [
    "# define isochrone parameters\n",
    "AKs = 0\n",
    "dist = 410\n",
    "evo_model = evolution.MergedBaraffePisaEkstromParsec()\n",
    "atm_func = atmospheres.get_merged_atmosphere\n",
    "red_law = reddening.RedLawHosek18b()\n",
    "filt_list = ['jwst,F115W', 'jwst,F200W']\n",
    "filters = ['m_jwst_F115W', 'm_jwst_F200W']\n",
    "iso_dir = 'isochrones/'\n",
    "metallicity = 0\n",
    "\n",
    "# read nbody data\n",
    "nbody_path = '/storage/jfarias/Data/Orion/newbinaries/M3000sigma1.0/sfeff100_00/'"
   ]
  },
  {
   "cell_type": "code",
   "execution_count": 9,
   "id": "31968fa7",
   "metadata": {},
   "outputs": [
    {
     "name": "stdout",
     "output_type": "stream",
     "text": [
      "Changing to logg=4.50 for T= 39156 logg=4.13\n",
      "Changing to logg=4.50 for T= 39310 logg=4.13\n",
      "Changing to logg=4.50 for T= 39473 logg=4.12\n",
      "Changing to logg=4.50 for T= 39637 logg=4.12\n",
      "Changing to logg=4.50 for T= 39792 logg=4.12\n",
      "Changing to logg=4.50 for T= 39948 logg=4.12\n",
      "Changing to logg=4.50 for T= 39958 logg=4.12\n",
      "Changing to logg=4.50 for T= 40087 logg=4.11\n",
      "Changing to logg=4.50 for T= 40216 logg=4.11\n",
      "Changing to logg=4.50 for T= 40346 logg=4.11\n",
      "Changing to logg=4.50 for T= 40476 logg=4.11\n",
      "Changing to logg=4.50 for T= 40607 logg=4.10\n",
      "Changing to logg=4.50 for T= 40738 logg=4.10\n",
      "Changing to logg=4.50 for T= 40860 logg=4.10\n",
      "Changing to logg=4.50 for T= 40992 logg=4.09\n",
      "Changing to logg=4.50 for T= 41124 logg=4.09\n",
      "Changing to logg=4.50 for T= 41143 logg=4.09\n",
      "Changing to logg=4.50 for T= 41238 logg=4.09\n",
      "Changing to logg=4.50 for T= 41343 logg=4.09\n",
      "Changing to logg=4.50 for T= 41448 logg=4.09\n",
      "Changing to logg=4.50 for T= 41553 logg=4.08\n",
      "Changing to logg=4.50 for T= 41658 logg=4.08\n",
      "Changing to logg=4.50 for T= 41764 logg=4.08\n",
      "Changing to logg=4.50 for T= 41870 logg=4.08\n",
      "Changing to logg=4.50 for T= 41976 logg=4.08\n",
      "Changing to logg=4.50 for T= 42082 logg=4.07\n",
      "Changing to logg=4.50 for T= 42189 logg=4.07\n",
      "Changing to logg=4.50 for T= 42257 logg=4.07\n",
      "Changing to logg=4.50 for T= 42296 logg=4.07\n",
      "Changing to logg=4.50 for T= 42384 logg=4.07\n",
      "Changing to logg=4.50 for T= 42472 logg=4.07\n",
      "Changing to logg=4.50 for T= 42560 logg=4.07\n",
      "Changing to logg=4.50 for T= 42658 logg=4.06\n",
      "Changing to logg=4.50 for T= 42746 logg=4.06\n",
      "Changing to logg=4.50 for T= 42835 logg=4.06\n",
      "Changing to logg=4.50 for T= 42924 logg=4.06\n",
      "Changing to logg=4.50 for T= 43013 logg=4.06\n",
      "Changing to logg=4.50 for T= 43102 logg=4.06\n",
      "Changing to logg=4.50 for T= 43192 logg=4.05\n",
      "Changing to logg=4.50 for T= 43281 logg=4.05\n",
      "Changing to logg=4.50 for T= 43331 logg=4.05\n",
      "Changing to logg=4.50 for T= 43371 logg=4.05\n",
      "Changing to logg=4.50 for T= 43461 logg=4.05\n",
      "Changing to logg=4.50 for T= 43541 logg=4.05\n",
      "Changing to logg=4.50 for T= 43631 logg=4.05\n",
      "Changing to logg=4.50 for T= 43712 logg=4.05\n",
      "Changing to logg=4.50 for T= 43803 logg=4.05\n",
      "Changing to logg=4.50 for T= 43893 logg=4.04\n",
      "Changing to logg=4.50 for T= 43974 logg=4.04\n",
      "Changing to logg=4.50 for T= 44055 logg=4.04\n",
      "Changing to logg=4.50 for T= 44147 logg=4.04\n",
      "Changing to logg=4.50 for T= 44228 logg=4.04\n",
      "Changing to logg=4.50 for T= 44320 logg=4.04\n",
      "Changing to logg=4.50 for T= 44402 logg=4.04\n",
      "Changing to logg=4.50 for T= 44494 logg=4.04\n",
      "Changing to logg=4.50 for T= 44494 logg=4.04\n",
      "Changing to logg=4.50 for T= 44566 logg=4.03\n",
      "Changing to logg=4.50 for T= 44648 logg=4.03\n",
      "Changing to logg=4.50 for T= 44720 logg=4.03\n",
      "Changing to logg=4.50 for T= 44802 logg=4.03\n",
      "Changing to logg=4.50 for T= 44885 logg=4.03\n",
      "Changing to logg=4.50 for T= 44957 logg=4.03\n",
      "Changing to logg=4.50 for T= 45040 logg=4.03\n",
      "Changing to logg=4.50 for T= 45113 logg=4.03\n",
      "Changing to logg=4.50 for T= 45698 logg=4.03\n",
      "Changing to logg=4.50 for T= 47000 logg=4.02\n",
      "Changing to logg=4.50 for T= 48473 logg=4.03\n",
      "Changing to T= 50000 for T= 50061 logg=4.04\n",
      "Changing to logg=5.00 for T= 50061 logg=4.04\n",
      "Changing to T= 50000 for T= 51618 logg=4.06\n",
      "Changing to logg=5.00 for T= 51618 logg=4.06\n",
      "Changing to T= 50000 for T= 53015 logg=4.07\n",
      "Changing to logg=5.00 for T= 53015 logg=4.07\n",
      "Changing to T= 50000 for T= 53691 logg=4.07\n",
      "Changing to logg=5.00 for T= 53691 logg=4.07\n",
      "Changing to T= 50000 for T= 54013 logg=4.06\n",
      "Changing to logg=5.00 for T= 54013 logg=4.06\n",
      "Changing to T= 50000 for T= 53839 logg=4.03\n",
      "Changing to logg=5.00 for T= 53839 logg=4.03\n",
      "Changing to T= 50000 for T= 53395 logg=4.00\n",
      "Changing to logg=5.00 for T= 53395 logg=4.00\n",
      "Changing to T= 50000 for T= 52420 logg=3.96\n",
      "Changing to logg=5.00 for T= 52420 logg=3.96\n",
      "Changing to T= 50000 for T= 51582 logg=3.93\n",
      "Changing to logg=5.00 for T= 51582 logg=3.93\n",
      "Changing to T= 50000 for T= 50385 logg=3.88\n",
      "Changing to logg=5.00 for T= 50385 logg=3.88\n",
      "Changing to logg=4.00 for T= 35156 logg=3.79\n",
      "Isochrone generation took 70.893067 s.\n",
      "Making photometry for isochrone: log(t) = 6.18  AKs = 0.00  dist = 410\n",
      "     Starting at:  2024-07-10 08:57:35.731652   Usually takes ~5 minutes\n",
      "Starting filter: jwst,F115W   Elapsed time: 0.00 seconds\n",
      "Starting synthetic photometry\n",
      "M =   0.070 Msun  T =  2901 K  m_jwst_F115W = 14.59\n",
      "M =   1.997 Msun  T =  4996 K  m_jwst_F115W = 9.90\n",
      "M =   3.157 Msun  T =  5502 K  m_jwst_F115W = 8.72\n",
      "M =   3.711 Msun  T =  6982 K  m_jwst_F115W = 7.47\n",
      "M =   4.115 Msun  T = 12325 K  m_jwst_F115W = 7.69\n",
      "M =   4.252 Msun  T = 14747 K  m_jwst_F115W = 8.00\n",
      "M =   4.443 Msun  T = 15574 K  m_jwst_F115W = 8.14\n",
      "M =   4.485 Msun  T = 16222 K  m_jwst_F115W = 8.08\n",
      "M =   4.522 Msun  T = 16792 K  m_jwst_F115W = 8.04\n",
      "M =   4.784 Msun  T = 17346 K  m_jwst_F115W = 8.05\n",
      "M =   5.185 Msun  T = 18205 K  m_jwst_F115W = 7.89\n",
      "M =   6.065 Msun  T = 19925 K  m_jwst_F115W = 7.56\n",
      "M =  31.500 Msun  T = 39310 K  m_jwst_F115W = 4.17\n",
      "Starting filter: jwst,F200W   Elapsed time: 26.19 seconds\n",
      "Starting synthetic photometry\n",
      "M =   0.070 Msun  T =  2901 K  m_jwst_F200W = 13.78\n",
      "M =   1.997 Msun  T =  4996 K  m_jwst_F200W = 9.20\n",
      "M =   3.157 Msun  T =  5502 K  m_jwst_F200W = 8.17\n",
      "M =   3.711 Msun  T =  6982 K  m_jwst_F200W = 7.24\n",
      "M =   4.115 Msun  T = 12325 K  m_jwst_F200W = 7.76\n",
      "M =   4.252 Msun  T = 14747 K  m_jwst_F200W = 8.10\n",
      "M =   4.443 Msun  T = 15574 K  m_jwst_F200W = 8.25\n",
      "M =   4.485 Msun  T = 16222 K  m_jwst_F200W = 8.19\n",
      "M =   4.522 Msun  T = 16792 K  m_jwst_F200W = 8.16\n",
      "M =   4.784 Msun  T = 17346 K  m_jwst_F200W = 8.18\n",
      "M =   5.185 Msun  T = 18205 K  m_jwst_F200W = 8.02\n",
      "M =   6.065 Msun  T = 19925 K  m_jwst_F200W = 7.71\n",
      "M =  31.500 Msun  T = 39310 K  m_jwst_F200W = 4.41\n",
      "      Time taken: 52.36 seconds\n",
      "isochrone generation done\n"
     ]
    },
    {
     "ename": "KeyError",
     "evalue": "'m_jwst_F200W'",
     "output_type": "error",
     "traceback": [
      "\u001b[0;31m---------------------------------------------------------------------------\u001b[0m",
      "\u001b[0;31mKeyError\u001b[0m                                  Traceback (most recent call last)",
      "\u001b[0;32m<ipython-input-9-33dd9d39b188>\u001b[0m in \u001b[0;36m<module>\u001b[0;34m\u001b[0m\n\u001b[0;32m----> 1\u001b[0;31m \u001b[0mcmd_generator\u001b[0m\u001b[0;34m.\u001b[0m\u001b[0mgenerate_cmd\u001b[0m\u001b[0;34m(\u001b[0m\u001b[0mAKs\u001b[0m\u001b[0;34m,\u001b[0m \u001b[0mdist\u001b[0m\u001b[0;34m,\u001b[0m \u001b[0mevo_model\u001b[0m\u001b[0;34m,\u001b[0m \u001b[0matm_func\u001b[0m\u001b[0;34m,\u001b[0m \u001b[0mred_law\u001b[0m\u001b[0;34m,\u001b[0m \u001b[0mfilt_list\u001b[0m\u001b[0;34m,\u001b[0m \u001b[0mfilters\u001b[0m\u001b[0;34m,\u001b[0m \u001b[0miso_dir\u001b[0m\u001b[0;34m,\u001b[0m \u001b[0mmetallicity\u001b[0m\u001b[0;34m,\u001b[0m \u001b[0mnbody_path\u001b[0m\u001b[0;34m)\u001b[0m\u001b[0;34m\u001b[0m\u001b[0;34m\u001b[0m\u001b[0m\n\u001b[0m",
      "\u001b[0;32m/scratch/wyz5rge/synthetic-hr/cmd_generator/cmd_generator.py\u001b[0m in \u001b[0;36mgenerate_cmd\u001b[0;34m(AKs, dist, evo_model, atm_func, red_law, filt_list, filters, iso_dir, metallicity, nbody_path)\u001b[0m\n\u001b[1;32m     81\u001b[0m     \u001b[0mpy\u001b[0m\u001b[0;34m.\u001b[0m\u001b[0msubplot\u001b[0m\u001b[0;34m(\u001b[0m\u001b[0;36m1\u001b[0m\u001b[0;34m,\u001b[0m \u001b[0;36m2\u001b[0m\u001b[0;34m,\u001b[0m \u001b[0;36m1\u001b[0m\u001b[0;34m)\u001b[0m\u001b[0;34m\u001b[0m\u001b[0;34m\u001b[0m\u001b[0m\n\u001b[1;32m     82\u001b[0m \u001b[0;34m\u001b[0m\u001b[0m\n\u001b[0;32m---> 83\u001b[0;31m     \u001b[0mplot_iso_grid\u001b[0m\u001b[0;34m(\u001b[0m\u001b[0miso_grid\u001b[0m\u001b[0;34m,\u001b[0m \u001b[0mlog_age_arr\u001b[0m\u001b[0;34m,\u001b[0m \u001b[0mlevel_age_arr\u001b[0m\u001b[0;34m,\u001b[0m \u001b[0mfilters\u001b[0m\u001b[0;34m)\u001b[0m\u001b[0;34m\u001b[0m\u001b[0;34m\u001b[0m\u001b[0m\n\u001b[0m\u001b[1;32m     84\u001b[0m \u001b[0;34m\u001b[0m\u001b[0m\n\u001b[1;32m     85\u001b[0m     \u001b[0mlevel_ages_myr\u001b[0m \u001b[0;34m=\u001b[0m \u001b[0mlevel_ages\u001b[0m \u001b[0;34m/\u001b[0m \u001b[0;36m1e6\u001b[0m\u001b[0;34m\u001b[0m\u001b[0;34m\u001b[0m\u001b[0m\n",
      "\u001b[0;32m/scratch/wyz5rge/synthetic-hr/cmd_generator/cmd_generator.py\u001b[0m in \u001b[0;36mplot_iso_grid\u001b[0;34m(iso_grid, log_age_arr, level_age_arr, filters)\u001b[0m\n\u001b[1;32m    203\u001b[0m     \u001b[0;32mfor\u001b[0m \u001b[0mi\u001b[0m \u001b[0;32min\u001b[0m \u001b[0mrange\u001b[0m\u001b[0;34m(\u001b[0m\u001b[0mlen\u001b[0m\u001b[0;34m(\u001b[0m\u001b[0mlog_age_arr\u001b[0m\u001b[0;34m)\u001b[0m\u001b[0;34m)\u001b[0m\u001b[0;34m:\u001b[0m\u001b[0;34m\u001b[0m\u001b[0;34m\u001b[0m\u001b[0m\n\u001b[1;32m    204\u001b[0m         \u001b[0mcolor\u001b[0m \u001b[0;34m=\u001b[0m \u001b[0mcmap\u001b[0m\u001b[0;34m(\u001b[0m\u001b[0mi\u001b[0m \u001b[0;34m/\u001b[0m \u001b[0;34m(\u001b[0m\u001b[0mlen\u001b[0m\u001b[0;34m(\u001b[0m\u001b[0mlog_age_arr\u001b[0m\u001b[0;34m)\u001b[0m \u001b[0;34m-\u001b[0m \u001b[0;36m1\u001b[0m\u001b[0;34m)\u001b[0m\u001b[0;34m)\u001b[0m  \u001b[0;31m# Assign color based on index and colormap\u001b[0m\u001b[0;34m\u001b[0m\u001b[0;34m\u001b[0m\u001b[0m\n\u001b[0;32m--> 205\u001b[0;31m         py.plot(iso_grid[i].points[filters[0]] - iso_grid[i].points[filters[1]], \n\u001b[0m\u001b[1;32m    206\u001b[0m             iso_grid[i].points[filters[1]], color=color, label='')\n\u001b[1;32m    207\u001b[0m \u001b[0;34m\u001b[0m\u001b[0m\n",
      "\u001b[0;32m/usr/local/lib/python3.6/dist-packages/astropy/table/table.py\u001b[0m in \u001b[0;36m__getitem__\u001b[0;34m(self, item)\u001b[0m\n\u001b[1;32m   1344\u001b[0m     \u001b[0;32mdef\u001b[0m \u001b[0m__getitem__\u001b[0m\u001b[0;34m(\u001b[0m\u001b[0mself\u001b[0m\u001b[0;34m,\u001b[0m \u001b[0mitem\u001b[0m\u001b[0;34m)\u001b[0m\u001b[0;34m:\u001b[0m\u001b[0;34m\u001b[0m\u001b[0;34m\u001b[0m\u001b[0m\n\u001b[1;32m   1345\u001b[0m         \u001b[0;32mif\u001b[0m \u001b[0misinstance\u001b[0m\u001b[0;34m(\u001b[0m\u001b[0mitem\u001b[0m\u001b[0;34m,\u001b[0m \u001b[0mstr\u001b[0m\u001b[0;34m)\u001b[0m\u001b[0;34m:\u001b[0m\u001b[0;34m\u001b[0m\u001b[0;34m\u001b[0m\u001b[0m\n\u001b[0;32m-> 1346\u001b[0;31m             \u001b[0;32mreturn\u001b[0m \u001b[0mself\u001b[0m\u001b[0;34m.\u001b[0m\u001b[0mcolumns\u001b[0m\u001b[0;34m[\u001b[0m\u001b[0mitem\u001b[0m\u001b[0;34m]\u001b[0m\u001b[0;34m\u001b[0m\u001b[0;34m\u001b[0m\u001b[0m\n\u001b[0m\u001b[1;32m   1347\u001b[0m         \u001b[0;32melif\u001b[0m \u001b[0misinstance\u001b[0m\u001b[0;34m(\u001b[0m\u001b[0mitem\u001b[0m\u001b[0;34m,\u001b[0m \u001b[0;34m(\u001b[0m\u001b[0mint\u001b[0m\u001b[0;34m,\u001b[0m \u001b[0mnp\u001b[0m\u001b[0;34m.\u001b[0m\u001b[0minteger\u001b[0m\u001b[0;34m)\u001b[0m\u001b[0;34m)\u001b[0m\u001b[0;34m:\u001b[0m\u001b[0;34m\u001b[0m\u001b[0;34m\u001b[0m\u001b[0m\n\u001b[1;32m   1348\u001b[0m             \u001b[0;32mreturn\u001b[0m \u001b[0mself\u001b[0m\u001b[0;34m.\u001b[0m\u001b[0mRow\u001b[0m\u001b[0;34m(\u001b[0m\u001b[0mself\u001b[0m\u001b[0;34m,\u001b[0m \u001b[0mitem\u001b[0m\u001b[0;34m)\u001b[0m\u001b[0;34m\u001b[0m\u001b[0;34m\u001b[0m\u001b[0m\n",
      "\u001b[0;32m/usr/local/lib/python3.6/dist-packages/astropy/table/table.py\u001b[0m in \u001b[0;36m__getitem__\u001b[0;34m(self, item)\u001b[0m\n\u001b[1;32m    188\u001b[0m         \"\"\"\n\u001b[1;32m    189\u001b[0m         \u001b[0;32mif\u001b[0m \u001b[0misinstance\u001b[0m\u001b[0;34m(\u001b[0m\u001b[0mitem\u001b[0m\u001b[0;34m,\u001b[0m \u001b[0mstr\u001b[0m\u001b[0;34m)\u001b[0m\u001b[0;34m:\u001b[0m\u001b[0;34m\u001b[0m\u001b[0;34m\u001b[0m\u001b[0m\n\u001b[0;32m--> 190\u001b[0;31m             \u001b[0;32mreturn\u001b[0m \u001b[0mOrderedDict\u001b[0m\u001b[0;34m.\u001b[0m\u001b[0m__getitem__\u001b[0m\u001b[0;34m(\u001b[0m\u001b[0mself\u001b[0m\u001b[0;34m,\u001b[0m \u001b[0mitem\u001b[0m\u001b[0;34m)\u001b[0m\u001b[0;34m\u001b[0m\u001b[0;34m\u001b[0m\u001b[0m\n\u001b[0m\u001b[1;32m    191\u001b[0m         \u001b[0;32melif\u001b[0m \u001b[0misinstance\u001b[0m\u001b[0;34m(\u001b[0m\u001b[0mitem\u001b[0m\u001b[0;34m,\u001b[0m \u001b[0;34m(\u001b[0m\u001b[0mint\u001b[0m\u001b[0;34m,\u001b[0m \u001b[0mnp\u001b[0m\u001b[0;34m.\u001b[0m\u001b[0minteger\u001b[0m\u001b[0;34m)\u001b[0m\u001b[0;34m)\u001b[0m\u001b[0;34m:\u001b[0m\u001b[0;34m\u001b[0m\u001b[0;34m\u001b[0m\u001b[0m\n\u001b[1;32m    192\u001b[0m             \u001b[0;32mreturn\u001b[0m \u001b[0mself\u001b[0m\u001b[0;34m.\u001b[0m\u001b[0mvalues\u001b[0m\u001b[0;34m(\u001b[0m\u001b[0;34m)\u001b[0m\u001b[0;34m[\u001b[0m\u001b[0mitem\u001b[0m\u001b[0;34m]\u001b[0m\u001b[0;34m\u001b[0m\u001b[0;34m\u001b[0m\u001b[0m\n",
      "\u001b[0;31mKeyError\u001b[0m: 'm_jwst_F200W'"
     ]
    },
    {
     "data": {
      "image/png": "[encoded data removed]",
      "text/plain": [
       "<Figure size 1080x720 with 1 Axes>"
      ]
     },
     "metadata": {
      "needs_background": "light"
     },
     "output_type": "display_data"
    }
   ],
   "source": [
    "cmd_generator.generate_cmd(AKs, dist, evo_model, atm_func, red_law, filt_list, filters, iso_dir, metallicity, nbody_path)"
   ]
  },
  {
   "cell_type": "code",
   "execution_count": 3,
   "id": "351fb8d9",
   "metadata": {},
   "outputs": [],
   "source": [
    "evo_model = evolution.MergedLowMassBaraffePisaEkstromParsec()\n",
    "cmd_generator.generate_cmd(AKs, dist, evo_model, atm_func, red_law, filt_list, filters, iso_dir, metallicity, nbody_path)"
   ]
  },
  {
   "cell_type": "code",
   "execution_count": null,
   "id": "3b033912",
   "metadata": {},
   "outputs": [],
   "source": []
  }
 ],
 "metadata": {
  "kernelspec": {
   "display_name": "Python 3",
   "language": "python",
   "name": "python3"
  },
  "language_info": {
   "codemirror_mode": {
    "name": "ipython",
    "version": 3
   },
   "file_extension": ".py",
   "mimetype": "text/x-python",
   "name": "python",
   "nbconvert_exporter": "python",
   "pygments_lexer": "ipython3",
   "version": "3.6.9"
  }
 },
 "nbformat": 4,
 "nbformat_minor": 5
}
