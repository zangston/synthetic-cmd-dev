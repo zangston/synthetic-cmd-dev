{
 "cells": [
  {
   "cell_type": "code",
   "execution_count": 1,
   "id": "d00b5fde",
   "metadata": {},
   "outputs": [],
   "source": [
    "import numpy as np\n",
    "import pylab as py\n",
    "import matplotlib.pyplot as plt"
   ]
  },
  {
   "cell_type": "code",
   "execution_count": 2,
   "id": "f5689622",
   "metadata": {},
   "outputs": [],
   "source": [
    "e_ff_sigma1p0 = [0.03, 0.1, 0.3, 1.0]\n",
    "spread_sigma1p0 = [0.3688, 0.3455, 0.3282, 0.3301]\n",
    "\n",
    "e_ff_sigma0p1 = [0.3, 1.0]\n",
    "spread_sigma0p1 = [0.3682, 0.3321]"
   ]
  },
  {
   "cell_type": "code",
   "execution_count": 5,
   "id": "8f07bef9",
   "metadata": {},
   "outputs": [
    {
     "data": {
      "text/plain": [
       "<matplotlib.legend.Legend at 0x7fe2ae6df9a0>"
      ]
     },
     "execution_count": 5,
     "metadata": {},
     "output_type": "execute_result"
    },
    {
     "data": {
      "image/png": "[encoded data removed]",
      "text/plain": [
       "<Figure size 432x288 with 1 Axes>"
      ]
     },
     "metadata": {
      "needs_background": "light"
     },
     "output_type": "display_data"
    }
   ],
   "source": [
    "plt.scatter(e_ff_sigma1p0, spread_sigma1p0, color='blue', marker='o', label='sigma = 1.0')\n",
    "plt.scatter(e_ff_sigma0p1, spread_sigma0p1, color='orange', marker='s', label='sigma = 0.1')\n",
    "plt.legend()"
   ]
  },
  {
   "cell_type": "code",
   "execution_count": null,
   "id": "92bb2af4",
   "metadata": {},
   "outputs": [],
   "source": []
  }
 ],
 "metadata": {
  "kernelspec": {
   "display_name": "Python 3",
   "language": "python",
   "name": "python3"
  },
  "language_info": {
   "codemirror_mode": {
    "name": "ipython",
    "version": 3
   },
   "file_extension": ".py",
   "mimetype": "text/x-python",
   "name": "python",
   "nbconvert_exporter": "python",
   "pygments_lexer": "ipython3",
   "version": "3.9.12"
  }
 },
 "nbformat": 4,
 "nbformat_minor": 5
}
