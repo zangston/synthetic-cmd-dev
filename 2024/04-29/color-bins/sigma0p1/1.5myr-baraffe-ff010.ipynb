{
 "cells": [
  {
   "cell_type": "code",
   "execution_count": 4,
   "id": "f502fb46",
   "metadata": {},
   "outputs": [],
   "source": [
    "# import packages\n",
    "import numpy as np\n",
    "import pylab as py\n",
    "import pdb\n",
    "import matplotlib.pyplot as plt\n",
    "import math\n",
    "\n",
    "# import spisea packages\n",
    "from spisea import synthetic, evolution, atmospheres, reddening, ifmr\n",
    "from spisea.imf import imf, multiplicity\n",
    "\n",
    "# import nbody6tools reader to read data\n",
    "from nbody6tools import Reader\n",
    "\n",
    "# import nbody62spisea to retrieve star ages\n",
    "from nbody62spisea import converter"
   ]
  },
  {
   "cell_type": "markdown",
   "id": "47a50142",
   "metadata": {},
   "source": [
    "## Set up parameters, create isochrone grid"
   ]
  },
  {
   "cell_type": "code",
   "execution_count": 5,
   "id": "a31a48cc",
   "metadata": {},
   "outputs": [],
   "source": [
    "# define isochrone parameters\n",
    "AKs = 0\n",
    "dist = 410\n",
    "evo_model = evolution.Baraffe15()\n",
    "atm_func = atmospheres.get_merged_atmosphere\n",
    "red_law = reddening.RedLawHosek18b()\n",
    "filt_list = ['jwst,F115W', 'jwst,F200W']\n",
    "filters = ['m_jwst_F115W', 'm_jwst_F200W']\n",
    "iso_dir = 'isochrones/'\n",
    "metallicity = 0"
   ]
  },
  {
   "cell_type": "markdown",
   "id": "3b030d5f",
   "metadata": {},
   "source": [
    "# Select nbody6 simulation and snapshot, then convert to physical units and save as a cluster table which SPISEA can interface with"
   ]
  },
  {
   "cell_type": "code",
   "execution_count": 6,
   "id": "914306ff",
   "metadata": {},
   "outputs": [
    {
     "name": "stdout",
     "output_type": "stream",
     "text": [
      "        mass        isMultiple        compMass        ...       log_a                age         \n",
      "------------------- ---------- ---------------------- ... ------------------ --------------------\n",
      "0.15096078541083344        0.0                     [] ...                nan   0.7470263549595507\n",
      "0.09394931604727758        0.0                     [] ...                nan   0.7463078300432294\n",
      " 0.0668809520665543        0.0                     [] ...                nan   1.3466044267280992\n",
      " 0.1645604705657011        0.0                     [] ...                nan   1.2859551425556237\n",
      "                ...        ...                    ... ...                ...                  ...\n",
      "0.06648969650456821        1.0 [0.024885995114075087] ... 3.5993478130532326 0.010166664911444245\n",
      " 2.4384761568686355        1.0   [1.1334479382157505] ...  3.340689776541479    0.847681785047662\n",
      " 26.110742572762337        1.0   [3.0476010223008276] ... 3.5670377728930966    1.227727782885576\n",
      " 0.5106591249504879        1.0   [0.2868005245643742] ... 2.4617560553309756   0.8695369179191011\n",
      "Length = 1991 rows\n"
     ]
    }
   ],
   "source": [
    "# read nbody data\n",
    "path_to_data = '../../../../../../../storage/jfarias/Data/Orion/newbinaries/M3000sigma0.1/sfeff010_00/'\n",
    "snapshot = Reader.read_snapshot(path_to_data, time = 1.5)\n",
    "\n",
    "# convert snapshot values from nbody units to astrophysical, extract masses\n",
    "snapshot.to_physical()\n",
    "cluster_table = converter.to_spicea_table(snapshot)\n",
    "\n",
    "print(cluster_table)"
   ]
  },
  {
   "cell_type": "markdown",
   "id": "b37a1992",
   "metadata": {},
   "source": [
    "# Read ages of stars, identify bracketing ages for isochrone generation\n",
    "Also save mass of stars"
   ]
  },
  {
   "cell_type": "code",
   "execution_count": 7,
   "id": "414092e8",
   "metadata": {},
   "outputs": [
    {
     "name": "stdout",
     "output_type": "stream",
     "text": [
      "Min log age = 3.206943786422311\n",
      "Max log age = 6.181335409408618\n",
      "Min level age = 1610.437172262058\n",
      "Max level age = 1518222.451210022\n"
     ]
    }
   ],
   "source": [
    "masses = cluster_table['mass']\n",
    "level_ages = cluster_table['age']\n",
    "\n",
    "for i in range(len(level_ages)):\n",
    "    level_ages[i] = level_ages[i] * 1e6\n",
    "\n",
    "# convert log ages from log(Myr) to log(yr)\n",
    "log_ages = np.log10(level_ages)\n",
    "\n",
    "# print(log_ages)\n",
    "print(\"Min log age = \" + str(min(log_ages)))\n",
    "print(\"Max log age = \" + str(max(log_ages)))\n",
    "\n",
    "# print(level_ages)\n",
    "print(\"Min level age = \" + str(min(level_ages)))\n",
    "print(\"Max level age = \" + str(max(level_ages)))"
   ]
  },
  {
   "cell_type": "markdown",
   "id": "f76a142f",
   "metadata": {},
   "source": [
    "# Identify binary stars in cluster table, save mass of companion stars\n",
    "\n",
    "Cluster table always lists binaries last, so finding the index of the first binary suffices"
   ]
  },
  {
   "cell_type": "code",
   "execution_count": 8,
   "id": "798d3391",
   "metadata": {},
   "outputs": [],
   "source": [
    "# find index of first binary, create array of companion masses\n",
    "first_binary = 0\n",
    "for i in range(len(cluster_table)):\n",
    "    if cluster_table['isMultiple'][i] == 1.0:\n",
    "        first_binary = i\n",
    "        break\n",
    "# print(first_binary)\n",
    "\n",
    "compMasses = []\n",
    "for i in range(len(cluster_table)):\n",
    "    if cluster_table['isMultiple'][i] == 1.0:\n",
    "        compMasses.append(cluster_table['compMass'][i][0])\n",
    "# print(compMasses)"
   ]
  },
  {
   "cell_type": "markdown",
   "id": "bffd9a10",
   "metadata": {},
   "source": [
    "# Generate isochrones using parameter and age arrays"
   ]
  },
  {
   "cell_type": "code",
   "execution_count": 9,
   "id": "33872a7f",
   "metadata": {},
   "outputs": [
    {
     "name": "stdout",
     "output_type": "stream",
     "text": [
      "[      -inf 5.69897    6.         6.17609126 6.30103   ]\n",
      "[      0.  500000. 1000000. 1500000. 2000000.]\n"
     ]
    },
    {
     "name": "stderr",
     "output_type": "stream",
     "text": [
      "/tmp/ipykernel_10493/2330829363.py:7: RuntimeWarning: divide by zero encountered in log10\n",
      "  log_age_arr = np.log10(level_age_arr)\n"
     ]
    }
   ],
   "source": [
    "increment = 0.5e6\n",
    "start = (min(level_ages) // increment) * increment\n",
    "end = (max(level_ages) // increment) * increment + 2 * increment\n",
    "\n",
    "# Create age arrays\n",
    "level_age_arr = np.arange(start, end, increment)\n",
    "log_age_arr = np.log10(level_age_arr)\n",
    "\n",
    "print(log_age_arr)\n",
    "print(level_age_arr)"
   ]
  },
  {
   "cell_type": "code",
   "execution_count": 10,
   "id": "f18a2b6d",
   "metadata": {
    "scrolled": true
   },
   "outputs": [
    {
     "ename": "ValueError",
     "evalue": "math domain error",
     "output_type": "error",
     "traceback": [
      "\u001b[0;31m---------------------------------------------------------------------------\u001b[0m",
      "\u001b[0;31mValueError\u001b[0m                                Traceback (most recent call last)",
      "Input \u001b[0;32mIn [10]\u001b[0m, in \u001b[0;36m<cell line: 4>\u001b[0;34m()\u001b[0m\n\u001b[1;32m      2\u001b[0m instances \u001b[38;5;241m=\u001b[39m np\u001b[38;5;241m.\u001b[39mempty(\u001b[38;5;28mlen\u001b[39m(log_age_arr), dtype\u001b[38;5;241m=\u001b[39m\u001b[38;5;28mobject\u001b[39m)\n\u001b[1;32m      4\u001b[0m \u001b[38;5;28;01mfor\u001b[39;00m i \u001b[38;5;129;01min\u001b[39;00m \u001b[38;5;28mrange\u001b[39m(\u001b[38;5;28mlen\u001b[39m(log_age_arr)):\n\u001b[0;32m----> 5\u001b[0m     my_iso \u001b[38;5;241m=\u001b[39m \u001b[43msynthetic\u001b[49m\u001b[38;5;241;43m.\u001b[39;49m\u001b[43mIsochronePhot\u001b[49m\u001b[43m(\u001b[49m\u001b[43mlog_age_arr\u001b[49m\u001b[43m[\u001b[49m\u001b[43mi\u001b[49m\u001b[43m]\u001b[49m\u001b[43m,\u001b[49m\u001b[43m \u001b[49m\u001b[43mAKs\u001b[49m\u001b[43m,\u001b[49m\u001b[43m \u001b[49m\u001b[43mdist\u001b[49m\u001b[43m,\u001b[49m\u001b[43m \u001b[49m\u001b[43mmetallicity\u001b[49m\u001b[38;5;241;43m=\u001b[39;49m\u001b[43mmetallicity\u001b[49m\u001b[43m,\u001b[49m\n\u001b[1;32m      6\u001b[0m \u001b[43m                            \u001b[49m\u001b[43mevo_model\u001b[49m\u001b[38;5;241;43m=\u001b[39;49m\u001b[43mevo_model\u001b[49m\u001b[43m,\u001b[49m\u001b[43m \u001b[49m\u001b[43matm_func\u001b[49m\u001b[38;5;241;43m=\u001b[39;49m\u001b[43matm_func\u001b[49m\u001b[43m,\u001b[49m\n\u001b[1;32m      7\u001b[0m \u001b[43m                            \u001b[49m\u001b[43mred_law\u001b[49m\u001b[38;5;241;43m=\u001b[39;49m\u001b[43mred_law\u001b[49m\u001b[43m,\u001b[49m\u001b[43m \u001b[49m\u001b[43mfilters\u001b[49m\u001b[38;5;241;43m=\u001b[39;49m\u001b[43mfilt_list\u001b[49m\u001b[43m,\u001b[49m\n\u001b[1;32m      8\u001b[0m \u001b[43m                                \u001b[49m\u001b[43miso_dir\u001b[49m\u001b[38;5;241;43m=\u001b[39;49m\u001b[43miso_dir\u001b[49m\u001b[43m)\u001b[49m\n\u001b[1;32m      9\u001b[0m     instances[i] \u001b[38;5;241m=\u001b[39m my_iso\n\u001b[1;32m     11\u001b[0m \u001b[38;5;28mprint\u001b[39m(\u001b[38;5;124m\"\u001b[39m\u001b[38;5;124misochrone generation done\u001b[39m\u001b[38;5;124m\"\u001b[39m)\n",
      "File \u001b[0;32m/scratch/wyz5rge/SPISEA/spisea/synthetic.py:1093\u001b[0m, in \u001b[0;36mIsochronePhot.__init__\u001b[0;34m(self, logAge, AKs, distance, metallicity, evo_model, atm_func, wd_atm_func, wave_range, red_law, mass_sampling, iso_dir, min_mass, max_mass, rebin, recomp, filters)\u001b[0m\n\u001b[1;32m   1091\u001b[0m \u001b[38;5;28;01mif\u001b[39;00m (\u001b[38;5;129;01mnot\u001b[39;00m file_exists) \u001b[38;5;241m|\u001b[39m (recomp\u001b[38;5;241m==\u001b[39m\u001b[38;5;28;01mTrue\u001b[39;00m):\n\u001b[1;32m   1092\u001b[0m     \u001b[38;5;28mself\u001b[39m\u001b[38;5;241m.\u001b[39mrecalc \u001b[38;5;241m=\u001b[39m \u001b[38;5;28;01mTrue\u001b[39;00m\n\u001b[0;32m-> 1093\u001b[0m     \u001b[43mIsochrone\u001b[49m\u001b[38;5;241;43m.\u001b[39;49m\u001b[38;5;21;43m__init__\u001b[39;49m\u001b[43m(\u001b[49m\u001b[38;5;28;43mself\u001b[39;49m\u001b[43m,\u001b[49m\u001b[43m \u001b[49m\u001b[43mlogAge\u001b[49m\u001b[43m,\u001b[49m\u001b[43m \u001b[49m\u001b[43mAKs\u001b[49m\u001b[43m,\u001b[49m\u001b[43m \u001b[49m\u001b[43mdistance\u001b[49m\u001b[43m,\u001b[49m\n\u001b[1;32m   1094\u001b[0m \u001b[43m                       \u001b[49m\u001b[43mmetallicity\u001b[49m\u001b[38;5;241;43m=\u001b[39;49m\u001b[43mmetallicity\u001b[49m\u001b[43m,\u001b[49m\n\u001b[1;32m   1095\u001b[0m \u001b[43m                       \u001b[49m\u001b[43mevo_model\u001b[49m\u001b[38;5;241;43m=\u001b[39;49m\u001b[43mevo_model\u001b[49m\u001b[43m,\u001b[49m\u001b[43m \u001b[49m\u001b[43matm_func\u001b[49m\u001b[38;5;241;43m=\u001b[39;49m\u001b[43matm_func\u001b[49m\u001b[43m,\u001b[49m\n\u001b[1;32m   1096\u001b[0m \u001b[43m                       \u001b[49m\u001b[43mwd_atm_func\u001b[49m\u001b[38;5;241;43m=\u001b[39;49m\u001b[43mwd_atm_func\u001b[49m\u001b[43m,\u001b[49m\n\u001b[1;32m   1097\u001b[0m \u001b[43m                       \u001b[49m\u001b[43mwave_range\u001b[49m\u001b[38;5;241;43m=\u001b[39;49m\u001b[43mwave_range\u001b[49m\u001b[43m,\u001b[49m\n\u001b[1;32m   1098\u001b[0m \u001b[43m                       \u001b[49m\u001b[43mred_law\u001b[49m\u001b[38;5;241;43m=\u001b[39;49m\u001b[43mred_law\u001b[49m\u001b[43m,\u001b[49m\u001b[43m \u001b[49m\u001b[43mmass_sampling\u001b[49m\u001b[38;5;241;43m=\u001b[39;49m\u001b[43mmass_sampling\u001b[49m\u001b[43m,\u001b[49m\n\u001b[1;32m   1099\u001b[0m \u001b[43m                       \u001b[49m\u001b[43mmin_mass\u001b[49m\u001b[38;5;241;43m=\u001b[39;49m\u001b[43mmin_mass\u001b[49m\u001b[43m,\u001b[49m\u001b[43m \u001b[49m\u001b[43mmax_mass\u001b[49m\u001b[38;5;241;43m=\u001b[39;49m\u001b[43mmax_mass\u001b[49m\u001b[43m,\u001b[49m\u001b[43m \u001b[49m\u001b[43mrebin\u001b[49m\u001b[38;5;241;43m=\u001b[39;49m\u001b[43mrebin\u001b[49m\u001b[43m)\u001b[49m\n\u001b[1;32m   1100\u001b[0m     \u001b[38;5;28mself\u001b[39m\u001b[38;5;241m.\u001b[39mverbose \u001b[38;5;241m=\u001b[39m \u001b[38;5;28;01mTrue\u001b[39;00m\n\u001b[1;32m   1102\u001b[0m     \u001b[38;5;66;03m# Make photometry\u001b[39;00m\n",
      "File \u001b[0;32m/scratch/wyz5rge/SPISEA/spisea/synthetic.py:834\u001b[0m, in \u001b[0;36mIsochrone.__init__\u001b[0;34m(self, logAge, AKs, distance, metallicity, evo_model, atm_func, wd_atm_func, red_law, mass_sampling, wave_range, min_mass, max_mass, rebin)\u001b[0m\n\u001b[1;32m    830\u001b[0m     \u001b[38;5;28;01mreturn\u001b[39;00m\n\u001b[1;32m    832\u001b[0m \u001b[38;5;66;03m# Get solar metallicity models for a population at a specific age.\u001b[39;00m\n\u001b[1;32m    833\u001b[0m \u001b[38;5;66;03m# Takes about 0.1 seconds.\u001b[39;00m\n\u001b[0;32m--> 834\u001b[0m evol \u001b[38;5;241m=\u001b[39m \u001b[43mevo_model\u001b[49m\u001b[38;5;241;43m.\u001b[39;49m\u001b[43misochrone\u001b[49m\u001b[43m(\u001b[49m\u001b[43mage\u001b[49m\u001b[38;5;241;43m=\u001b[39;49m\u001b[38;5;241;43m10\u001b[39;49m\u001b[38;5;241;43m*\u001b[39;49m\u001b[38;5;241;43m*\u001b[39;49m\u001b[43mlogAge\u001b[49m\u001b[43m,\u001b[49m\n\u001b[1;32m    835\u001b[0m \u001b[43m                           \u001b[49m\u001b[43mmetallicity\u001b[49m\u001b[38;5;241;43m=\u001b[39;49m\u001b[43mmetallicity\u001b[49m\u001b[43m)\u001b[49m\n\u001b[1;32m    837\u001b[0m \u001b[38;5;66;03m# Eliminate cases where log g is less than 0\u001b[39;00m\n\u001b[1;32m    838\u001b[0m idx \u001b[38;5;241m=\u001b[39m np\u001b[38;5;241m.\u001b[39mwhere(evol[\u001b[38;5;124m'\u001b[39m\u001b[38;5;124mlogg\u001b[39m\u001b[38;5;124m'\u001b[39m] \u001b[38;5;241m>\u001b[39m \u001b[38;5;241m0\u001b[39m)\n",
      "File \u001b[0;32m/scratch/wyz5rge/SPISEA/spisea/evolution.py:671\u001b[0m, in \u001b[0;36mBaraffe15.isochrone\u001b[0;34m(self, age, metallicity)\u001b[0m\n\u001b[1;32m    668\u001b[0m \u001b[38;5;66;03m# convert metallicity to mass fraction\u001b[39;00m\n\u001b[1;32m    669\u001b[0m  z_defined \u001b[38;5;241m=\u001b[39m \u001b[38;5;28mself\u001b[39m\u001b[38;5;241m.\u001b[39mz_solar\u001b[38;5;241m*\u001b[39m\u001b[38;5;241m10.\u001b[39m\u001b[38;5;241m*\u001b[39m\u001b[38;5;241m*\u001b[39mmetallicity\n\u001b[0;32m--> 671\u001b[0m  log_age \u001b[38;5;241m=\u001b[39m \u001b[43mmath\u001b[49m\u001b[38;5;241;43m.\u001b[39;49m\u001b[43mlog10\u001b[49m\u001b[43m(\u001b[49m\u001b[43mage\u001b[49m\u001b[43m)\u001b[49m\n\u001b[1;32m    673\u001b[0m  \u001b[38;5;66;03m# check age and metallicity are within bounds\u001b[39;00m\n\u001b[1;32m    674\u001b[0m  \u001b[38;5;28;01mif\u001b[39;00m ((log_age \u001b[38;5;241m<\u001b[39m np\u001b[38;5;241m.\u001b[39mmin(\u001b[38;5;28mself\u001b[39m\u001b[38;5;241m.\u001b[39mage_list)) \u001b[38;5;129;01mor\u001b[39;00m (log_age \u001b[38;5;241m>\u001b[39m np\u001b[38;5;241m.\u001b[39mmax(\u001b[38;5;28mself\u001b[39m\u001b[38;5;241m.\u001b[39mage_list))):\n",
      "\u001b[0;31mValueError\u001b[0m: math domain error"
     ]
    }
   ],
   "source": [
    "# create isochrone grid - if this is the first time, then this is going to take an hour lmfao\n",
    "instances = np.empty(len(log_age_arr), dtype=object)\n",
    "\n",
    "for i in range(len(log_age_arr)):\n",
    "    my_iso = synthetic.IsochronePhot(log_age_arr[i], AKs, dist, metallicity=metallicity,\n",
    "                            evo_model=evo_model, atm_func=atm_func,\n",
    "                            red_law=red_law, filters=filt_list,\n",
    "                                iso_dir=iso_dir)\n",
    "    instances[i] = my_iso\n",
    "        \n",
    "print(\"isochrone generation done\")"
   ]
  },
  {
   "cell_type": "code",
   "execution_count": null,
   "id": "25789b2a",
   "metadata": {},
   "outputs": [],
   "source": [
    "# identify array indeces, create array for labels and colors\n",
    "idx_arr = range(0, len(log_age_arr))\n",
    "if len(idx_arr) > 3:\n",
    "    idx_arr = idx_arr[::2]\n",
    "\n",
    "# Plot CMD\n",
    "fig, axes = py.subplots(figsize=(15, 10))\n",
    "py.subplot(1, 2, 1)\n",
    "'''\n",
    "for i in range(len(idx_arr)):\n",
    "    idx = idx_arr[i]\n",
    "    if i == 0:\n",
    "        py.plot(instances[idx].points[filters[0]] - instances[idx].points[filters[1]], \n",
    "           instances[idx].points[filters[1]], 'lightcoral', label=level_age_arr[i])\n",
    "    elif i == len(idx_arr) - 1:\n",
    "        py.plot(instances[idx].points[filters[0]] - instances[idx].points[filters[1]], \n",
    "           instances[idx].points[filters[1]], 'darkred', label=level_age_arr[i])\n",
    "    else:\n",
    "        py.plot(instances[idx].points[filters[0]] - instances[idx].points[filters[1]], \n",
    "           instances[idx].points[filters[1]], 'red', label='')\n",
    "'''\n",
    "for i in range(len(log_age_arr)):\n",
    "    if i == 0:\n",
    "        py.plot(instances[i].points[filters[0]] - instances[i].points[filters[1]], \n",
    "           instances[i].points[filters[1]], 'lightcoral', label=level_age_arr[i])\n",
    "    elif i == len(log_age_arr) - 1:\n",
    "        py.plot(instances[i].points[filters[0]] - instances[i].points[filters[1]], \n",
    "           instances[i].points[filters[1]], 'darkred', label=level_age_arr[i])\n",
    "    else:\n",
    "        py.plot(instances[i].points[filters[0]] - instances[i].points[filters[1]], \n",
    "           instances[i].points[filters[1]], 'red', label='')\n",
    "    \n",
    "py.xlabel('F115W - F200W')\n",
    "py.ylabel('F200W')\n",
    "py.gca().invert_yaxis()\n",
    "py.legend()"
   ]
  },
  {
   "cell_type": "markdown",
   "id": "e40f7b0c",
   "metadata": {},
   "source": [
    "# Use generated SPISEA isochrones to find interpolated magnitudes using the age and mass of each star\n",
    "\n",
    "Stars outside of the mass range of isochrones are thrown out and not included"
   ]
  },
  {
   "cell_type": "code",
   "execution_count": null,
   "id": "c106bef2",
   "metadata": {},
   "outputs": [],
   "source": [
    "import sys\n",
    "sys.path.append('/scratch/wyz5rge/synthetic-hr/')\n",
    "import interpolator as interpolator\n",
    "\n",
    "level_ages_myr = level_ages / 1e6\n",
    "# print(level_ages_myr)\n",
    "\n",
    "# create array of stars\n",
    "stars = np.empty(len(cluster_table), dtype=object)\n",
    "\n",
    "# perform interpolation for each star\n",
    "for i in range(len(stars)):\n",
    "    # print(str(i) + \" \" + str(level_ages_myr[i]) + \" \" + str(masses[i]))\n",
    "    stars[i] = interpolator.interpolate(level_ages_myr[i], masses[i], instances, log_age_arr, filters)\n",
    "    \n",
    "# convert luminosity values to solar luminosities\n",
    "watts_to_lsun = 1.0 / (3.846e26) # conversion factor for watts to Lsun\n",
    "\n",
    "for i in range(len(stars)):\n",
    "    if stars[i] is None:\n",
    "        continue\n",
    "    stars[i][0] = stars[i][0] * watts_to_lsun\n",
    "    \n",
    "# for i in range(len(stars)):\n",
    "    # print(stars[i])"
   ]
  },
  {
   "cell_type": "markdown",
   "id": "8b1415b5",
   "metadata": {},
   "source": [
    "# Repeat interpolation on companion stars\n",
    "\n",
    "Companion stars assumed to be the same age as primary star within system"
   ]
  },
  {
   "cell_type": "code",
   "execution_count": null,
   "id": "d32c42c5",
   "metadata": {},
   "outputs": [],
   "source": [
    "# perform interpolation on companion stars\n",
    "companions = np.empty(len(compMasses), dtype=object)\n",
    "\n",
    "for i in range(len(companions)):\n",
    "    if stars[i + first_binary] is None:\n",
    "        continue\n",
    "    companions[i] = interpolator.interpolate(level_ages_myr[i + first_binary], compMasses[i], instances, log_age_arr, filters)\n",
    "\n",
    "for i in range(len(companions)):\n",
    "    if companions[i] is None:\n",
    "        continue\n",
    "    companions[i][0] = companions[i][0] * watts_to_lsun\n"
   ]
  },
  {
   "cell_type": "markdown",
   "id": "64ca5e18",
   "metadata": {},
   "source": [
    "# Superimpose primary stars and companion stars against isochrones separately"
   ]
  },
  {
   "cell_type": "code",
   "execution_count": null,
   "id": "d2e445ab",
   "metadata": {},
   "outputs": [],
   "source": [
    "# plot primaries and companions separately\n",
    "fig, axes = py.subplots(figsize=(15, 10))\n",
    "\n",
    "# plot primaries\n",
    "py.subplot(1, 2, 1)\n",
    "for i in range(len(log_age_arr)):\n",
    "    if i == 0:\n",
    "        py.plot(instances[i].points[filters[0]] - instances[i].points[filters[1]], \n",
    "           instances[i].points[filters[1]], 'lightcoral', label=level_age_arr[i])\n",
    "    elif i == len(log_age_arr) - 1:\n",
    "        py.plot(instances[i].points[filters[0]] - instances[i].points[filters[1]], \n",
    "           instances[i].points[filters[1]], 'darkred', label=level_age_arr[i])\n",
    "    else:\n",
    "        py.plot(instances[i].points[filters[0]] - instances[i].points[filters[1]], \n",
    "           instances[i].points[filters[1]], 'red', label='')\n",
    "    \n",
    "for i in range(0, first_binary):\n",
    "    if stars[i] is None:\n",
    "        continue\n",
    "    py.plot(stars[i][3] - stars[i][4], stars[i][4], marker='o', markersize=1, color='k')\n",
    "    \n",
    "py.xlabel('F115W - F182M')\n",
    "py.ylabel('F182M')\n",
    "py.gca().invert_yaxis()\n",
    "py.title('CMD of primary stars only')\n",
    "py.legend()\n",
    "\n",
    "# plot companions\n",
    "py.subplot(1, 2, 2)\n",
    "for i in range(len(log_age_arr)):\n",
    "    if i == 0:\n",
    "        py.plot(instances[i].points[filters[0]] - instances[i].points[filters[1]], \n",
    "           instances[i].points[filters[1]], 'lightcoral', label=level_age_arr[i])\n",
    "    elif i == len(log_age_arr) - 1:\n",
    "        py.plot(instances[i].points[filters[0]] - instances[i].points[filters[1]], \n",
    "           instances[i].points[filters[1]], 'darkred', label=level_age_arr[i])\n",
    "    else:\n",
    "        py.plot(instances[i].points[filters[0]] - instances[i].points[filters[1]], \n",
    "           instances[i].points[filters[1]], 'red', label='')\n",
    "        \n",
    "for i in range(len(companions)):\n",
    "    if companions[i] is None:\n",
    "        continue\n",
    "    py.plot(companions[i][3] - companions[i][4], companions[i][4], marker='o', markersize=1, color='k')\n",
    "    \n",
    "py.xlabel('F115W - F182M')\n",
    "py.ylabel('F182M')\n",
    "py.gca().invert_yaxis()\n",
    "py.title('CMD of companion stars only, post-filtering')\n",
    "py.legend()"
   ]
  },
  {
   "cell_type": "markdown",
   "id": "8634aa23",
   "metadata": {},
   "source": [
    "# Convert binary stars into unresolved binaries\n",
    "## Also compute flux ratios of stars and generate histogram\n",
    "Magnitudes of primary and secondary are converted into flux, which is used to find combined magnitude"
   ]
  },
  {
   "cell_type": "code",
   "execution_count": null,
   "id": "13928824",
   "metadata": {},
   "outputs": [],
   "source": [
    "# combine magnitudes on binary stars\n",
    "unresolved_binaries = np.empty(len(companions), dtype=object)\n",
    "\n",
    "for i in range(len(companions)):\n",
    "    if stars[i + first_binary] is None or companions[i] is None:\n",
    "        continue\n",
    "    \n",
    "    flux11 = np.power(10, stars[i + first_binary][3] / -2.5) * 3.93e-10\n",
    "    flux21 = np.power(10, companions[i][3] / -2.5) * 3.93e-10\n",
    "    mag1 = -2.5 * np.log10((flux11 + flux21) / 3.93e-10)\n",
    "    \n",
    "    flux12 = np.power(10, stars[i + first_binary][4] / -2.5) * 5.74e-11\n",
    "    flux22 = np.power(10, companions[i][4] / -2.5) * 5.74e-11\n",
    "    mag2 = -2.5 * np.log10((flux12 + flux22) / 5.744e-11)\n",
    "    \n",
    "    unresolved_binaries[i] = [mag1, mag2]"
   ]
  },
  {
   "cell_type": "markdown",
   "id": "77b602df",
   "metadata": {},
   "source": [
    "# Generate CMD using star array, plus unresolved binaries\n",
    "Compare to CMD generated by simply multiplying each star's flux by 2"
   ]
  },
  {
   "cell_type": "code",
   "execution_count": null,
   "id": "ce480f6b",
   "metadata": {
    "scrolled": false
   },
   "outputs": [],
   "source": [
    "fig, axes = py.subplots(figsize=(15, 10))\n",
    "\n",
    "# plot CMD\n",
    "py.subplot(1, 2, 1)\n",
    "for i in range(len(log_age_arr)):\n",
    "    if i == 0:\n",
    "        py.plot(instances[i].points[filters[0]] - instances[i].points[filters[1]], \n",
    "           instances[i].points[filters[1]], 'lightcoral', label=level_age_arr[i])\n",
    "    elif i == len(log_age_arr) - 1:\n",
    "        py.plot(instances[i].points[filters[0]] - instances[i].points[filters[1]], \n",
    "           instances[i].points[filters[1]], 'darkred', label=level_age_arr[i])\n",
    "    else:\n",
    "        py.plot(instances[i].points[filters[0]] - instances[i].points[filters[1]], \n",
    "           instances[i].points[filters[1]], 'red', label='')\n",
    "\n",
    "# plot single stars first\n",
    "for i in range(0, first_binary):\n",
    "    if stars[i] is None:\n",
    "        continue\n",
    "    py.plot(stars[i][3] - stars[i][4], stars[i][4], marker='o', markersize=1, color='k')\n",
    "\n",
    "# plot unresolve binaries\n",
    "for i in range(len(unresolved_binaries)):\n",
    "    if unresolved_binaries[i] is None:\n",
    "        continue\n",
    "    py.plot(unresolved_binaries[i][0] - unresolved_binaries[i][1], unresolved_binaries[i][1], marker='o', markersize=1, color='green')\n",
    "\n",
    "py.xlabel('F115W - F200W')\n",
    "py.ylabel('F200W')\n",
    "py.gca().invert_yaxis()\n",
    "py.title('CMD of stars with unresolved binaries')\n",
    "py.legend()\n",
    "\n",
    "\n",
    "py.subplot(1, 2, 2)\n",
    "\n",
    "for i in range(len(log_age_arr)):\n",
    "    if i == 0:\n",
    "        py.plot(instances[i].points[filters[0]] - instances[i].points[filters[1]], \n",
    "           instances[i].points[filters[1]], 'lightcoral', label=level_age_arr[i])\n",
    "    elif i == len(log_age_arr) - 1:\n",
    "        py.plot(instances[i].points[filters[0]] - instances[i].points[filters[1]], \n",
    "           instances[i].points[filters[1]], 'darkred', label=level_age_arr[i])\n",
    "    else:\n",
    "        py.plot(instances[i].points[filters[0]] - instances[i].points[filters[1]], \n",
    "           instances[i].points[filters[1]], 'red', label='')\n",
    "\n",
    "# plot single stars first\n",
    "for i in range(0, first_binary):\n",
    "    if stars[i] is None:\n",
    "        continue\n",
    "    py.plot(stars[i][3] - stars[i][4], stars[i][4], marker='o', markersize=1, color='k')\n",
    "\n",
    "# plot unresolve binaries\n",
    "for i in range(len(unresolved_binaries)):\n",
    "    if unresolved_binaries[i] is None:\n",
    "        continue\n",
    "    py.plot(stars[first_binary + i][3] - stars[first_binary + i][4], \n",
    "            unresolved_binaries[i][1], marker='o', markersize=1, color='green')\n",
    "    \n",
    "idx_0p5 = np.where( abs(instances[1].points['mass'] - 0.1) == min(abs(instances[1].points['mass'] - 0.1)) )[0]\n",
    "py.plot(instances[1].points[filters[0]][idx_0p5] - instances[1].points[filters[1]][idx_0p5],\n",
    "       instances[1].points[filters[1]][idx_0p5], ms=15, marker='*', color='r', label='0.1 $M_\\odot$')\n",
    "\n",
    "idx_0p8 = np.where( abs(instances[1].points['mass'] - 0.3) == min(abs(instances[1].points['mass'] - 0.3)) )[0]\n",
    "py.plot(instances[1].points[filters[0]][idx_0p8] - instances[1].points[filters[1]][idx_0p8],\n",
    "       instances[1].points[filters[1]][idx_0p8], ms=15, marker='*', color='b', label='0.3 $M_\\odot$')\n",
    "\n",
    "py.xlabel('F115W - F200W')\n",
    "py.ylabel('F200W')\n",
    "py.gca().invert_yaxis()\n",
    "py.title('CMD with unresolved binary (primary color only)')\n",
    "py.legend()"
   ]
  },
  {
   "cell_type": "code",
   "execution_count": null,
   "id": "e86b69da",
   "metadata": {},
   "outputs": [],
   "source": [
    "# Calculate spread in 0.1-0.3 Msun range using simple standard deviation calculation\n",
    "mags = []\n",
    "\n",
    "count = 0\n",
    "for i in range(0, first_binary):\n",
    "    if stars[i] is None:\n",
    "        continue\n",
    "    if masses[i] > 0.1 and masses[i] < 0.3:\n",
    "            mags.append(stars[i][4])\n",
    "            count = count + 1\n",
    "\n",
    "for i in range(len(unresolved_binaries)):\n",
    "    if unresolved_binaries[i] is None:\n",
    "        continue\n",
    "    if masses[first_binary + i] > 0.1 and masses[first_binary + i] < 0.3:\n",
    "        mags.append(unresolved_binaries[i][1])\n",
    "        count = count + 1\n",
    "\n",
    "print(count)\n",
    "\n",
    "std = np.std(mags)\n",
    "print(\"Standard deviation:\" + str(std))"
   ]
  },
  {
   "cell_type": "code",
   "execution_count": null,
   "id": "da8f3a49",
   "metadata": {},
   "outputs": [],
   "source": [
    "temperature_bins = np.arange(3000, 3700, 100)\n",
    "standard_deviations = {temp: [] for temp in temperature_bins}\n",
    "\n",
    "# Populate temperature bins and calculate standard deviations\n",
    "for temp in temperature_bins:\n",
    "    magnitudes = []\n",
    "    for i in range(0, first_binary):\n",
    "        if stars[i] is None:\n",
    "            continue\n",
    "        if temp <= stars[i][1] < temp + 100:\n",
    "            magnitudes.append(stars[i][4])\n",
    "    for i in range(len(unresolved_binaries)):\n",
    "        if unresolved_binaries[i] is None or stars[i + first_binary] is None:\n",
    "            continue\n",
    "        if temp <= stars[i + first_binary][1] < temp + 100:\n",
    "            magnitudes.append(unresolved_binaries[i][1])\n",
    "    \n",
    "    standard_deviation = np.std(magnitudes)\n",
    "    standard_deviations[temp] = standard_deviation\n",
    "\n",
    "# Print standard deviations for each temperature bin\n",
    "for temp, std_dev in standard_deviations.items():\n",
    "    print(f\"Temperature: {temp} K, Standard Deviation: {std_dev}\")\n",
    "            "
   ]
  },
  {
   "cell_type": "code",
   "execution_count": null,
   "id": "3b10904e",
   "metadata": {},
   "outputs": [],
   "source": [
    "# Calculate spread in bounding box\n",
    "# Bounding box range \n",
    "mags = []\n",
    "\n",
    "count = 0\n",
    "for i in range(0, first_binary):\n",
    "    if stars[i] is None:\n",
    "        continue\n",
    "    if 0.85 < stars[i][3] - stars[i][4] < 1.05 and 11 < stars[i][4] < 13:\n",
    "            mags.append(stars[i][4])\n",
    "            count = count + 1\n",
    "\n",
    "for i in range(len(unresolved_binaries)):\n",
    "    if unresolved_binaries[i] is None:\n",
    "        continue\n",
    "    if 0.85 < stars[i + first_binary][3] - stars[i + first_binary][4] < 1.05 and 11 < unresolved_binaries[i][1] < 13:\n",
    "        mags.append(unresolved_binaries[i][1])\n",
    "        count = count + 1\n",
    "\n",
    "print(count)\n",
    "\n",
    "std = np.std(mags)\n",
    "print(\"Standard deviation:\" + str(std))"
   ]
  },
  {
   "cell_type": "code",
   "execution_count": null,
   "id": "12a6fb8b",
   "metadata": {},
   "outputs": [],
   "source": []
  }
 ],
 "metadata": {
  "kernelspec": {
   "display_name": "Python 3",
   "language": "python",
   "name": "python3"
  },
  "language_info": {
   "codemirror_mode": {
    "name": "ipython",
    "version": 3
   },
   "file_extension": ".py",
   "mimetype": "text/x-python",
   "name": "python",
   "nbconvert_exporter": "python",
   "pygments_lexer": "ipython3",
   "version": "3.9.12"
  }
 },
 "nbformat": 4,
 "nbformat_minor": 5
}
