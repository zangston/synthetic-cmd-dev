{
 "cells": [
  {
   "cell_type": "code",
   "execution_count": 1,
   "id": "e86b4ca0",
   "metadata": {},
   "outputs": [],
   "source": [
    "from astropy.io import fits\n",
    "import numpy as np"
   ]
  },
  {
   "cell_type": "code",
   "execution_count": 2,
   "id": "65987f65",
   "metadata": {},
   "outputs": [
    {
     "data": {
      "text/plain": [
       "'/scratch/wyz5rge/synthetic-hr/2024/08-17/merged_model/generate_model'"
      ]
     },
     "execution_count": 2,
     "metadata": {},
     "output_type": "execute_result"
    }
   ],
   "source": [
    "%pwd"
   ]
  },
  {
   "cell_type": "code",
   "execution_count": 3,
   "id": "92a8a294",
   "metadata": {},
   "outputs": [],
   "source": [
    "import merge_files"
   ]
  },
  {
   "cell_type": "code",
   "execution_count": 4,
   "id": "e93bdf61",
   "metadata": {},
   "outputs": [],
   "source": [
    "target_filepath = 'iso_6.00.fits'\n",
    "# baraffe_filepath = 'data/baraffe/z015/iso_6.00.fits'\n",
    "baraffe_filepath = 'data/baraffe/z015/iso_6.00.dat'\n",
    "merged_filepath = 'data/merged/z015_norot/iso_6.00.fits'\n",
    "\n",
    "merge_files.main(target_filepath, baraffe_filepath, merged_filepath)"
   ]
  },
  {
   "cell_type": "code",
   "execution_count": 5,
   "id": "307b51cc",
   "metadata": {},
   "outputs": [
    {
     "name": "stdout",
     "output_type": "stream",
     "text": [
      "Filename: iso_6.00.fits\n",
      "No.    Name      Ver    Type      Cards   Dimensions   Format\n",
      "  0  PRIMARY       1 PrimaryHDU       4   ()      \n",
      "  1                1 BinTableHDU     24   1178R x 8C   [D, D, D, D, D, D, K, 12A]   \n",
      "ColDefs(\n",
      "    name = 'col1'; format = 'D'\n",
      "    name = 'col2'; format = 'D'\n",
      "    name = 'col3'; format = 'D'\n",
      "    name = 'col4'; format = 'D'\n",
      "    name = 'col5'; format = 'D'\n",
      "    name = 'col6'; format = 'D'\n",
      "    name = 'col7'; format = 'K'\n",
      "    name = 'col8'; format = '12A'\n",
      ")\n",
      "[(1.00000e-02, 3.3704, -2.6966, 3.5697, 3.3704, 0.01 , 1, 'Baraffe')\n",
      " (1.50000e-02, 3.3986, -2.4196, 3.5815, 3.3986, 0.015, 1, 'Baraffe')\n",
      " (2.00000e-02, 3.4147, -2.2427, 3.594 , 3.4147, 0.02 , 1, 'Baraffe') ...\n",
      " (3.86487e+02, 4.6325,  6.9265, 3.579 , 4.6325, 0.014, 1, 'Ekstrom')\n",
      " (4.39595e+02, 4.6158,  6.9902, 3.5042, 4.6158, 0.014, 1, 'Ekstrom')\n",
      " (5.00000e+02, 4.5939,  7.0524, 3.4104, 4.5939, 0.014, 1, 'Ekstrom')]\n"
     ]
    }
   ],
   "source": [
    "hdul = fits.open('iso_6.00.fits')\n",
    "hdul.info()\n",
    "\n",
    "print(hdul[1].columns)\n",
    "print(hdul[1].data)"
   ]
  },
  {
   "cell_type": "code",
   "execution_count": null,
   "id": "eec568f2",
   "metadata": {},
   "outputs": [],
   "source": []
  }
 ],
 "metadata": {
  "kernelspec": {
   "display_name": "Python 3",
   "language": "python",
   "name": "python3"
  },
  "language_info": {
   "codemirror_mode": {
    "name": "ipython",
    "version": 3
   },
   "file_extension": ".py",
   "mimetype": "text/x-python",
   "name": "python",
   "nbconvert_exporter": "python",
   "pygments_lexer": "ipython3",
   "version": "3.6.9"
  }
 },
 "nbformat": 4,
 "nbformat_minor": 5
}
