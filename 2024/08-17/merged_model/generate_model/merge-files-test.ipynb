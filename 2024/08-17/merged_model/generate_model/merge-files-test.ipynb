{
 "cells": [
  {
   "cell_type": "code",
   "execution_count": 1,
   "id": "e86b4ca0",
   "metadata": {},
   "outputs": [],
   "source": [
    "from astropy.io import fits\n",
    "import numpy as np"
   ]
  },
  {
   "cell_type": "code",
   "execution_count": 2,
   "id": "65987f65",
   "metadata": {},
   "outputs": [
    {
     "data": {
      "text/plain": [
       "'/scratch/wyz5rge/synthetic-hr/2024/08-17/merged_model/generate_model'"
      ]
     },
     "execution_count": 2,
     "metadata": {},
     "output_type": "execute_result"
    }
   ],
   "source": [
    "%pwd"
   ]
  },
  {
   "cell_type": "code",
   "execution_count": 3,
   "id": "92a8a294",
   "metadata": {},
   "outputs": [],
   "source": [
    "import merge_files"
   ]
  },
  {
   "cell_type": "code",
   "execution_count": 4,
   "id": "e93bdf61",
   "metadata": {},
   "outputs": [],
   "source": [
    "target_filepath = 'iso_6.00.fits'\n",
    "# baraffe_filepath = 'data/baraffe/z015/iso_6.00.fits'\n",
    "baraffe_filepath = 'data/baraffe/z015/iso_6.00.dat'\n",
    "merged_filepath = 'data/merged/z015_norot/iso_6.00.fits'\n",
    "\n",
    "merge_files.main(target_filepath, baraffe_filepath, merged_filepath)"
   ]
  },
  {
   "cell_type": "code",
   "execution_count": 5,
   "id": "307b51cc",
   "metadata": {},
   "outputs": [
    {
     "name": "stdout",
     "output_type": "stream",
     "text": [
      "Filename: iso_6.00.fits\n",
      "No.    Name      Ver    Type      Cards   Dimensions   Format\n",
      "  0  PRIMARY       1 PrimaryHDU       4   ()      \n",
      "  1                1 BinTableHDU     24   1178R x 8C   [D, D, D, D, D, D, K, 12A]   \n",
      "ColDefs(\n",
      "    name = 'col1'; format = 'D'\n",
      "    name = 'col2'; format = 'D'\n",
      "    name = 'col3'; format = 'D'\n",
      "    name = 'col4'; format = 'D'\n",
      "    name = 'col5'; format = 'D'\n",
      "    name = 'col6'; format = 'D'\n",
      "    name = 'col7'; format = 'K'\n",
      "    name = 'col8'; format = '12A'\n",
      ")\n",
      "[(1.00000e-02, 3.3704, -2.6966, 3.5697, 3.3704, 0.01 , 1, 'Baraffe')\n",
      " (1.50000e-02, 3.3986, -2.4196, 3.5815, 3.3986, 0.015, 1, 'Baraffe')\n",
      " (2.00000e-02, 3.4147, -2.2427, 3.594 , 3.4147, 0.02 , 1, 'Baraffe') ...\n",
      " (3.86487e+02, 4.6325,  6.9265, 3.579 , 4.6325, 0.014, 1, 'Ekstrom')\n",
      " (4.39595e+02, 4.6158,  6.9902, 3.5042, 4.6158, 0.014, 1, 'Ekstrom')\n",
      " (5.00000e+02, 4.5939,  7.0524, 3.4104, 4.5939, 0.014, 1, 'Ekstrom')]\n"
     ]
    }
   ],
   "source": [
    "hdul = fits.open('iso_6.00.fits')\n",
    "hdul.info()\n",
    "\n",
    "print(hdul[1].columns)\n",
    "print(hdul[1].data)"
   ]
  },
  {
   "cell_type": "code",
   "execution_count": 6,
   "id": "a5fe1428",
   "metadata": {},
   "outputs": [
    {
     "name": "stderr",
     "output_type": "stream",
     "text": [
      "/home/wyz5rge/.local/lib/python3.6/site-packages/pysynphot/locations.py:345: UserWarning: Extinction files not found in /scratch/wyz5rge/models/cdbs/extinction\n",
      "  warnings.warn('Extinction files not found in %s' % (extdir, ))\n"
     ]
    }
   ],
   "source": [
    "# import packages\n",
    "import numpy as np\n",
    "import pylab as py\n",
    "import pdb\n",
    "import matplotlib.pyplot as plt\n",
    "import math\n",
    "\n",
    "# import spisea packages\n",
    "from spisea import synthetic, evolution, atmospheres, reddening, ifmr\n",
    "from spisea.imf import imf, multiplicity\n",
    "\n",
    "# import nbody6tools reader to read data\n",
    "from nbody6tools import Reader\n",
    "\n",
    "# import nbody62spisea to retrieve star ages\n",
    "from nbody62spisea import converter"
   ]
  },
  {
   "cell_type": "code",
   "execution_count": 11,
   "id": "678a45dd",
   "metadata": {},
   "outputs": [],
   "source": [
    "# define isochrone parameters\n",
    "AKs = 0\n",
    "dist = 410\n",
    "atm_func = atmospheres.get_merged_atmosphere\n",
    "red_law = reddening.RedLawHosek18b()\n",
    "filt_list = ['jwst,F115W', 'jwst,F182M']\n",
    "filters = ['m_jwst_F115W', 'm_jwst_F182M']\n",
    "iso_dir = 'isochrones/'\n",
    "metallicity = 0\n",
    "\n",
    "model_iso = []\n",
    "\n",
    "baraffe = evolution.Baraffe15()\n",
    "model_iso.append(baraffe)\n",
    "\n",
    "merged_model = evolution.MergedBaraffePisaEkstromParsec()\n",
    "model_iso.append(merged_model)\n",
    "\n",
    "new_merged_model = evolution.MergedLowMassBaraffePisaEkstromParsec()\n",
    "model_iso.append(new_merged_model)"
   ]
  },
  {
   "cell_type": "code",
   "execution_count": 12,
   "id": "02c5a9bb",
   "metadata": {
    "scrolled": true
   },
   "outputs": [
    {
     "name": "stdout",
     "output_type": "stream",
     "text": [
      "Isochrone generation took 1.111270 s.\n",
      "Making photometry for isochrone: log(t) = 6.00  AKs = 0.00  dist = 410\n",
      "     Starting at:  2024-08-25 22:18:49.405113   Usually takes ~5 minutes\n",
      "Starting filter: jwst,F115W   Elapsed time: 0.00 seconds\n",
      "Starting synthetic photometry\n",
      "M =   0.010 Msun  T =  2344 K  m_jwst_F115W = 17.72\n",
      "Starting filter: jwst,F182M   Elapsed time: 0.62 seconds\n",
      "Starting synthetic photometry\n",
      "M =   0.010 Msun  T =  2344 K  m_jwst_F182M = 16.97\n",
      "      Time taken: 1.24 seconds\n",
      "Changing to logg=4.50 for T= 39129 logg=4.17\n",
      "Changing to logg=4.50 for T= 39301 logg=4.17\n",
      "Changing to logg=4.50 for T= 39464 logg=4.17\n",
      "Changing to logg=4.50 for T= 39637 logg=4.16\n",
      "Changing to logg=4.50 for T= 39802 logg=4.16\n",
      "Changing to logg=4.50 for T= 39976 logg=4.16\n",
      "Changing to logg=4.50 for T= 40142 logg=4.16\n",
      "Changing to logg=4.50 for T= 40300 logg=4.16\n",
      "Changing to logg=4.50 for T= 40309 logg=4.16\n",
      "Changing to logg=4.50 for T= 40448 logg=4.15\n",
      "Changing to logg=4.50 for T= 40588 logg=4.15\n",
      "Changing to logg=4.50 for T= 40729 logg=4.15\n",
      "Changing to logg=4.50 for T= 40870 logg=4.15\n",
      "Changing to logg=4.50 for T= 41011 logg=4.15\n",
      "Changing to logg=4.50 for T= 41153 logg=4.14\n",
      "Changing to logg=4.50 for T= 41295 logg=4.14\n",
      "Changing to logg=4.50 for T= 41438 logg=4.14\n",
      "Changing to logg=4.50 for T= 41581 logg=4.14\n",
      "Changing to logg=4.50 for T= 41601 logg=4.14\n",
      "Changing to logg=4.50 for T= 41697 logg=4.14\n",
      "Changing to logg=4.50 for T= 41812 logg=4.13\n",
      "Changing to logg=4.50 for T= 41918 logg=4.13\n",
      "Changing to logg=4.50 for T= 42034 logg=4.13\n",
      "Changing to logg=4.50 for T= 42141 logg=4.13\n",
      "Changing to logg=4.50 for T= 42257 logg=4.13\n",
      "Changing to logg=4.50 for T= 42364 logg=4.13\n",
      "Changing to logg=4.50 for T= 42472 logg=4.12\n",
      "Changing to logg=4.50 for T= 42589 logg=4.12\n",
      "Changing to logg=4.50 for T= 42697 logg=4.12\n",
      "Changing to logg=4.50 for T= 42766 logg=4.12\n",
      "Changing to logg=4.50 for T= 42806 logg=4.12\n",
      "Changing to logg=4.50 for T= 42894 logg=4.12\n",
      "Changing to logg=4.50 for T= 42983 logg=4.12\n",
      "Changing to logg=4.50 for T= 43082 logg=4.11\n",
      "Changing to logg=4.50 for T= 43172 logg=4.11\n",
      "Changing to logg=4.50 for T= 43261 logg=4.11\n",
      "Changing to logg=4.50 for T= 43351 logg=4.11\n",
      "Changing to logg=4.50 for T= 43451 logg=4.11\n",
      "Changing to logg=4.50 for T= 43541 logg=4.11\n",
      "Changing to logg=4.50 for T= 43631 logg=4.11\n",
      "Changing to logg=4.50 for T= 43722 logg=4.10\n",
      "Changing to logg=4.50 for T= 43813 logg=4.10\n",
      "Changing to logg=4.50 for T= 43863 logg=4.10\n",
      "Changing to logg=4.50 for T= 43904 logg=4.10\n",
      "Changing to logg=4.50 for T= 43985 logg=4.10\n",
      "Changing to logg=4.50 for T= 44066 logg=4.10\n",
      "Changing to logg=4.50 for T= 44147 logg=4.10\n",
      "Changing to logg=4.50 for T= 44228 logg=4.10\n",
      "Changing to logg=4.50 for T= 44320 logg=4.10\n",
      "Changing to logg=4.50 for T= 44402 logg=4.09\n",
      "Changing to logg=4.50 for T= 44484 logg=4.09\n",
      "Changing to logg=4.50 for T= 44566 logg=4.09\n",
      "Changing to logg=4.50 for T= 44648 logg=4.09\n",
      "Changing to logg=4.50 for T= 44730 logg=4.09\n",
      "Changing to logg=4.50 for T= 44813 logg=4.09\n",
      "Changing to logg=4.50 for T= 44895 logg=4.09\n",
      "Changing to logg=4.50 for T= 44978 logg=4.09\n",
      "Changing to logg=4.50 for T= 44978 logg=4.09\n",
      "Changing to logg=4.50 for T= 45040 logg=4.08\n",
      "Changing to logg=4.50 for T= 45113 logg=4.08\n",
      "Changing to logg=4.50 for T= 45175 logg=4.08\n",
      "Changing to logg=4.50 for T= 45248 logg=4.08\n",
      "Changing to logg=4.50 for T= 45311 logg=4.08\n",
      "Changing to logg=4.50 for T= 45384 logg=4.08\n",
      "Changing to logg=4.50 for T= 45446 logg=4.08\n",
      "Changing to logg=4.50 for T= 45509 logg=4.08\n",
      "Changing to logg=4.50 for T= 46015 logg=4.07\n",
      "Changing to logg=4.50 for T= 46957 logg=4.06\n",
      "Changing to logg=4.50 for T= 48006 logg=4.05\n",
      "Changing to logg=5.00 for T= 49125 logg=4.05\n",
      "Changing to T= 50000 for T= 50338 logg=4.05\n",
      "Changing to logg=5.00 for T= 50338 logg=4.05\n",
      "Changing to T= 50000 for T= 51606 logg=4.05\n",
      "Changing to logg=5.00 for T= 51606 logg=4.05\n",
      "Changing to T= 50000 for T= 52432 logg=4.05\n",
      "Changing to logg=5.00 for T= 52432 logg=4.05\n",
      "Changing to T= 50000 for T= 53027 logg=4.05\n",
      "Changing to logg=5.00 for T= 53027 logg=4.05\n",
      "Changing to T= 50000 for T= 53297 logg=4.03\n",
      "Changing to logg=5.00 for T= 53297 logg=4.03\n",
      "Changing to T= 50000 for T= 53469 logg=4.02\n",
      "Changing to logg=5.00 for T= 53469 logg=4.02\n",
      "Changing to T= 50000 for T= 52942 logg=3.98\n",
      "Changing to logg=5.00 for T= 52942 logg=3.98\n",
      "Changing to T= 50000 for T= 52300 logg=3.95\n",
      "Changing to logg=5.00 for T= 52300 logg=3.95\n",
      "Changing to T= 50000 for T= 51547 logg=3.91\n",
      "Changing to logg=5.00 for T= 51547 logg=3.91\n",
      "Changing to T= 50000 for T= 50073 logg=3.85\n",
      "Changing to logg=5.00 for T= 50073 logg=3.85\n",
      "Changing to logg=4.50 for T= 48462 logg=3.79\n",
      "Changing to logg=4.50 for T= 46860 logg=3.73\n",
      "Changing to logg=4.50 for T= 45175 logg=3.66\n",
      "Isochrone generation took 60.938428 s.\n",
      "Making photometry for isochrone: log(t) = 6.00  AKs = 0.00  dist = 410\n",
      "     Starting at:  2024-08-25 22:19:51.603646   Usually takes ~5 minutes\n",
      "Starting filter: jwst,F115W   Elapsed time: 0.00 seconds\n",
      "Starting synthetic photometry\n",
      "M =   0.070 Msun  T =  2898 K  m_jwst_F115W = 14.53\n",
      "M =   2.269 Msun  T =  5106 K  m_jwst_F115W = 9.38\n",
      "M =   3.211 Msun  T =  5551 K  m_jwst_F115W = 8.23\n",
      "M =   3.781 Msun  T =  7544 K  m_jwst_F115W = 7.10\n",
      "M =   4.227 Msun  T = 14501 K  m_jwst_F115W = 7.53\n",
      "M =   4.698 Msun  T = 17223 K  m_jwst_F115W = 8.08\n",
      "M =   5.231 Msun  T = 18298 K  m_jwst_F115W = 7.89\n",
      "M =   5.679 Msun  T = 19191 K  m_jwst_F115W = 7.72\n",
      "M =   5.883 Msun  T = 19584 K  m_jwst_F115W = 7.65\n",
      "M =   6.284 Msun  T = 20324 K  m_jwst_F115W = 7.51\n",
      "M =  39.000 Msun  T = 41812 K  m_jwst_F115W = 3.89\n",
      "Starting filter: jwst,F182M   Elapsed time: 20.87 seconds\n",
      "Starting synthetic photometry\n",
      "M =   0.070 Msun  T =  2898 K  m_jwst_F182M = 13.80\n",
      "M =   2.269 Msun  T =  5106 K  m_jwst_F182M = 8.72\n",
      "M =   3.211 Msun  T =  5551 K  m_jwst_F182M = 7.71\n",
      "M =   3.781 Msun  T =  7544 K  m_jwst_F182M = 6.96\n",
      "M =   4.227 Msun  T = 14501 K  m_jwst_F182M = 7.62\n",
      "M =   4.698 Msun  T = 17223 K  m_jwst_F182M = 8.20\n",
      "M =   5.231 Msun  T = 18298 K  m_jwst_F182M = 8.01\n",
      "M =   5.679 Msun  T = 19191 K  m_jwst_F182M = 7.85\n",
      "M =   5.883 Msun  T = 19584 K  m_jwst_F182M = 7.78\n",
      "M =   6.284 Msun  T = 20324 K  m_jwst_F182M = 7.65\n",
      "M =  39.000 Msun  T = 41812 K  m_jwst_F182M = 4.11\n",
      "      Time taken: 41.73 seconds\n"
     ]
    },
    {
     "ename": "FileNotFoundError",
     "evalue": "[Errno 2] No such file or directory: '/scratch/wyz5rge/models//evolution/merged/low_mass_baraffe_pisa_ekstrom_parsec/z015_rot/iso_6.01.fits'",
     "output_type": "error",
     "traceback": [
      "\u001b[0;31m---------------------------------------------------------------------------\u001b[0m",
      "\u001b[0;31mFileNotFoundError\u001b[0m                         Traceback (most recent call last)",
      "\u001b[0;32m<ipython-input-12-7973fdd02beb>\u001b[0m in \u001b[0;36m<module>\u001b[0;34m\u001b[0m\n\u001b[1;32m      7\u001b[0m                             \u001b[0mevo_model\u001b[0m\u001b[0;34m=\u001b[0m\u001b[0mmodel_iso\u001b[0m\u001b[0;34m[\u001b[0m\u001b[0mi\u001b[0m\u001b[0;34m]\u001b[0m\u001b[0;34m,\u001b[0m \u001b[0matm_func\u001b[0m\u001b[0;34m=\u001b[0m\u001b[0matm_func\u001b[0m\u001b[0;34m,\u001b[0m\u001b[0;34m\u001b[0m\u001b[0;34m\u001b[0m\u001b[0m\n\u001b[1;32m      8\u001b[0m                             \u001b[0mred_law\u001b[0m\u001b[0;34m=\u001b[0m\u001b[0mred_law\u001b[0m\u001b[0;34m,\u001b[0m \u001b[0mfilters\u001b[0m\u001b[0;34m=\u001b[0m\u001b[0mfilt_list\u001b[0m\u001b[0;34m,\u001b[0m\u001b[0;34m\u001b[0m\u001b[0;34m\u001b[0m\u001b[0m\n\u001b[0;32m----> 9\u001b[0;31m                                 iso_dir=iso_dir)\n\u001b[0m\u001b[1;32m     10\u001b[0m     \u001b[0miso_arr\u001b[0m\u001b[0;34m.\u001b[0m\u001b[0mappend\u001b[0m\u001b[0;34m(\u001b[0m\u001b[0miso\u001b[0m\u001b[0;34m)\u001b[0m\u001b[0;34m\u001b[0m\u001b[0;34m\u001b[0m\u001b[0m\n",
      "\u001b[0;32m/scratch/wyz5rge/SPISEA/spisea/synthetic.py\u001b[0m in \u001b[0;36m__init__\u001b[0;34m(self, logAge, AKs, distance, metallicity, evo_model, atm_func, wd_atm_func, wave_range, red_law, mass_sampling, iso_dir, min_mass, max_mass, rebin, recomp, filters)\u001b[0m\n\u001b[1;32m   1097\u001b[0m                                \u001b[0mwave_range\u001b[0m\u001b[0;34m=\u001b[0m\u001b[0mwave_range\u001b[0m\u001b[0;34m,\u001b[0m\u001b[0;34m\u001b[0m\u001b[0;34m\u001b[0m\u001b[0m\n\u001b[1;32m   1098\u001b[0m                                \u001b[0mred_law\u001b[0m\u001b[0;34m=\u001b[0m\u001b[0mred_law\u001b[0m\u001b[0;34m,\u001b[0m \u001b[0mmass_sampling\u001b[0m\u001b[0;34m=\u001b[0m\u001b[0mmass_sampling\u001b[0m\u001b[0;34m,\u001b[0m\u001b[0;34m\u001b[0m\u001b[0;34m\u001b[0m\u001b[0m\n\u001b[0;32m-> 1099\u001b[0;31m                                min_mass=min_mass, max_mass=max_mass, rebin=rebin)\n\u001b[0m\u001b[1;32m   1100\u001b[0m             \u001b[0mself\u001b[0m\u001b[0;34m.\u001b[0m\u001b[0mverbose\u001b[0m \u001b[0;34m=\u001b[0m \u001b[0;32mTrue\u001b[0m\u001b[0;34m\u001b[0m\u001b[0;34m\u001b[0m\u001b[0m\n\u001b[1;32m   1101\u001b[0m \u001b[0;34m\u001b[0m\u001b[0m\n",
      "\u001b[0;32m/scratch/wyz5rge/SPISEA/spisea/synthetic.py\u001b[0m in \u001b[0;36m__init__\u001b[0;34m(self, logAge, AKs, distance, metallicity, evo_model, atm_func, wd_atm_func, red_law, mass_sampling, wave_range, min_mass, max_mass, rebin)\u001b[0m\n\u001b[1;32m    833\u001b[0m         \u001b[0;31m# Takes about 0.1 seconds.\u001b[0m\u001b[0;34m\u001b[0m\u001b[0;34m\u001b[0m\u001b[0;34m\u001b[0m\u001b[0m\n\u001b[1;32m    834\u001b[0m         evol = evo_model.isochrone(age=10**logAge,\n\u001b[0;32m--> 835\u001b[0;31m                                    metallicity=metallicity)\n\u001b[0m\u001b[1;32m    836\u001b[0m \u001b[0;34m\u001b[0m\u001b[0m\n\u001b[1;32m    837\u001b[0m         \u001b[0;31m# Eliminate cases where log g is less than 0\u001b[0m\u001b[0;34m\u001b[0m\u001b[0;34m\u001b[0m\u001b[0;34m\u001b[0m\u001b[0m\n",
      "\u001b[0;32m/scratch/wyz5rge/SPISEA/spisea/evolution.py\u001b[0m in \u001b[0;36misochrone\u001b[0;34m(self, age, metallicity)\u001b[0m\n\u001b[1;32m   1398\u001b[0m \u001b[0;34m\u001b[0m\u001b[0m\n\u001b[1;32m   1399\u001b[0m         \u001b[0;31m# return isochrone data\u001b[0m\u001b[0;34m\u001b[0m\u001b[0;34m\u001b[0m\u001b[0;34m\u001b[0m\u001b[0m\n\u001b[0;32m-> 1400\u001b[0;31m         \u001b[0miso\u001b[0m \u001b[0;34m=\u001b[0m \u001b[0mTable\u001b[0m\u001b[0;34m.\u001b[0m\u001b[0mread\u001b[0m\u001b[0;34m(\u001b[0m\u001b[0mfull_iso_file\u001b[0m\u001b[0;34m,\u001b[0m \u001b[0mformat\u001b[0m\u001b[0;34m=\u001b[0m\u001b[0;34m'fits'\u001b[0m\u001b[0;34m)\u001b[0m\u001b[0;34m\u001b[0m\u001b[0;34m\u001b[0m\u001b[0m\n\u001b[0m\u001b[1;32m   1401\u001b[0m         \u001b[0miso\u001b[0m\u001b[0;34m.\u001b[0m\u001b[0mrename_column\u001b[0m\u001b[0;34m(\u001b[0m\u001b[0;34m'col1'\u001b[0m\u001b[0;34m,\u001b[0m \u001b[0;34m'mass'\u001b[0m\u001b[0;34m)\u001b[0m\u001b[0;34m\u001b[0m\u001b[0;34m\u001b[0m\u001b[0m\n\u001b[1;32m   1402\u001b[0m         \u001b[0miso\u001b[0m\u001b[0;34m.\u001b[0m\u001b[0mrename_column\u001b[0m\u001b[0;34m(\u001b[0m\u001b[0;34m'col2'\u001b[0m\u001b[0;34m,\u001b[0m \u001b[0;34m'logT'\u001b[0m\u001b[0;34m)\u001b[0m\u001b[0;34m\u001b[0m\u001b[0;34m\u001b[0m\u001b[0m\n",
      "\u001b[0;32m/usr/local/lib/python3.6/dist-packages/astropy/table/connect.py\u001b[0m in \u001b[0;36m__call__\u001b[0;34m(self, *args, **kwargs)\u001b[0m\n\u001b[1;32m     50\u001b[0m     \u001b[0;32mdef\u001b[0m \u001b[0m__call__\u001b[0m\u001b[0;34m(\u001b[0m\u001b[0mself\u001b[0m\u001b[0;34m,\u001b[0m \u001b[0;34m*\u001b[0m\u001b[0margs\u001b[0m\u001b[0;34m,\u001b[0m \u001b[0;34m**\u001b[0m\u001b[0mkwargs\u001b[0m\u001b[0;34m)\u001b[0m\u001b[0;34m:\u001b[0m\u001b[0;34m\u001b[0m\u001b[0;34m\u001b[0m\u001b[0m\n\u001b[1;32m     51\u001b[0m         \u001b[0mcls\u001b[0m \u001b[0;34m=\u001b[0m \u001b[0mself\u001b[0m\u001b[0;34m.\u001b[0m\u001b[0m_cls\u001b[0m\u001b[0;34m\u001b[0m\u001b[0;34m\u001b[0m\u001b[0m\n\u001b[0;32m---> 52\u001b[0;31m         \u001b[0mout\u001b[0m \u001b[0;34m=\u001b[0m \u001b[0mregistry\u001b[0m\u001b[0;34m.\u001b[0m\u001b[0mread\u001b[0m\u001b[0;34m(\u001b[0m\u001b[0mcls\u001b[0m\u001b[0;34m,\u001b[0m \u001b[0;34m*\u001b[0m\u001b[0margs\u001b[0m\u001b[0;34m,\u001b[0m \u001b[0;34m**\u001b[0m\u001b[0mkwargs\u001b[0m\u001b[0;34m)\u001b[0m\u001b[0;34m\u001b[0m\u001b[0;34m\u001b[0m\u001b[0m\n\u001b[0m\u001b[1;32m     53\u001b[0m \u001b[0;34m\u001b[0m\u001b[0m\n\u001b[1;32m     54\u001b[0m         \u001b[0;31m# For some readers (e.g., ascii.ecsv), the returned `out` class is not\u001b[0m\u001b[0;34m\u001b[0m\u001b[0;34m\u001b[0m\u001b[0;34m\u001b[0m\u001b[0m\n",
      "\u001b[0;32m/usr/local/lib/python3.6/dist-packages/astropy/io/registry.py\u001b[0m in \u001b[0;36mread\u001b[0;34m(cls, format, *args, **kwargs)\u001b[0m\n\u001b[1;32m    521\u001b[0m \u001b[0;34m\u001b[0m\u001b[0m\n\u001b[1;32m    522\u001b[0m         \u001b[0mreader\u001b[0m \u001b[0;34m=\u001b[0m \u001b[0mget_reader\u001b[0m\u001b[0;34m(\u001b[0m\u001b[0mformat\u001b[0m\u001b[0;34m,\u001b[0m \u001b[0mcls\u001b[0m\u001b[0;34m)\u001b[0m\u001b[0;34m\u001b[0m\u001b[0;34m\u001b[0m\u001b[0m\n\u001b[0;32m--> 523\u001b[0;31m         \u001b[0mdata\u001b[0m \u001b[0;34m=\u001b[0m \u001b[0mreader\u001b[0m\u001b[0;34m(\u001b[0m\u001b[0;34m*\u001b[0m\u001b[0margs\u001b[0m\u001b[0;34m,\u001b[0m \u001b[0;34m**\u001b[0m\u001b[0mkwargs\u001b[0m\u001b[0;34m)\u001b[0m\u001b[0;34m\u001b[0m\u001b[0;34m\u001b[0m\u001b[0m\n\u001b[0m\u001b[1;32m    524\u001b[0m \u001b[0;34m\u001b[0m\u001b[0m\n\u001b[1;32m    525\u001b[0m         \u001b[0;32mif\u001b[0m \u001b[0;32mnot\u001b[0m \u001b[0misinstance\u001b[0m\u001b[0;34m(\u001b[0m\u001b[0mdata\u001b[0m\u001b[0;34m,\u001b[0m \u001b[0mcls\u001b[0m\u001b[0;34m)\u001b[0m\u001b[0;34m:\u001b[0m\u001b[0;34m\u001b[0m\u001b[0;34m\u001b[0m\u001b[0m\n",
      "\u001b[0;32m/usr/local/lib/python3.6/dist-packages/astropy/io/fits/connect.py\u001b[0m in \u001b[0;36mread_table_fits\u001b[0;34m(input, hdu, astropy_native, memmap, character_as_bytes)\u001b[0m\n\u001b[1;32m    193\u001b[0m \u001b[0;34m\u001b[0m\u001b[0m\n\u001b[1;32m    194\u001b[0m         hdulist = fits_open(input, character_as_bytes=character_as_bytes,\n\u001b[0;32m--> 195\u001b[0;31m                             memmap=memmap)\n\u001b[0m\u001b[1;32m    196\u001b[0m \u001b[0;34m\u001b[0m\u001b[0m\n\u001b[1;32m    197\u001b[0m         \u001b[0;32mtry\u001b[0m\u001b[0;34m:\u001b[0m\u001b[0;34m\u001b[0m\u001b[0;34m\u001b[0m\u001b[0m\n",
      "\u001b[0;32m/usr/local/lib/python3.6/dist-packages/astropy/io/fits/hdu/hdulist.py\u001b[0m in \u001b[0;36mfitsopen\u001b[0;34m(name, mode, memmap, save_backup, cache, lazy_load_hdus, **kwargs)\u001b[0m\n\u001b[1;32m    149\u001b[0m \u001b[0;34m\u001b[0m\u001b[0m\n\u001b[1;32m    150\u001b[0m     return HDUList.fromfile(name, mode, memmap, save_backup, cache,\n\u001b[0;32m--> 151\u001b[0;31m                             lazy_load_hdus, **kwargs)\n\u001b[0m\u001b[1;32m    152\u001b[0m \u001b[0;34m\u001b[0m\u001b[0m\n\u001b[1;32m    153\u001b[0m \u001b[0;34m\u001b[0m\u001b[0m\n",
      "\u001b[0;32m/usr/local/lib/python3.6/dist-packages/astropy/io/fits/hdu/hdulist.py\u001b[0m in \u001b[0;36mfromfile\u001b[0;34m(cls, fileobj, mode, memmap, save_backup, cache, lazy_load_hdus, **kwargs)\u001b[0m\n\u001b[1;32m    388\u001b[0m         return cls._readfrom(fileobj=fileobj, mode=mode, memmap=memmap,\n\u001b[1;32m    389\u001b[0m                              \u001b[0msave_backup\u001b[0m\u001b[0;34m=\u001b[0m\u001b[0msave_backup\u001b[0m\u001b[0;34m,\u001b[0m \u001b[0mcache\u001b[0m\u001b[0;34m=\u001b[0m\u001b[0mcache\u001b[0m\u001b[0;34m,\u001b[0m\u001b[0;34m\u001b[0m\u001b[0;34m\u001b[0m\u001b[0m\n\u001b[0;32m--> 390\u001b[0;31m                              lazy_load_hdus=lazy_load_hdus, **kwargs)\n\u001b[0m\u001b[1;32m    391\u001b[0m \u001b[0;34m\u001b[0m\u001b[0m\n\u001b[1;32m    392\u001b[0m     \u001b[0;34m@\u001b[0m\u001b[0mclassmethod\u001b[0m\u001b[0;34m\u001b[0m\u001b[0;34m\u001b[0m\u001b[0m\n",
      "\u001b[0;32m/usr/local/lib/python3.6/dist-packages/astropy/io/fits/hdu/hdulist.py\u001b[0m in \u001b[0;36m_readfrom\u001b[0;34m(cls, fileobj, data, mode, memmap, save_backup, cache, lazy_load_hdus, **kwargs)\u001b[0m\n\u001b[1;32m   1037\u001b[0m             \u001b[0;32mif\u001b[0m \u001b[0;32mnot\u001b[0m \u001b[0misinstance\u001b[0m\u001b[0;34m(\u001b[0m\u001b[0mfileobj\u001b[0m\u001b[0;34m,\u001b[0m \u001b[0m_File\u001b[0m\u001b[0;34m)\u001b[0m\u001b[0;34m:\u001b[0m\u001b[0;34m\u001b[0m\u001b[0;34m\u001b[0m\u001b[0m\n\u001b[1;32m   1038\u001b[0m                 \u001b[0;31m# instantiate a FITS file object (ffo)\u001b[0m\u001b[0;34m\u001b[0m\u001b[0;34m\u001b[0m\u001b[0;34m\u001b[0m\u001b[0m\n\u001b[0;32m-> 1039\u001b[0;31m                 \u001b[0mfileobj\u001b[0m \u001b[0;34m=\u001b[0m \u001b[0m_File\u001b[0m\u001b[0;34m(\u001b[0m\u001b[0mfileobj\u001b[0m\u001b[0;34m,\u001b[0m \u001b[0mmode\u001b[0m\u001b[0;34m=\u001b[0m\u001b[0mmode\u001b[0m\u001b[0;34m,\u001b[0m \u001b[0mmemmap\u001b[0m\u001b[0;34m=\u001b[0m\u001b[0mmemmap\u001b[0m\u001b[0;34m,\u001b[0m \u001b[0mcache\u001b[0m\u001b[0;34m=\u001b[0m\u001b[0mcache\u001b[0m\u001b[0;34m)\u001b[0m\u001b[0;34m\u001b[0m\u001b[0;34m\u001b[0m\u001b[0m\n\u001b[0m\u001b[1;32m   1040\u001b[0m             \u001b[0;31m# The Astropy mode is determined by the _File initializer if the\u001b[0m\u001b[0;34m\u001b[0m\u001b[0;34m\u001b[0m\u001b[0;34m\u001b[0m\u001b[0m\n\u001b[1;32m   1041\u001b[0m             \u001b[0;31m# supplied mode was None\u001b[0m\u001b[0;34m\u001b[0m\u001b[0;34m\u001b[0m\u001b[0;34m\u001b[0m\u001b[0m\n",
      "\u001b[0;32m/usr/local/lib/python3.6/dist-packages/astropy/utils/decorators.py\u001b[0m in \u001b[0;36mwrapper\u001b[0;34m(*args, **kwargs)\u001b[0m\n\u001b[1;32m    519\u001b[0m                             \u001b[0mkwargs\u001b[0m\u001b[0;34m[\u001b[0m\u001b[0mnew_name\u001b[0m\u001b[0;34m[\u001b[0m\u001b[0mi\u001b[0m\u001b[0;34m]\u001b[0m\u001b[0;34m]\u001b[0m \u001b[0;34m=\u001b[0m \u001b[0mvalue\u001b[0m\u001b[0;34m\u001b[0m\u001b[0;34m\u001b[0m\u001b[0m\n\u001b[1;32m    520\u001b[0m \u001b[0;34m\u001b[0m\u001b[0m\n\u001b[0;32m--> 521\u001b[0;31m             \u001b[0;32mreturn\u001b[0m \u001b[0mfunction\u001b[0m\u001b[0;34m(\u001b[0m\u001b[0;34m*\u001b[0m\u001b[0margs\u001b[0m\u001b[0;34m,\u001b[0m \u001b[0;34m**\u001b[0m\u001b[0mkwargs\u001b[0m\u001b[0;34m)\u001b[0m\u001b[0;34m\u001b[0m\u001b[0;34m\u001b[0m\u001b[0m\n\u001b[0m\u001b[1;32m    522\u001b[0m \u001b[0;34m\u001b[0m\u001b[0m\n\u001b[1;32m    523\u001b[0m         \u001b[0;32mreturn\u001b[0m \u001b[0mwrapper\u001b[0m\u001b[0;34m\u001b[0m\u001b[0;34m\u001b[0m\u001b[0m\n",
      "\u001b[0;32m/usr/local/lib/python3.6/dist-packages/astropy/io/fits/file.py\u001b[0m in \u001b[0;36m__init__\u001b[0;34m(self, fileobj, mode, memmap, overwrite, cache)\u001b[0m\n\u001b[1;32m    176\u001b[0m             \u001b[0mself\u001b[0m\u001b[0;34m.\u001b[0m\u001b[0m_open_fileobj\u001b[0m\u001b[0;34m(\u001b[0m\u001b[0mfileobj\u001b[0m\u001b[0;34m,\u001b[0m \u001b[0mmode\u001b[0m\u001b[0;34m,\u001b[0m \u001b[0moverwrite\u001b[0m\u001b[0;34m)\u001b[0m\u001b[0;34m\u001b[0m\u001b[0;34m\u001b[0m\u001b[0m\n\u001b[1;32m    177\u001b[0m         \u001b[0;32melif\u001b[0m \u001b[0misinstance\u001b[0m\u001b[0;34m(\u001b[0m\u001b[0mfileobj\u001b[0m\u001b[0;34m,\u001b[0m \u001b[0mstr\u001b[0m\u001b[0;34m)\u001b[0m\u001b[0;34m:\u001b[0m\u001b[0;34m\u001b[0m\u001b[0;34m\u001b[0m\u001b[0m\n\u001b[0;32m--> 178\u001b[0;31m             \u001b[0mself\u001b[0m\u001b[0;34m.\u001b[0m\u001b[0m_open_filename\u001b[0m\u001b[0;34m(\u001b[0m\u001b[0mfileobj\u001b[0m\u001b[0;34m,\u001b[0m \u001b[0mmode\u001b[0m\u001b[0;34m,\u001b[0m \u001b[0moverwrite\u001b[0m\u001b[0;34m)\u001b[0m\u001b[0;34m\u001b[0m\u001b[0;34m\u001b[0m\u001b[0m\n\u001b[0m\u001b[1;32m    179\u001b[0m         \u001b[0;32melse\u001b[0m\u001b[0;34m:\u001b[0m\u001b[0;34m\u001b[0m\u001b[0;34m\u001b[0m\u001b[0m\n\u001b[1;32m    180\u001b[0m             \u001b[0mself\u001b[0m\u001b[0;34m.\u001b[0m\u001b[0m_open_filelike\u001b[0m\u001b[0;34m(\u001b[0m\u001b[0mfileobj\u001b[0m\u001b[0;34m,\u001b[0m \u001b[0mmode\u001b[0m\u001b[0;34m,\u001b[0m \u001b[0moverwrite\u001b[0m\u001b[0;34m)\u001b[0m\u001b[0;34m\u001b[0m\u001b[0;34m\u001b[0m\u001b[0m\n",
      "\u001b[0;32m/usr/local/lib/python3.6/dist-packages/astropy/io/fits/file.py\u001b[0m in \u001b[0;36m_open_filename\u001b[0;34m(self, filename, mode, overwrite)\u001b[0m\n\u001b[1;32m    553\u001b[0m \u001b[0;34m\u001b[0m\u001b[0m\n\u001b[1;32m    554\u001b[0m         \u001b[0;32mif\u001b[0m \u001b[0;32mnot\u001b[0m \u001b[0mself\u001b[0m\u001b[0;34m.\u001b[0m\u001b[0m_try_read_compressed\u001b[0m\u001b[0;34m(\u001b[0m\u001b[0mself\u001b[0m\u001b[0;34m.\u001b[0m\u001b[0mname\u001b[0m\u001b[0;34m,\u001b[0m \u001b[0mmagic\u001b[0m\u001b[0;34m,\u001b[0m \u001b[0mmode\u001b[0m\u001b[0;34m,\u001b[0m \u001b[0mext\u001b[0m\u001b[0;34m=\u001b[0m\u001b[0mext\u001b[0m\u001b[0;34m)\u001b[0m\u001b[0;34m:\u001b[0m\u001b[0;34m\u001b[0m\u001b[0;34m\u001b[0m\u001b[0m\n\u001b[0;32m--> 555\u001b[0;31m             \u001b[0mself\u001b[0m\u001b[0;34m.\u001b[0m\u001b[0m_file\u001b[0m \u001b[0;34m=\u001b[0m \u001b[0mfileobj_open\u001b[0m\u001b[0;34m(\u001b[0m\u001b[0mself\u001b[0m\u001b[0;34m.\u001b[0m\u001b[0mname\u001b[0m\u001b[0;34m,\u001b[0m \u001b[0mIO_FITS_MODES\u001b[0m\u001b[0;34m[\u001b[0m\u001b[0mmode\u001b[0m\u001b[0;34m]\u001b[0m\u001b[0;34m)\u001b[0m\u001b[0;34m\u001b[0m\u001b[0;34m\u001b[0m\u001b[0m\n\u001b[0m\u001b[1;32m    556\u001b[0m             \u001b[0mself\u001b[0m\u001b[0;34m.\u001b[0m\u001b[0mclose_on_error\u001b[0m \u001b[0;34m=\u001b[0m \u001b[0;32mTrue\u001b[0m\u001b[0;34m\u001b[0m\u001b[0;34m\u001b[0m\u001b[0m\n\u001b[1;32m    557\u001b[0m \u001b[0;34m\u001b[0m\u001b[0m\n",
      "\u001b[0;32m/usr/local/lib/python3.6/dist-packages/astropy/io/fits/util.py\u001b[0m in \u001b[0;36mfileobj_open\u001b[0;34m(filename, mode)\u001b[0m\n\u001b[1;32m    395\u001b[0m     \"\"\"\n\u001b[1;32m    396\u001b[0m \u001b[0;34m\u001b[0m\u001b[0m\n\u001b[0;32m--> 397\u001b[0;31m     \u001b[0;32mreturn\u001b[0m \u001b[0mopen\u001b[0m\u001b[0;34m(\u001b[0m\u001b[0mfilename\u001b[0m\u001b[0;34m,\u001b[0m \u001b[0mmode\u001b[0m\u001b[0;34m,\u001b[0m \u001b[0mbuffering\u001b[0m\u001b[0;34m=\u001b[0m\u001b[0;36m0\u001b[0m\u001b[0;34m)\u001b[0m\u001b[0;34m\u001b[0m\u001b[0;34m\u001b[0m\u001b[0m\n\u001b[0m\u001b[1;32m    398\u001b[0m \u001b[0;34m\u001b[0m\u001b[0m\n\u001b[1;32m    399\u001b[0m \u001b[0;34m\u001b[0m\u001b[0m\n",
      "\u001b[0;31mFileNotFoundError\u001b[0m: [Errno 2] No such file or directory: '/scratch/wyz5rge/models//evolution/merged/low_mass_baraffe_pisa_ekstrom_parsec/z015_rot/iso_6.01.fits'"
     ]
    }
   ],
   "source": [
    "iso_arr = []\n",
    "\n",
    "age = 6.00\n",
    "\n",
    "for i in range(len(model_iso)):\n",
    "    iso = synthetic.IsochronePhot(age, AKs, dist, metallicity=metallicity,\n",
    "                            evo_model=model_iso[i], atm_func=atm_func,\n",
    "                            red_law=red_law, filters=filt_list,\n",
    "                                iso_dir=iso_dir)\n",
    "    iso_arr.append(iso)"
   ]
  },
  {
   "cell_type": "code",
   "execution_count": null,
   "id": "846528ab",
   "metadata": {},
   "outputs": [],
   "source": [
    "# Plot CMD\n",
    "fig, axes = py.subplots(figsize=(15, 10))\n",
    "py.subplot(1, 2, 1)\n",
    "\n",
    "colors = ['r', 'b', 'orange']\n",
    "labels = ['Baraffe', 'Merged', 'Merged (Low mass)']\n",
    "\n",
    "for i in range(len(iso_arr)):\n",
    "    if i == 4:\n",
    "        lw = 4\n",
    "        zorder = -10\n",
    "        alpha = 0.5\n",
    "    else:\n",
    "        lw = 1\n",
    "        zorder = None\n",
    "        alpha = 1\n",
    "    py.plot(iso_arr[i].points[filters[0]] - iso_arr[i].points[filters[1]], \n",
    "           iso_arr[i].points[filters[1]], color=colors[i], label=labels[i], lw = lw, zorder = zorder, alpha = alpha)\n",
    "\n",
    "idx = np.where(abs(iso_arr[1].points['mass'] - 0.5) == min(abs(iso_arr[1].points['mass'] - 0.5)))[0].item()\n",
    "py.plot(iso_arr[1].points[filters[0]][idx] - iso_arr[1].points[filters[1]][idx], \n",
    "       iso_arr[1].points[filters[1]][idx], 'b*', ms=15, label='0.5 $M_\\odot$')\n",
    "\n",
    "idx = np.where(abs(iso_arr[1].points['mass'] - 6) == min(abs(iso_arr[1].points['mass'] - 6)))[0].item()\n",
    "py.plot(iso_arr[1].points[filters[0]][idx] - iso_arr[1].points[filters[1]][idx], \n",
    "       iso_arr[1].points[filters[1]][idx], 'r*', ms=15, label='6 $M_\\odot$')\n",
    "\n",
    "py.gca().invert_yaxis()\n",
    "py.legend()"
   ]
  },
  {
   "cell_type": "code",
   "execution_count": null,
   "id": "f27607ad",
   "metadata": {},
   "outputs": [],
   "source": []
  }
 ],
 "metadata": {
  "kernelspec": {
   "display_name": "Python 3",
   "language": "python",
   "name": "python3"
  },
  "language_info": {
   "codemirror_mode": {
    "name": "ipython",
    "version": 3
   },
   "file_extension": ".py",
   "mimetype": "text/x-python",
   "name": "python",
   "nbconvert_exporter": "python",
   "pygments_lexer": "ipython3",
   "version": "3.6.9"
  }
 },
 "nbformat": 4,
 "nbformat_minor": 5
}
