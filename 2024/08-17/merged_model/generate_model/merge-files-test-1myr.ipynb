{
 "cells": [
  {
   "cell_type": "code",
   "execution_count": 1,
   "id": "e86b4ca0",
   "metadata": {},
   "outputs": [],
   "source": [
    "from astropy.io import fits\n",
    "import numpy as np"
   ]
  },
  {
   "cell_type": "code",
   "execution_count": 2,
   "id": "65987f65",
   "metadata": {},
   "outputs": [
    {
     "data": {
      "text/plain": [
       "'/scratch/wyz5rge/synthetic-hr/2024/08-17/merged_model/generate_model'"
      ]
     },
     "execution_count": 2,
     "metadata": {},
     "output_type": "execute_result"
    }
   ],
   "source": [
    "%pwd"
   ]
  },
  {
   "cell_type": "code",
   "execution_count": 3,
   "id": "92a8a294",
   "metadata": {},
   "outputs": [],
   "source": [
    "import merge_files"
   ]
  },
  {
   "cell_type": "code",
   "execution_count": 4,
   "id": "e93bdf61",
   "metadata": {},
   "outputs": [
    {
     "name": "stdout",
     "output_type": "stream",
     "text": [
      "[[0.01, 0.015, 0.02, 0.03, 0.04, 0.05, 0.06], [], [], [], [], [], [], []]\n"
     ]
    }
   ],
   "source": [
    "target_filepath = 'generated_files'\n",
    "# baraffe_filepath = 'data/baraffe/z015/iso_6.00.fits'\n",
    "baraffe_filepath = 'data/baraffe/z015/iso_6.00.dat'\n",
    "merged_filepath = 'data/merged/z015_norot/iso_6.00.fits'\n",
    "\n",
    "merge_files.main(target_filepath, baraffe_filepath, merged_filepath)"
   ]
  },
  {
   "cell_type": "code",
   "execution_count": null,
   "id": "307b51cc",
   "metadata": {},
   "outputs": [],
   "source": []
  }
 ],
 "metadata": {
  "kernelspec": {
   "display_name": "Python 3",
   "language": "python",
   "name": "python3"
  },
  "language_info": {
   "codemirror_mode": {
    "name": "ipython",
    "version": 3
   },
   "file_extension": ".py",
   "mimetype": "text/x-python",
   "name": "python",
   "nbconvert_exporter": "python",
   "pygments_lexer": "ipython3",
   "version": "3.6.9"
  }
 },
 "nbformat": 4,
 "nbformat_minor": 5
}
