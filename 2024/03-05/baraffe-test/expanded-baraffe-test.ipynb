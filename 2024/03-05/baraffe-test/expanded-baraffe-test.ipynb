{
 "cells": [
  {
   "cell_type": "markdown",
   "id": "9bae6084",
   "metadata": {},
   "source": [
    "# Testing Baraffe isochrone generation after installing expanded model\n",
    "## No isochrone grid generated, nor interfacing with nbody6 data"
   ]
  },
  {
   "cell_type": "code",
   "execution_count": 1,
   "id": "8f5d8453",
   "metadata": {},
   "outputs": [
    {
     "name": "stderr",
     "output_type": "stream",
     "text": [
      "/home/wyz5rge/.local/lib/python3.9/site-packages/pysynphot/locations.py:345: UserWarning: Extinction files not found in /scratch/wyz5rge/models/cdbs/extinction\n",
      "  warnings.warn('Extinction files not found in %s' % (extdir, ))\n"
     ]
    }
   ],
   "source": [
    "# import packages\n",
    "import numpy as np\n",
    "import pylab as py\n",
    "import pdb\n",
    "import matplotlib.pyplot as plt\n",
    "import math\n",
    "\n",
    "# import spisea packages\n",
    "from spisea import synthetic, evolution, atmospheres, reddening, ifmr\n",
    "from spisea.imf import imf, multiplicity\n",
    "\n",
    "# import nbody6tools reader to read data\n",
    "from nbody6tools import Reader\n",
    "\n",
    "# import nbody62spisea to retrieve star ages\n",
    "from nbody62spisea import converter"
   ]
  },
  {
   "cell_type": "code",
   "execution_count": 2,
   "id": "80ff1b3c",
   "metadata": {},
   "outputs": [],
   "source": [
    "# define isochrone parameters\n",
    "AKs = 0\n",
    "dist = 410\n",
    "evo_model = evolution.Baraffe15()\n",
    "atm_func = atmospheres.get_merged_atmosphere\n",
    "red_law = reddening.RedLawHosek18b()\n",
    "filt_list = ['jwst,F115W', 'jwst,F182M']\n",
    "filters = ['m_jwst_F115W', 'm_jwst_F182M']\n",
    "iso_dir = 'isochrones/'\n",
    "metallicity = 0\n",
    "log_age = np.log10(1e6)"
   ]
  },
  {
   "cell_type": "code",
   "execution_count": 7,
   "id": "5a79a75b",
   "metadata": {},
   "outputs": [
    {
     "name": "stdout",
     "output_type": "stream",
     "text": [
      "Isochrone generation took 1.592598 s.\n",
      "Making photometry for isochrone: log(t) = 6.00  AKs = 0.00  dist = 410\n",
      "     Starting at:  2024-03-02 03:51:51.590406   Usually takes ~5 minutes\n",
      "Starting filter: jwst,F115W   Elapsed time: 0.00 seconds\n",
      "Starting synthetic photometry\n",
      "M =   0.010 Msun  T =  2344 K  m_jwst_F115W = 17.72\n",
      "Starting filter: jwst,F182M   Elapsed time: 0.53 seconds\n",
      "Starting synthetic photometry\n",
      "M =   0.010 Msun  T =  2344 K  m_jwst_F182M = 16.97\n",
      "      Time taken: 1.06 seconds\n"
     ]
    }
   ],
   "source": [
    "my_iso = synthetic.IsochronePhot(log_age, AKs, dist, metallicity=metallicity,\n",
    "                            evo_model=evo_model, atm_func=atm_func,\n",
    "                            red_law=red_law, filters=filt_list,\n",
    "                                iso_dir=iso_dir)"
   ]
  },
  {
   "cell_type": "code",
   "execution_count": 8,
   "id": "d445d7f8",
   "metadata": {},
   "outputs": [
    {
     "name": "stderr",
     "output_type": "stream",
     "text": [
      "No artists with labels found to put in legend.  Note that artists whose label start with an underscore are ignored when legend() is called with no argument.\n"
     ]
    },
    {
     "data": {
      "text/plain": [
       "<matplotlib.legend.Legend at 0x7f223c7cf220>"
      ]
     },
     "execution_count": 8,
     "metadata": {},
     "output_type": "execute_result"
    },
    {
     "data": {
      "image/png": "[encoded data removed]",
      "text/plain": [
       "<Figure size 432x288 with 1 Axes>"
      ]
     },
     "metadata": {
      "needs_background": "light"
     },
     "output_type": "display_data"
    }
   ],
   "source": [
    "# plot isochrone curve\n",
    "py.plot(my_iso.points[filters[0]] - my_iso.points[filters[1]], \n",
    "           my_iso.points[filters[1]], 'red')\n",
    "    \n",
    "py.xlabel('F115W - F182M')\n",
    "py.ylabel('F182M')\n",
    "py.gca().invert_yaxis()"
   ]
  },
  {
   "cell_type": "code",
   "execution_count": 12,
   "id": "f7d0aa94",
   "metadata": {},
   "outputs": [
    {
     "name": "stdout",
     "output_type": "stream",
     "text": [
      "Minimum mass: 0.01\n",
      "Maximum mass: 1.4\n"
     ]
    }
   ],
   "source": [
    "print(\"Minimum mass: \" + str(min(my_iso.points['mass'])))\n",
    "print(\"Maximum mass: \" + str(max(my_iso.points['mass'])))"
   ]
  },
  {
   "cell_type": "markdown",
   "id": "a36ce8ff",
   "metadata": {},
   "source": [
    "Note to self: to switch back to original mass range (if needed), rename directories in spisea models/baraffe/iso/"
   ]
  }
 ],
 "metadata": {
  "kernelspec": {
   "display_name": "Python 3",
   "language": "python",
   "name": "python3"
  },
  "language_info": {
   "codemirror_mode": {
    "name": "ipython",
    "version": 3
   },
   "file_extension": ".py",
   "mimetype": "text/x-python",
   "name": "python",
   "nbconvert_exporter": "python",
   "pygments_lexer": "ipython3",
   "version": "3.9.12"
  }
 },
 "nbformat": 4,
 "nbformat_minor": 5
}
