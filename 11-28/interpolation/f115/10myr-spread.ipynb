{
 "cells": [
  {
   "cell_type": "code",
   "execution_count": 1,
   "id": "f502fb46",
   "metadata": {},
   "outputs": [
    {
     "name": "stderr",
     "output_type": "stream",
     "text": [
      "/home/wyz5rge/.local/lib/python3.9/site-packages/pysynphot/locations.py:345: UserWarning: Extinction files not found in /scratch/wyz5rge/models/cdbs/extinction\n",
      "  warnings.warn('Extinction files not found in %s' % (extdir, ))\n"
     ]
    }
   ],
   "source": [
    "# import packages\n",
    "import numpy as np\n",
    "import pylab as py\n",
    "import pdb\n",
    "import matplotlib.pyplot as plt\n",
    "import math\n",
    "\n",
    "# import spisea packages\n",
    "from spisea import synthetic, evolution, atmospheres, reddening, ifmr\n",
    "from spisea.imf import imf, multiplicity\n",
    "\n",
    "# import nbody6tools reader to read data\n",
    "from nbody6tools import Reader\n",
    "\n",
    "# import nbody62spisea to retrieve star ages\n",
    "from nbody62spisea import converter"
   ]
  },
  {
   "cell_type": "markdown",
   "id": "47a50142",
   "metadata": {},
   "source": [
    "## Set up parameters, create isochrone grid"
   ]
  },
  {
   "cell_type": "code",
   "execution_count": 2,
   "id": "a31a48cc",
   "metadata": {},
   "outputs": [],
   "source": [
    "# define isochrone parameters\n",
    "AKs = 0\n",
    "dist = 410\n",
    "evo_model = evolution.MISTv1()\n",
    "atm_func = atmospheres.get_merged_atmosphere\n",
    "red_law = reddening.RedLawHosek18b()\n",
    "filt_list = ['jwst,F115W', 'jwst,F182M']\n",
    "filters = ['m_jwst_F115W', 'm_jwst_F182M']\n",
    "iso_dir = 'isochrones/'\n",
    "metallicity = 0"
   ]
  },
  {
   "cell_type": "code",
   "execution_count": 3,
   "id": "914306ff",
   "metadata": {},
   "outputs": [
    {
     "ename": "FileNotFoundError",
     "evalue": "[Errno 2] No such file or directory: '../../../../../storage/jfarias/Data/Orion/massive_clusters/M3000new/sigma0p1/fiducial/sfe_ff001/00//global.30'",
     "output_type": "error",
     "traceback": [
      "\u001b[0;31m---------------------------------------------------------------------------\u001b[0m",
      "\u001b[0;31mFileNotFoundError\u001b[0m                         Traceback (most recent call last)",
      "Input \u001b[0;32mIn [3]\u001b[0m, in \u001b[0;36m<cell line: 3>\u001b[0;34m()\u001b[0m\n\u001b[1;32m      1\u001b[0m \u001b[38;5;66;03m# read nbody data\u001b[39;00m\n\u001b[1;32m      2\u001b[0m path_to_data \u001b[38;5;241m=\u001b[39m \u001b[38;5;124m'\u001b[39m\u001b[38;5;124m../../../../../storage/jfarias/Data/Orion/massive_clusters/M3000new/sigma0p1/fiducial/sfe_ff001/00/\u001b[39m\u001b[38;5;124m'\u001b[39m\n\u001b[0;32m----> 3\u001b[0m snapshot \u001b[38;5;241m=\u001b[39m \u001b[43mReader\u001b[49m\u001b[38;5;241;43m.\u001b[39;49m\u001b[43mread_snapshot\u001b[49m\u001b[43m(\u001b[49m\u001b[43mpath_to_data\u001b[49m\u001b[43m,\u001b[49m\u001b[43m \u001b[49m\u001b[43mtime\u001b[49m\u001b[43m \u001b[49m\u001b[38;5;241;43m=\u001b[39;49m\u001b[43m \u001b[49m\u001b[38;5;241;43m20\u001b[39;49m\u001b[43m)\u001b[49m\n\u001b[1;32m      5\u001b[0m \u001b[38;5;66;03m# convert snapshot values from nbody units to astrophysical, extract masses\u001b[39;00m\n\u001b[1;32m      6\u001b[0m snapshot\u001b[38;5;241m.\u001b[39mto_physical()\n",
      "File \u001b[0;32m~/.local/lib/python3.9/site-packages/nbody6tools/Reader.py:74\u001b[0m, in \u001b[0;36mread_snapshot\u001b[0;34m(folder, snapshot, time, inputfilename, singlefile, snapshotfile)\u001b[0m\n\u001b[1;32m     71\u001b[0m \u001b[38;5;28;01mdef\u001b[39;00m \u001b[38;5;21mread_snapshot\u001b[39m(folder,snapshot\u001b[38;5;241m=\u001b[39m\u001b[38;5;241m0\u001b[39m,time\u001b[38;5;241m=\u001b[39m\u001b[38;5;28;01mNone\u001b[39;00m,inputfilename\u001b[38;5;241m=\u001b[39minputFile,singlefile\u001b[38;5;241m=\u001b[39msingleFile,\n\u001b[1;32m     72\u001b[0m         snapshotfile \u001b[38;5;241m=\u001b[39m snapshotFile):\n\u001b[1;32m     73\u001b[0m     \u001b[38;5;28;01mif\u001b[39;00m time \u001b[38;5;129;01mis\u001b[39;00m \u001b[38;5;129;01mnot\u001b[39;00m \u001b[38;5;28;01mNone\u001b[39;00m:\n\u001b[0;32m---> 74\u001b[0m         times \u001b[38;5;241m=\u001b[39m numpy\u001b[38;5;241m.\u001b[39marray(\u001b[43mget_times\u001b[49m\u001b[43m(\u001b[49m\u001b[43mfolder\u001b[49m\u001b[43m)\u001b[49m)\n\u001b[1;32m     75\u001b[0m         snapshot \u001b[38;5;241m=\u001b[39m numpy\u001b[38;5;241m.\u001b[39margmin( \u001b[38;5;28mabs\u001b[39m( times \u001b[38;5;241m-\u001b[39m time) )\n\u001b[1;32m     76\u001b[0m         \u001b[38;5;66;03m#snapshot = numpy.where( times >= time )[0][0]\u001b[39;00m\n",
      "File \u001b[0;32m~/.local/lib/python3.9/site-packages/nbody6tools/Reader.py:59\u001b[0m, in \u001b[0;36mget_times\u001b[0;34m(folder, nbody, inputfilename, snapshotfile, singlefile)\u001b[0m\n\u001b[1;32m     57\u001b[0m \u001b[38;5;28;01mdef\u001b[39;00m \u001b[38;5;21mget_times\u001b[39m(folder,nbody\u001b[38;5;241m=\u001b[39m\u001b[38;5;28;01mFalse\u001b[39;00m,inputfilename\u001b[38;5;241m=\u001b[39minputFile,\n\u001b[1;32m     58\u001b[0m         snapshotfile \u001b[38;5;241m=\u001b[39m snapshotFile,singlefile\u001b[38;5;241m=\u001b[39msingleFile):\n\u001b[0;32m---> 59\u001b[0m     glfile \u001b[38;5;241m=\u001b[39m \u001b[43mget_globals\u001b[49m\u001b[43m(\u001b[49m\u001b[43mfolder\u001b[49m\u001b[43m)\u001b[49m\n\u001b[1;32m     60\u001b[0m     inputfile \u001b[38;5;241m=\u001b[39m parse_inputfile(\u001b[38;5;124m\"\u001b[39m\u001b[38;5;132;01m%s\u001b[39;00m\u001b[38;5;124m/\u001b[39m\u001b[38;5;132;01m%s\u001b[39;00m\u001b[38;5;124m\"\u001b[39m\u001b[38;5;241m%\u001b[39m(folder,inputfilename) )\n\u001b[1;32m     61\u001b[0m     key \u001b[38;5;241m=\u001b[39m \u001b[38;5;124m\"\u001b[39m\u001b[38;5;124mTIME[NB]\u001b[39m\u001b[38;5;124m\"\u001b[39m \u001b[38;5;28;01mif\u001b[39;00m nbody \u001b[38;5;28;01melse\u001b[39;00m \u001b[38;5;124m\"\u001b[39m\u001b[38;5;124mTIME[Myr]\u001b[39m\u001b[38;5;124m\"\u001b[39m\n",
      "File \u001b[0;32m~/.local/lib/python3.9/site-packages/nbody6tools/Reader.py:22\u001b[0m, in \u001b[0;36mget_globals\u001b[0;34m(folder)\u001b[0m\n\u001b[1;32m     20\u001b[0m \u001b[38;5;28;01mdef\u001b[39;00m \u001b[38;5;21mget_globals\u001b[39m(folder):\n\u001b[1;32m     21\u001b[0m     \u001b[38;5;124m\"\u001b[39m\u001b[38;5;124mfind last block of globals that is good\u001b[39m\u001b[38;5;124m\"\u001b[39m\n\u001b[0;32m---> 22\u001b[0m     x \u001b[38;5;241m=\u001b[39m \u001b[38;5;28;43mopen\u001b[39;49m\u001b[43m(\u001b[49m\u001b[38;5;124;43m\"\u001b[39;49m\u001b[38;5;132;43;01m%s\u001b[39;49;00m\u001b[38;5;124;43m/global.30\u001b[39;49m\u001b[38;5;124;43m\"\u001b[39;49m\u001b[38;5;241;43m%\u001b[39;49m\u001b[43mfolder\u001b[49m\u001b[43m,\u001b[49m\u001b[38;5;124;43m\"\u001b[39;49m\u001b[38;5;124;43mr\u001b[39;49m\u001b[38;5;124;43m\"\u001b[39;49m\u001b[43m)\u001b[49m\u001b[38;5;241m.\u001b[39mreadlines()\n\u001b[1;32m     23\u001b[0m     it \u001b[38;5;241m=\u001b[39m [ i \u001b[38;5;28;01mfor\u001b[39;00m i \u001b[38;5;129;01min\u001b[39;00m \u001b[38;5;28mrange\u001b[39m(\u001b[38;5;28mlen\u001b[39m(x)) \u001b[38;5;28;01mif\u001b[39;00m \u001b[38;5;124m\"\u001b[39m\u001b[38;5;124mTIME\u001b[39m\u001b[38;5;124m\"\u001b[39m \u001b[38;5;129;01min\u001b[39;00m x[i] ]  \u001b[38;5;66;03m#find headers if more than one\u001b[39;00m\n\u001b[1;32m     24\u001b[0m     \u001b[38;5;66;03m#header = x[it[-1]]\u001b[39;00m\n",
      "\u001b[0;31mFileNotFoundError\u001b[0m: [Errno 2] No such file or directory: '../../../../../storage/jfarias/Data/Orion/massive_clusters/M3000new/sigma0p1/fiducial/sfe_ff001/00//global.30'"
     ]
    }
   ],
   "source": [
    "# read nbody data\n",
    "path_to_data = '../../../../../storage/jfarias/Data/Orion/massive_clusters/M3000new/sigma0p1/fiducial/sfe_ff001/00/'\n",
    "snapshot = Reader.read_snapshot(path_to_data, time = 20)\n",
    "\n",
    "# convert snapshot values from nbody units to astrophysical, extract masses\n",
    "snapshot.to_physical()\n",
    "\n",
    "# read ages for simulated stars\n",
    "cluster_table = converter.to_spicea_table(snapshot)\n",
    "\n",
    "print(cluster_table)\n",
    "\n",
    "masses = cluster_table['mass']\n",
    "level_ages = cluster_table['age']\n",
    "\n",
    "for i in range(len(level_ages)):\n",
    "    level_ages[i] = level_ages[i] * 1e6\n",
    "\n",
    "# convert log ages from log(Myr) to log(yr)\n",
    "log_ages = np.log10(level_ages)\n",
    "\n",
    "# print(log_ages)\n",
    "print(\"Min log age = \" + str(min(log_ages)))\n",
    "print(\"Max log age = \" + str(max(log_ages)))\n",
    "\n",
    "# print(level_ages)\n",
    "print(\"Min level age = \" + str(min(level_ages)))\n",
    "print(\"Max level age = \" + str(max(level_ages)))"
   ]
  },
  {
   "cell_type": "code",
   "execution_count": null,
   "id": "33872a7f",
   "metadata": {},
   "outputs": [],
   "source": [
    "start = (min(level_ages) // 0.5e6) * 0.5e6\n",
    "end = (max(level_ages) // 0.5e6) * 0.5e6 + 2 * 0.5e6\n",
    "increment = 0.5e6  # 500,000\n",
    "\n",
    "# Create age arrays\n",
    "level_age_arr = np.arange(start, end, increment)\n",
    "log_age_arr = np.log10(level_age_arr)\n",
    "\n",
    "print(log_age_arr)\n",
    "print(level_age_arr)"
   ]
  },
  {
   "cell_type": "code",
   "execution_count": null,
   "id": "f18a2b6d",
   "metadata": {
    "scrolled": true
   },
   "outputs": [],
   "source": [
    "# create isochrone grid - if this is the first time, then this is going to take an hour lmfao\n",
    "instances = np.empty(len(log_age_arr), dtype=object)\n",
    "\n",
    "for i in range(len(log_age_arr)):\n",
    "    my_iso = synthetic.IsochronePhot(log_age_arr[i], AKs, dist, metallicity=metallicity,\n",
    "                            evo_model=evo_model, atm_func=atm_func,\n",
    "                            red_law=red_law, filters=filt_list,\n",
    "                                iso_dir=iso_dir)\n",
    "    instances[i] = my_iso\n",
    "        \n",
    "print(\"isochrone generation done\")"
   ]
  },
  {
   "cell_type": "code",
   "execution_count": null,
   "id": "25789b2a",
   "metadata": {},
   "outputs": [],
   "source": [
    "# identify array indeces, create array for labels and colors\n",
    "idx_arr = range(0, len(log_age_arr))\n",
    "if len(idx_arr) > 2:\n",
    "    idx_arr = idx_arr[::2]\n",
    "\n",
    "# Plot CMD\n",
    "fig, axes = py.subplots(figsize=(15, 10))\n",
    "py.subplot(1, 2, 1)\n",
    "for i in range(len(idx_arr)):\n",
    "    idx = idx_arr[i]\n",
    "    if i == 0:\n",
    "        py.plot(instances[idx].points[filters[0]] - instances[idx].points[filters[1]], \n",
    "           instances[idx].points[filters[1]], 'lightcoral', label=level_age_arr[i])\n",
    "    elif i == len(idx_arr) - 1:\n",
    "        py.plot(instances[idx].points[filters[0]] - instances[idx].points[filters[1]], \n",
    "           instances[idx].points[filters[1]], 'darkred', label=level_age_arr[i])\n",
    "    else:\n",
    "        py.plot(instances[idx].points[filters[0]] - instances[idx].points[filters[1]], \n",
    "           instances[idx].points[filters[1]], 'red', label='')\n",
    "    \n",
    "py.xlabel('F115W - F182M')\n",
    "py.ylabel('F182M')\n",
    "py.gca().invert_yaxis()\n",
    "py.legend()\n",
    "\n",
    "# Plot HR\n",
    "py.subplot(1, 2, 2)\n",
    "watts_to_lsun = 1.0 / (3.846e26) # conversion factor for watts to Lsun\n",
    "for i in range(len(idx_arr)):\n",
    "    idx = idx_arr[i]\n",
    "    data_iso_Lsun = instances[idx].points['L'] * watts_to_lsun\n",
    "    if i == 0:\n",
    "        py.plot(instances[idx].points['Teff'], data_iso_Lsun, 'lightcoral', label=level_age_arr[i])\n",
    "    elif i == len(idx_arr) - 1:\n",
    "        py.plot(instances[idx].points['Teff'], data_iso_Lsun, 'darkred', label=level_age_arr[i])\n",
    "    else:    \n",
    "        py.plot(instances[idx].points['Teff'], data_iso_Lsun, 'red', label='')\n",
    "\n",
    "py.xscale('log')\n",
    "py.yscale('log')\n",
    "py.xlabel('Effective Temperature, $T$ (K)')\n",
    "py.ylabel('Luminosity, $L$ ($L_{\\odot}$)')\n",
    "py.gca().invert_xaxis()\n",
    "\n",
    "py.legend()"
   ]
  },
  {
   "cell_type": "code",
   "execution_count": null,
   "id": "c106bef2",
   "metadata": {},
   "outputs": [],
   "source": [
    "import sys\n",
    "sys.path.append('/scratch/wyz5rge/synthetic-hr')\n",
    "import interpolator\n",
    "\n",
    "level_ages_myr = level_ages / 1e6\n",
    "# print(level_ages_myr)\n",
    "\n",
    "# create array of stars\n",
    "stars = np.empty(len(cluster_table), dtype=object)\n",
    "\n",
    "# perform interpolation for each star\n",
    "skip = [264, 334, 1822, 2863]\n",
    "for i in range(len(stars)):\n",
    "    if i in skip:\n",
    "        continue\n",
    "    # print(str(i) + \" \" + str(level_ages_myr[i]) + \" \" + str(masses[i]))\n",
    "    stars[i] = interpolator.interpolate(level_ages_myr[i], masses[i], instances, log_age_arr, filters)\n",
    "\n",
    "# convert luminosity values to solar luminosities\n",
    "for i in range(len(stars)):\n",
    "    if i in skip:\n",
    "        continue\n",
    "    stars[i][0] = stars[i][0] * watts_to_lsun\n",
    "\n",
    "# print(stars)"
   ]
  },
  {
   "cell_type": "code",
   "execution_count": null,
   "id": "ce480f6b",
   "metadata": {
    "scrolled": true
   },
   "outputs": [],
   "source": [
    "fig, axes = py.subplots(figsize=(15, 10))\n",
    "\n",
    "# plot CMD\n",
    "py.subplot(1, 2, 1)\n",
    "\n",
    "for i in range(len(idx_arr)):\n",
    "    idx = idx_arr[i]\n",
    "    if i == 0:\n",
    "        py.plot(instances[idx].points[filters[0]] - instances[idx].points[filters[1]], \n",
    "           instances[idx].points[filters[1]], 'lightcoral', label=level_age_arr[i])\n",
    "    elif i == len(idx_arr) - 1:\n",
    "        py.plot(instances[idx].points[filters[0]] - instances[idx].points[filters[1]], \n",
    "           instances[idx].points[filters[1]], 'darkred', label=level_age_arr[i])\n",
    "    else:\n",
    "        py.plot(instances[idx].points[filters[0]] - instances[idx].points[filters[1]], \n",
    "           instances[idx].points[filters[1]], 'red', label='')\n",
    "    \n",
    "py.xlabel('F115W - F182M')\n",
    "py.ylabel('F182M')\n",
    "py.gca().invert_yaxis()\n",
    "py.legend()\n",
    "\n",
    "for i in range(len(stars)):\n",
    "    if i in skip or masses[i] < 0.1:\n",
    "        continue\n",
    "    py.plot(stars[i][3] - stars[i][4], stars[i][4], marker='o', markersize=1, color='k')\n",
    "\n",
    "# Plot HR\n",
    "py.subplot(1, 2, 2)\n",
    "\n",
    "for i in range(len(idx_arr)):\n",
    "    idx = idx_arr[i]\n",
    "    data_iso_Lsun = instances[idx].points['L'] * watts_to_lsun\n",
    "    if i == 0:\n",
    "        py.plot(instances[idx].points['Teff'], data_iso_Lsun, 'lightcoral', label=level_age_arr[i])\n",
    "    elif i == len(idx_arr) - 1:\n",
    "        py.plot(instances[idx].points['Teff'], data_iso_Lsun, 'darkred', label=level_age_arr[i])\n",
    "    else:    \n",
    "        py.plot(instances[idx].points['Teff'], data_iso_Lsun, 'red', label='')\n",
    "\n",
    "py.xscale('log')\n",
    "py.yscale('log')\n",
    "py.xlabel('Effective Temperature, $T$ (K)')\n",
    "py.ylabel('Luminosity, $L$ ($L_{\\odot}$)')\n",
    "py.gca().invert_xaxis()\n",
    "py.legend()\n",
    "\n",
    "for i in range(len(stars)):\n",
    "    if i in skip or masses[i] < 0.1:\n",
    "        continue\n",
    "    py.plot(stars[i][1], stars[i][0], marker='o', markersize=1, color='k')"
   ]
  },
  {
   "cell_type": "code",
   "execution_count": null,
   "id": "16b50f3c",
   "metadata": {},
   "outputs": [],
   "source": []
  }
 ],
 "metadata": {
  "kernelspec": {
   "display_name": "Python 3",
   "language": "python",
   "name": "python3"
  },
  "language_info": {
   "codemirror_mode": {
    "name": "ipython",
    "version": 3
   },
   "file_extension": ".py",
   "mimetype": "text/x-python",
   "name": "python",
   "nbconvert_exporter": "python",
   "pygments_lexer": "ipython3",
   "version": "3.9.12"
  }
 },
 "nbformat": 4,
 "nbformat_minor": 5
}
