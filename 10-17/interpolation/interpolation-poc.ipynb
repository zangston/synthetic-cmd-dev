{
 "cells": [
  {
   "cell_type": "code",
   "execution_count": 1,
   "id": "f502fb46",
   "metadata": {},
   "outputs": [
    {
     "name": "stderr",
     "output_type": "stream",
     "text": [
      "/home/wyz5rge/.local/lib/python3.9/site-packages/pysynphot/locations.py:345: UserWarning: Extinction files not found in /scratch/wyz5rge/models/cdbs/extinction\n",
      "  warnings.warn('Extinction files not found in %s' % (extdir, ))\n"
     ]
    }
   ],
   "source": [
    "# import packages\n",
    "from spisea import synthetic, evolution, atmospheres, reddening, ifmr\n",
    "from spisea.imf import imf, multiplicity\n",
    "import numpy as np\n",
    "import pylab as py\n",
    "import pdb\n",
    "import matplotlib.pyplot as plt"
   ]
  },
  {
   "cell_type": "code",
   "execution_count": 8,
   "id": "33872a7f",
   "metadata": {},
   "outputs": [],
   "source": [
    "# Define the range and increment for age array\n",
    "start = 1e6  # 1 million\n",
    "end = 20e6   # 20 million\n",
    "increment = 0.5e6  # 500,000\n",
    "\n",
    "# Create log age array\n",
    "age_arr = np.arange(start, end + increment, increment)\n",
    "age_arr = np.log10(age_arr)"
   ]
  },
  {
   "cell_type": "code",
   "execution_count": 9,
   "id": "03e3c2c9",
   "metadata": {},
   "outputs": [],
   "source": [
    "# define other isochrone parameters\n",
    "AKs_arr = [3]\n",
    "dist_arr = [4500]\n",
    "evo_model = evolution.MISTv1()\n",
    "atm_func = atmospheres.get_merged_atmosphere\n",
    "red_law = reddening.RedLawHosek18b()\n",
    "filt_list = ['jwst,F162M', 'jwst,F200W']\n",
    "iso_dir = 'isochrones/'"
   ]
  },
  {
   "cell_type": "code",
   "execution_count": null,
   "id": "f18a2b6d",
   "metadata": {},
   "outputs": [],
   "source": [
    "# create isochrone grid - if this is the first time, then this is going to take an hour lmfao\n",
    "\n",
    "iso_grid = synthetic.make_isochrone_grid(age_arr, AKs_arr, dist_arr, evo_model,\n",
    "                        atm_func, red_law, iso_dir, mass_sampling=1,\n",
    "                        filters=filt_list)"
   ]
  }
 ],
 "metadata": {
  "kernelspec": {
   "display_name": "Python 3",
   "language": "python",
   "name": "python3"
  },
  "language_info": {
   "codemirror_mode": {
    "name": "ipython",
    "version": 3
   },
   "file_extension": ".py",
   "mimetype": "text/x-python",
   "name": "python",
   "nbconvert_exporter": "python",
   "pygments_lexer": "ipython3",
   "version": "3.9.12"
  }
 },
 "nbformat": 4,
 "nbformat_minor": 5
}
