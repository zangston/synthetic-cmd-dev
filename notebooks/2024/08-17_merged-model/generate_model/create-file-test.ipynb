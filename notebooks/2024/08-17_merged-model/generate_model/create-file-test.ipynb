{
 "cells": [
  {
   "cell_type": "code",
   "execution_count": 1,
   "id": "4a8c63ea",
   "metadata": {},
   "outputs": [
    {
     "name": "stdout",
     "output_type": "stream",
     "text": [
      "/scratch/wyz5rge/synthetic-hr/2024/08-17/merged-model/generate_model/data\n"
     ]
    },
    {
     "data": {
      "text/plain": [
       "'/scratch/wyz5rge/synthetic-hr/2024/08-17/merged-model/generate_model/data'"
      ]
     },
     "execution_count": 1,
     "metadata": {},
     "output_type": "execute_result"
    }
   ],
   "source": [
    "%cd '/scratch/wyz5rge/synthetic-hr/2024/08-17/merged-model/generate_model/data'\n",
    "%pwd"
   ]
  },
  {
   "cell_type": "code",
   "execution_count": 2,
   "id": "1d26a97d",
   "metadata": {},
   "outputs": [],
   "source": [
    "# params assumed to be passed into this program if it were a .py script\n",
    "new_files_path = '/scratch/wyz5rge/synthetic-hr/2024/08-17/merged-model/general_model/data/merged-new'\n",
    "old_files_path = '/scratch/wyz5rge/synthetic-hr/2024/08-17/merged-model/general_model/data/merged-old'\n",
    "baraffe_files_path = '/scratch/wyz5rge/synthetic-hr/2024/08-17/merged-model/general_model/data/baraffe'"
   ]
  },
  {
   "cell_type": "code",
   "execution_count": 3,
   "id": "2026cd9a",
   "metadata": {},
   "outputs": [],
   "source": [
    "import numpy as np\n",
    "from astropy.io import fits\n",
    "from astropy.table import Table"
   ]
  },
  {
   "cell_type": "code",
   "execution_count": 4,
   "id": "3f127230",
   "metadata": {},
   "outputs": [],
   "source": [
    "a1 = [1]\n",
    "col1 = fits.Column(name='col1', format='D', array=a1)\n",
    "\n",
    "a2 = [2]\n",
    "col2 = fits.Column(name='col2', format='D', array=a2)\n",
    "\n",
    "a3 = [3]\n",
    "col3 = fits.Column(name='col3', format='D', array=a3)\n",
    "\n",
    "a4 = [4]\n",
    "col4 = fits.Column(name='col4', format='D', array=a4)\n",
    "\n",
    "a5 = [5]\n",
    "col5 = fits.Column(name='col5', format='D', array=a5)\n",
    "\n",
    "a6 = [6]\n",
    "col6 = fits.Column(name='col6', format='D', array=a6)\n",
    "\n",
    "a7 = [7]\n",
    "col7 = fits.Column(name='col7', format='K', array=a7)\n",
    "\n",
    "a8 = [\"test string\"]\n",
    "col8 = fits.Column(name='col8', format='12A', array=a8)\n",
    "\n",
    "cols = fits.ColDefs([col1, col2, col3, col4, col5, col6, col7, col8])\n",
    "\n",
    "hdu = fits.BinTableHDU.from_columns(cols)\n",
    "\n",
    "hdu.writeto('test.fits')"
   ]
  },
  {
   "cell_type": "code",
   "execution_count": 8,
   "id": "1ce9b4ce",
   "metadata": {},
   "outputs": [
    {
     "name": "stdout",
     "output_type": "stream",
     "text": [
      "Filename: test.fits\n",
      "No.    Name      Ver    Type      Cards   Dimensions   Format\n",
      "  0  PRIMARY       1 PrimaryHDU       4   ()      \n",
      "  1                1 BinTableHDU     24   1R x 8C   [D, D, D, D, D, D, K, 12A]   \n",
      "ColDefs(\n",
      "    name = 'col1'; format = 'D'\n",
      "    name = 'col2'; format = 'D'\n",
      "    name = 'col3'; format = 'D'\n",
      "    name = 'col4'; format = 'D'\n",
      "    name = 'col5'; format = 'D'\n",
      "    name = 'col6'; format = 'D'\n",
      "    name = 'col7'; format = 'K'\n",
      "    name = 'col8'; format = '12A'\n",
      ")\n",
      "[(1., 2., 3., 4., 5., 6., 7, 'test string')]\n"
     ]
    }
   ],
   "source": [
    "hdu = fits.open('test.fits')\n",
    "hdu.info()\n",
    "\n",
    "print(hdu[1].columns)\n",
    "print(hdu[1].data)"
   ]
  },
  {
   "cell_type": "code",
   "execution_count": null,
   "id": "575cd664",
   "metadata": {},
   "outputs": [],
   "source": []
  }
 ],
 "metadata": {
  "kernelspec": {
   "display_name": "Python 3",
   "language": "python",
   "name": "python3"
  },
  "language_info": {
   "codemirror_mode": {
    "name": "ipython",
    "version": 3
   },
   "file_extension": ".py",
   "mimetype": "text/x-python",
   "name": "python",
   "nbconvert_exporter": "python",
   "pygments_lexer": "ipython3",
   "version": "3.6.9"
  }
 },
 "nbformat": 4,
 "nbformat_minor": 5
}
