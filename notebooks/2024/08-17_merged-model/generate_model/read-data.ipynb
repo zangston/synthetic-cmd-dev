{
 "cells": [
  {
   "cell_type": "code",
   "execution_count": 6,
   "id": "e28f02af",
   "metadata": {},
   "outputs": [],
   "source": [
    "from astropy.io import fits"
   ]
  },
  {
   "cell_type": "code",
   "execution_count": 11,
   "id": "a7284af9",
   "metadata": {},
   "outputs": [
    {
     "name": "stdout",
     "output_type": "stream",
     "text": [
      "/scratch/wyz5rge/synthetic-hr/2024/08-17/merged-model/generate_model/data\n"
     ]
    },
    {
     "data": {
      "text/plain": [
       "'/scratch/wyz5rge/synthetic-hr/2024/08-17/merged-model/generate_model/data'"
      ]
     },
     "execution_count": 11,
     "metadata": {},
     "output_type": "execute_result"
    }
   ],
   "source": [
    "%cd '/scratch/wyz5rge/synthetic-hr/2024/08-17/merged-model/generate_model/data'\n",
    "%pwd"
   ]
  },
  {
   "cell_type": "code",
   "execution_count": 18,
   "id": "e6c99b9f",
   "metadata": {},
   "outputs": [
    {
     "name": "stdout",
     "output_type": "stream",
     "text": [
      "Filename: baraffe/z015/iso_6.00.fits\n",
      "No.    Name      Ver    Type      Cards   Dimensions   Format\n",
      "  0  PRIMARY       1 PrimaryHDU       4   ()      \n",
      "  1                1 BinTableHDU     18   30R x 5C   [D, D, D, D, D]   \n",
      "ColDefs(\n",
      "    name = 'Mass'; format = 'D'\n",
      "    name = 'Teff'; format = 'D'\n",
      "    name = 'logL'; format = 'D'\n",
      "    name = 'logG'; format = 'D'\n",
      "    name = 'Rad'; format = 'D'\n",
      ")\n",
      "[(0.01 , 2346.48053214, -2.6965584 , 3.5696688 , 0.2721104 )\n",
      " (0.015, 2503.94526829, -2.41960205, 3.58154732, 0.3278358 )\n",
      " (0.02 , 2598.32931841, -2.24270682, 3.59403613, 0.37331727)\n",
      " (0.03 , 2709.96473628, -1.97131737, 3.57131737, 0.46982368)\n",
      " (0.04 , 2779.        , -1.81110598, 3.58010598, 0.53653641)\n",
      " (0.05 , 2823.56243902, -1.64306195, 3.53706195, 0.63106293)\n",
      " (0.06 , 2864.        , -1.52480195, 3.52280195, 0.70214854)\n",
      " (0.07 , 2895.94985634, -1.41194986, 3.49542478, 0.78257522)\n",
      " (0.072, 2894.9024853 , -1.38945124, 3.48435373, 0.80409751)\n",
      " (0.075, 2896.51317695, -1.36002635, 3.47402635, 0.83046047)\n",
      " (0.08 , 2897.42227145, -1.31084454, 3.45326681, 0.87873319)\n",
      " (0.09 , 2907.33247833, -1.22733248, 3.42666496, 0.96033504)\n",
      " (0.1  , 2935.08666938, -1.17217334, 3.43417334, 1.00382666)\n",
      " (0.11 , 2954.51472733, -1.09751473, 3.41202945, 1.07997055)\n",
      " (0.13 , 3012.        , -0.96124002, 3.38148005, 1.21551995)\n",
      " (0.15 , 3078.        , -0.84714148, 3.36714148, 1.32828778)\n",
      " (0.17 , 3142.        , -0.72569722, 3.33569722, 1.46552986)\n",
      " (0.2  , 3226.        , -0.65795335, 3.38495335, 1.50328397)\n",
      " (0.3  , 3428.04111628, -0.47879442, 3.48681498, 1.63634949)\n",
      " (0.4  , 3634.10269347, -0.31597307, 3.55097307, 1.75495118)\n",
      " (0.5  , 3802.69113711, -0.17854431, 3.58954431, 1.87725694)\n",
      " (0.6  , 3955.91557687, -0.06342212, 3.6223799 , 1.98107135)\n",
      " (0.7  , 4078.09988633,  0.03859932, 3.63950057, 2.09719864)\n",
      " (0.8  , 4192.27718083,  0.13077181, 3.65322819, 2.20692952)\n",
      " (0.9  , 4290.        ,  0.21298654, 3.66301346, 2.31476771)\n",
      " (1.   , 4377.25626781,  0.28628134, 3.66971866, 2.41958775)\n",
      " (1.1  , 4456.13869765,  0.35269349, 3.67530651, 2.52194177)\n",
      " (1.2  , 4529.30535289,  0.41505353, 3.67994647, 2.62085523)\n",
      " (1.3  , 4596.23281887,  0.47132819, 3.68367181, 2.71698457)\n",
      " (1.4  , 4658.        ,  0.52466367, 3.68533633, 2.81195737)]\n"
     ]
    }
   ],
   "source": [
    "# Baraffe model low mass\n",
    "hdul = fits.open('baraffe/z015/iso_6.00.fits')\n",
    "hdul.info()\n",
    "\n",
    "print(hdul[1].columns)\n",
    "print(hdul[1].data)"
   ]
  },
  {
   "cell_type": "code",
   "execution_count": 21,
   "id": "1803f5e5",
   "metadata": {},
   "outputs": [
    {
     "name": "stdout",
     "output_type": "stream",
     "text": [
      "Filename: merged-old/z015_norot/iso_6.00.fits\n",
      "No.    Name      Ver    Type      Cards   Dimensions   Format\n",
      "  0  PRIMARY       1 PrimaryHDU       4   ()      \n",
      "  1                1 BinTableHDU     28   1171R x 8C   [D, D, D, D, D, D, K, 12A]   \n",
      "ColDefs(\n",
      "    name = 'col1'; format = 'D'\n",
      "    name = 'col2'; format = 'D'\n",
      "    name = 'col3'; format = 'D'\n",
      "    name = 'col4'; format = 'D'\n",
      "    name = 'col5'; format = 'D'\n",
      "    name = 'col6'; format = 'D'\n",
      "    name = 'col7'; format = 'K'\n",
      "    name = 'col8'; format = '12A'\n",
      ")\n",
      "[(7.00000e-02, 3.4618, -1.4119, 3.4954, 3.4618, 0.07 , 1, 'Baraffe')\n",
      " (7.50000e-02, 3.4619, -1.36  , 3.474 , 3.4619, 0.075, 1, 'Baraffe')\n",
      " (8.00000e-02, 3.462 , -1.3108, 3.4532, 3.462 , 0.08 , 1, 'Baraffe') ...\n",
      " (3.86487e+02, 4.6325,  6.9265, 3.579 , 4.6325, 0.014, 1, 'Ekstrom')\n",
      " (4.39595e+02, 4.6158,  6.9902, 3.5042, 4.6158, 0.014, 1, 'Ekstrom')\n",
      " (5.00000e+02, 4.5939,  7.0524, 3.4104, 4.5939, 0.014, 1, 'Ekstrom')]\n"
     ]
    }
   ],
   "source": [
    "# Merged model no rotation\n",
    "hdul = fits.open('merged-old/z015_norot/iso_6.00.fits')\n",
    "hdul.info()\n",
    "\n",
    "print(hdul[1].columns)\n",
    "print(hdul[1].data)"
   ]
  },
  {
   "cell_type": "code",
   "execution_count": 23,
   "id": "a7bca6b2",
   "metadata": {},
   "outputs": [
    {
     "name": "stdout",
     "output_type": "stream",
     "text": [
      "Filename: merged-old/z015_rot/iso_6.00.fits\n",
      "No.    Name      Ver    Type      Cards   Dimensions   Format\n",
      "  0  PRIMARY       1 PrimaryHDU       4   ()      \n",
      "  1                1 BinTableHDU     28   1171R x 8C   [D, D, D, D, D, D, K, 12A]   \n",
      "ColDefs(\n",
      "    name = 'col1'; format = 'D'\n",
      "    name = 'col2'; format = 'D'\n",
      "    name = 'col3'; format = 'D'\n",
      "    name = 'col4'; format = 'D'\n",
      "    name = 'col5'; format = 'D'\n",
      "    name = 'col6'; format = 'D'\n",
      "    name = 'col7'; format = 'K'\n",
      "    name = 'col8'; format = '12A'\n",
      ")\n",
      "[(7.00000e-02, 3.4618, -1.4119, 3.4954, 3.4618, 0.07 , 1, 'Baraffe')\n",
      " (7.50000e-02, 3.4619, -1.36  , 3.474 , 3.4619, 0.075, 1, 'Baraffe')\n",
      " (8.00000e-02, 3.462 , -1.3108, 3.4532, 3.462 , 0.08 , 1, 'Baraffe') ...\n",
      " (3.86487e+02, 4.6867,  6.9284, 3.7936, 4.6867, 0.014, 1, 'Ekstrom')\n",
      " (4.39595e+02, 4.672 ,  6.9899, 3.7296, 4.672 , 0.014, 1, 'Ekstrom')\n",
      " (5.00000e+02, 4.6569,  7.0508, 3.6642, 4.6569, 0.014, 1, 'Ekstrom')]\n"
     ]
    }
   ],
   "source": [
    "# Merged model rotation\n",
    "hdul = fits.open('merged-old/z015_rot/iso_6.00.fits')\n",
    "hdul.info()\n",
    "\n",
    "print(hdul[1].columns)\n",
    "print(hdul[1].data)"
   ]
  },
  {
   "cell_type": "code",
   "execution_count": 25,
   "id": "1499afe5",
   "metadata": {},
   "outputs": [
    {
     "name": "stdout",
     "output_type": "stream",
     "text": [
      "Filename: merged-old/z015_rot/iso_6.69.fits\n",
      "No.    Name      Ver    Type      Cards   Dimensions   Format\n",
      "  0  PRIMARY       1 PrimaryHDU       4   ()      \n",
      "  1                1 BinTableHDU     28   1519R x 8C   [D, D, D, D, D, D, K, 12A]   \n",
      "ColDefs(\n",
      "    name = 'col1'; format = 'D'\n",
      "    name = 'col2'; format = 'D'\n",
      "    name = 'col3'; format = 'D'\n",
      "    name = 'col4'; format = 'D'\n",
      "    name = 'col5'; format = 'D'\n",
      "    name = 'col6'; format = 'D'\n",
      "    name = 'col7'; format = 'K'\n",
      "    name = 'col8'; format = '12A'\n",
      ")\n",
      "[( 0.07 , 3.4663, -1.7522, 3.8533, 3.4663, 0.07 , 1, 'Baraffe')\n",
      " ( 0.075, 3.4686, -1.718 , 3.859 , 3.4686, 0.075, 1, 'Baraffe')\n",
      " ( 0.08 , 3.4709, -1.683 , 3.8612, 3.4709, 0.08 , 1, 'Baraffe') ...\n",
      " (58.572, 4.8203,  5.7997, 6.3965, 5.259 , 0.014, 1, 'Ekstrom')\n",
      " (58.599, 4.8305,  5.8179, 6.4644, 5.2802, 0.014, 1, 'Ekstrom')\n",
      " (58.626, 4.8407,  5.8361, 6.5254, 5.3014, 0.014, 1, 'Ekstrom')]\n"
     ]
    }
   ],
   "source": [
    "hdul = fits.open('merged-old/z015_rot/iso_6.69.fits')\n",
    "hdul.info()\n",
    "\n",
    "print(hdul[1].columns)\n",
    "print(hdul[1].data)"
   ]
  },
  {
   "cell_type": "code",
   "execution_count": 24,
   "id": "d65d0d0d",
   "metadata": {},
   "outputs": [
    {
     "name": "stdout",
     "output_type": "stream",
     "text": [
      "Filename: merged-old/z015_rot/iso_6.70_2.70_04000.fits\n",
      "No.    Name      Ver    Type      Cards   Dimensions   Format\n",
      "  0  PRIMARY       1 PrimaryHDU       4   ()      \n",
      "  1                1 BinTableHDU     41   1597R x 10C   [D, D, D, D, D, L, D, K, D, D]   \n",
      "ColDefs(\n",
      "    name = 'L'; format = 'D'; unit = 'W'\n",
      "    name = 'Teff'; format = 'D'; unit = 'K'\n",
      "    name = 'R'; format = 'D'; unit = 'm'\n",
      "    name = 'mass'; format = 'D'; unit = 'solMass'\n",
      "    name = 'logg'; format = 'D'\n",
      "    name = 'isWR'; format = 'L'\n",
      "    name = 'mass_current'; format = 'D'; unit = 'solMass'\n",
      "    name = 'phase'; format = 'K'\n",
      "    name = 'm_hst_f127m'; format = 'D'\n",
      "    name = 'm_nirc2_J'; format = 'D'\n",
      ")\n",
      "[(6.44127631e+24,  2929.54382977, 3.50328483e+08,  0.07 , 3.8777,  0, 0.07 , 1, 27.61739914, 27.94745363)\n",
      " (6.96581489e+24,  2945.77790234, 3.60309280e+08,  0.075, 3.8835,  0, 0.075, 1, 27.53756966, 27.86722671)\n",
      " (7.57306927e+24,  2960.73815175, 3.71899375e+08,  0.08 , 3.8837,  0, 0.08 , 1, 27.45155859, 27.7808705 )\n",
      " ...\n",
      " (2.25149988e+32, 67375.18954706, 3.91584460e+09, 54.191, 6.4542,  1, 0.014, 1, 16.73407892, 17.02819026)\n",
      " (2.33115918e+32, 68675.21061488, 3.83508901e+09, 54.211, 6.5169,  1, 0.014, 1, 17.22831188, 17.51986374)\n",
      " (2.42589461e+32, 70226.33437358, 3.74132511e+09, 54.23 , 6.5844,  1, 0.014, 1, 17.26483207, 17.55637506)]\n"
     ]
    }
   ],
   "source": [
    "# Merged model rotation (idk what these files are)\n",
    "hdul = fits.open('merged-old/z015_rot/iso_6.70_2.70_04000.fits')\n",
    "hdul.info()\n",
    "\n",
    "print(hdul[1].columns)\n",
    "print(hdul[1].data)"
   ]
  },
  {
   "cell_type": "code",
   "execution_count": 26,
   "id": "c28a14a2",
   "metadata": {},
   "outputs": [
    {
     "name": "stdout",
     "output_type": "stream",
     "text": [
      "Filename: merged-old/z015_rot/iso_6.70.fits\n",
      "No.    Name      Ver    Type      Cards   Dimensions   Format\n",
      "  0  PRIMARY       1 PrimaryHDU       4   ()      \n",
      "  1                1 BinTableHDU     28   1605R x 8C   [D, D, D, D, D, D, K, 12A]   \n",
      "ColDefs(\n",
      "    name = 'col1'; format = 'D'\n",
      "    name = 'col2'; format = 'D'\n",
      "    name = 'col3'; format = 'D'\n",
      "    name = 'col4'; format = 'D'\n",
      "    name = 'col5'; format = 'D'\n",
      "    name = 'col6'; format = 'D'\n",
      "    name = 'col7'; format = 'K'\n",
      "    name = 'col8'; format = '12A'\n",
      ")\n",
      "[( 0.07 , 3.4666, -1.764 , 3.866 , 3.4666, 0.07 , 1, 'Baraffe')\n",
      " ( 0.075, 3.4689, -1.7298, 3.8717, 3.4689, 0.075, 1, 'Baraffe')\n",
      " ( 0.08 , 3.4711, -1.693 , 3.8728, 3.4711, 0.08 , 1, 'Baraffe') ...\n",
      " (56.359, 4.8323,  5.7987, 6.4713, 5.2841, 0.014, 1, 'Ekstrom')\n",
      " (56.379, 4.8405,  5.8134, 6.5339, 5.301 , 0.014, 1, 'Ekstrom')\n",
      " (56.4  , 4.8535,  5.836 , 6.6299, 5.332 , 0.014, 1, 'Ekstrom')]\n"
     ]
    }
   ],
   "source": [
    "# Merged model rotation\n",
    "hdul = fits.open('merged-old/z015_rot/iso_6.70.fits')\n",
    "hdul.info()\n",
    "\n",
    "print(hdul[1].columns)\n",
    "print(hdul[1].data)"
   ]
  },
  {
   "cell_type": "code",
   "execution_count": 27,
   "id": "12eeb158",
   "metadata": {},
   "outputs": [
    {
     "name": "stdout",
     "output_type": "stream",
     "text": [
      "Filename: merged-old/z015_rot/iso_6.71.fits\n",
      "No.    Name      Ver    Type      Cards   Dimensions   Format\n",
      "  0  PRIMARY       1 PrimaryHDU       4   ()      \n",
      "  1                1 BinTableHDU     28   1597R x 8C   [D, D, D, D, D, D, K, 12A]   \n",
      "ColDefs(\n",
      "    name = 'col1'; format = 'D'\n",
      "    name = 'col2'; format = 'D'\n",
      "    name = 'col3'; format = 'D'\n",
      "    name = 'col4'; format = 'D'\n",
      "    name = 'col5'; format = 'D'\n",
      "    name = 'col6'; format = 'D'\n",
      "    name = 'col7'; format = 'K'\n",
      "    name = 'col8'; format = '12A'\n",
      ")\n",
      "[( 0.07 , 3.4668, -1.774 , 3.8777, 3.4668, 0.07 , 1, 'Baraffe')\n",
      " ( 0.075, 3.4692, -1.74  , 3.8835, 3.4692, 0.075, 1, 'Baraffe')\n",
      " ( 0.08 , 3.4714, -1.7037, 3.8837, 3.4714, 0.08 , 1, 'Baraffe') ...\n",
      " (54.191, 4.8285,  5.7695, 6.4542, 5.2765, 0.014, 1, 'Ekstrom')\n",
      " (54.211, 4.8368,  5.7846, 6.5169, 5.2937, 0.014, 1, 'Ekstrom')\n",
      " (54.23 , 4.8465,  5.8019, 6.5844, 5.3149, 0.014, 1, 'Ekstrom')]\n"
     ]
    }
   ],
   "source": [
    "# Merged model rotation\n",
    "hdul = fits.open('merged-old/z015_rot/iso_6.71.fits')\n",
    "hdul.info()\n",
    "\n",
    "print(hdul[1].columns)\n",
    "print(hdul[1].data)"
   ]
  },
  {
   "cell_type": "code",
   "execution_count": null,
   "id": "7432608a",
   "metadata": {},
   "outputs": [],
   "source": []
  }
 ],
 "metadata": {
  "kernelspec": {
   "display_name": "Python 3",
   "language": "python",
   "name": "python3"
  },
  "language_info": {
   "codemirror_mode": {
    "name": "ipython",
    "version": 3
   },
   "file_extension": ".py",
   "mimetype": "text/x-python",
   "name": "python",
   "nbconvert_exporter": "python",
   "pygments_lexer": "ipython3",
   "version": "3.6.9"
  }
 },
 "nbformat": 4,
 "nbformat_minor": 5
}
