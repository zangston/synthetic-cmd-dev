{
 "cells": [
  {
   "cell_type": "code",
   "execution_count": 1,
   "id": "9da07e07",
   "metadata": {},
   "outputs": [
    {
     "name": "stderr",
     "output_type": "stream",
     "text": [
      "/home/wyz5rge/.local/lib/python3.9/site-packages/pysynphot/locations.py:345: UserWarning: Extinction files not found in /scratch/wyz5rge/models/cdbs/extinction\n",
      "  warnings.warn('Extinction files not found in %s' % (extdir, ))\n",
      "/home/wyz5rge/.local/lib/python3.9/site-packages/pysynphot/locations.py:345: UserWarning: Extinction files not found in /scratch/wyz5rge/models/cdbs/extinction\n",
      "  warnings.warn('Extinction files not found in %s' % (extdir, ))\n",
      "/home/wyz5rge/.local/lib/python3.9/site-packages/pysynphot/locations.py:345: UserWarning: Extinction files not found in /scratch/wyz5rge/models/cdbs/extinction\n",
      "  warnings.warn('Extinction files not found in %s' % (extdir, ))\n"
     ]
    }
   ],
   "source": [
    "# import packages\n",
    "import numpy as np\n",
    "import pylab as py\n",
    "import matplotlib.pyplot as plt\n",
    "import math\n",
    "\n",
    "# import spisea packages\n",
    "from spisea import synthetic, evolution, atmospheres, reddening, ifmr\n",
    "from spisea.imf import imf, multiplicity\n",
    "\n",
    "# colormap stuff for plot generation\n",
    "from matplotlib.colors import Normalize\n",
    "from matplotlib.cm import ScalarMappable"
   ]
  },
  {
   "cell_type": "markdown",
   "id": "c665ceec",
   "metadata": {},
   "source": [
    "# Isochrone parameters\n",
    "The difference this time is that we are using 6 filters for chi-squared analysis. The interpolation code will most definitely need to be changed so that this can be performed on the synethic CMD outputs created from Nbody6"
   ]
  },
  {
   "cell_type": "code",
   "execution_count": 2,
   "id": "c72ff3d3",
   "metadata": {},
   "outputs": [],
   "source": [
    "# define isochrone parameters\n",
    "AKs = 0\n",
    "dist = 410\n",
    "evo_model = evolution.Baraffe15()\n",
    "atm_func = atmospheres.get_merged_atmosphere\n",
    "red_law = reddening.RedLawHosek18b()\n",
    "filt_list = ['jwst,F115W', 'jwst,F150W' 'jwst,F200W', 'jwst,F277W', 'jwst,F356W', 'jwst,F444W']\n",
    "# filters = ['m_jwst_F115W', 'm_jwst_F150W', 'm_jwst_F200W', 'm_jwst_F277W', 'm_jwst_F356W, m_jwst_F444W']\n",
    "iso_dir = 'isochrones/'\n",
    "metallicity = 0"
   ]
  },
  {
   "cell_type": "code",
   "execution_count": 3,
   "id": "4ab861b2",
   "metadata": {},
   "outputs": [
    {
     "name": "stdout",
     "output_type": "stream",
     "text": [
      "[ 1000000.  1500000.  2000000.  2500000.  3000000.  3500000.  4000000.\n",
      "  4500000.  5000000.  5500000.  6000000.  6500000.  7000000.  7500000.\n",
      "  8000000.  8500000.  9000000.  9500000. 10000000.]\n",
      "[6.         6.17609126 6.30103    6.39794001 6.47712125 6.54406804\n",
      " 6.60205999 6.65321251 6.69897    6.74036269 6.77815125 6.81291336\n",
      " 6.84509804 6.87506126 6.90308999 6.92941893 6.95424251 6.97772361\n",
      " 7.        ]\n",
      "[ 1000000.  1500000.  2000000.  2500000.  3000000.  3500000.  4000000.\n",
      "  4500000.  5000000.  5500000.  6000000.  6500000.  7000000.  7500000.\n",
      "  8000000.  8500000.  9000000.  9500000. 10000000.]\n",
      "[6.         6.17609126 6.30103    6.39794001 6.47712125 6.54406804\n",
      " 6.60205999 6.65321251 6.69897    6.74036269 6.77815125 6.81291336\n",
      " 6.84509804 6.87506126 6.90308999 6.92941893 6.95424251 6.97772361\n",
      " 7.        ]\n",
      "[ 1000000.  1500000.  2000000.  2500000.  3000000.  3500000.  4000000.\n",
      "  4500000.  5000000.  5500000.  6000000.  6500000.  7000000.  7500000.\n",
      "  8000000.  8500000.  9000000.  9500000. 10000000.]\n",
      "[6.         6.17609126 6.30103    6.39794001 6.47712125 6.54406804\n",
      " 6.60205999 6.65321251 6.69897    6.74036269 6.77815125 6.81291336\n",
      " 6.84509804 6.87506126 6.90308999 6.92941893 6.95424251 6.97772361\n",
      " 7.        ]\n"
     ]
    }
   ],
   "source": [
    "# define log age array for isochrone grid\n",
    "level_ages = np.linspace(1, 10, 19)\n",
    "level_ages = np.multiply(level_ages, 1e6)\n",
    "print(level_ages)\n",
    "log_age_arr = np.log10(level_ages)\n",
    "print(log_age_arr)"
   ]
  },
  {
   "cell_type": "markdown",
   "id": "a6ef9ae6",
   "metadata": {},
   "source": [
    "# Generate isochrone grid"
   ]
  },
  {
   "cell_type": "code",
   "execution_count": 4,
   "id": "ba80d334",
   "metadata": {},
   "outputs": [
    {
     "name": "stdout",
     "output_type": "stream",
     "text": [
      "isochrone generation done\n",
      "isochrone generation done\n",
      "isochrone generation done\n"
     ]
    }
   ],
   "source": [
    "instances = np.empty(len(log_age_arr), dtype=object)\n",
    "\n",
    "for i in range(len(log_age_arr)):\n",
    "    my_iso = synthetic.IsochronePhot(log_age_arr[i], AKs, dist, metallicity=metallicity,\n",
    "                            evo_model=evo_model, atm_func=atm_func,\n",
    "                            red_law=red_law, filters=filt_list,\n",
    "                                iso_dir=iso_dir)\n",
    "    instances[i] = my_iso\n",
    "        \n",
    "print(\"isochrone generation done\")"
   ]
  },
  {
   "cell_type": "code",
   "execution_count": 5,
   "id": "461a41d9",
   "metadata": {},
   "outputs": [
    {
     "name": "stdout",
     "output_type": "stream",
     "text": [
      "          L                  Teff               R           mass         logg        isWR mass_current phase    m_jwst_F115W      m_hst_F200W        m_jwst_F277W      m_jwst_F356W      m_jwst_F444W   \n",
      "          W                   K                 m         solMass                           solMass                                                                                                     \n",
      "--------------------- ----------------- ----------------- ------- ----------------- ----- ------------ ----- ----------------- ------------------ ----------------- ----------------- ------------------\n",
      "7.563333251671391e+23 2343.696522948541 187561227.5635766    0.01 3.575606954102917 False         0.01   0.0 17.71753047200617 16.836464318725064 16.71927870521024 15.96674655361852 15.795966366582022\n",
      "          L                  Teff               R           mass         logg        isWR mass_current phase    m_jwst_F115W      m_hst_F200W        m_jwst_F277W      m_jwst_F356W      m_jwst_F444W   \n",
      "          W                   K                 m         solMass                           solMass                                                                                                     \n",
      "--------------------- ----------------- ----------------- ------- ----------------- ----- ------------ ----- ----------------- ------------------ ----------------- ----------------- ------------------\n",
      "7.563333251671391e+23 2343.696522948541 187561227.5635766    0.01 3.575606954102917 False         0.01   0.0 17.71753047200617 16.836464318725064 16.71927870521024 15.96674655361852 15.795966366582022\n",
      "          L                  Teff               R           mass         logg        isWR mass_current phase    m_jwst_F115W      m_hst_F200W        m_jwst_F277W      m_jwst_F356W      m_jwst_F444W   \n",
      "          W                   K                 m         solMass                           solMass                                                                                                     \n",
      "--------------------- ----------------- ----------------- ------- ----------------- ----- ------------ ----- ----------------- ------------------ ----------------- ----------------- ------------------\n",
      "7.563333251671391e+23 2343.696522948541 187561227.5635766    0.01 3.575606954102917 False         0.01   0.0 17.71753047200617 16.836464318725064 16.71927870521024 15.96674655361852 15.795966366582022\n"
     ]
    }
   ],
   "source": [
    "print(instances[0].points[0])"
   ]
  },
  {
   "cell_type": "code",
   "execution_count": null,
   "id": "27f6e8f8",
   "metadata": {},
   "outputs": [],
   "source": []
  }
 ],
 "metadata": {
  "kernelspec": {
   "display_name": "Python 3",
   "language": "python",
   "name": "python3"
  },
  "language_info": {
   "codemirror_mode": {
    "name": "ipython",
    "version": 3
   },
   "file_extension": ".py",
   "mimetype": "text/x-python",
   "name": "python",
   "nbconvert_exporter": "python",
   "pygments_lexer": "ipython3",
   "version": "3.9.12"
  }
 },
 "nbformat": 4,
 "nbformat_minor": 5
}
