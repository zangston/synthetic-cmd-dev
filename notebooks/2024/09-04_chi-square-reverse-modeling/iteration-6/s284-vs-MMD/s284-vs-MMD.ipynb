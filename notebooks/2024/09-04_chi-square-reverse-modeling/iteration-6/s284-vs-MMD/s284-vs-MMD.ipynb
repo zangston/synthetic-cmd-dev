{
 "cells": [
  {
   "cell_type": "code",
   "execution_count": 30,
   "id": "d14d9225",
   "metadata": {},
   "outputs": [
    {
     "data": {
      "text/plain": [
       "<Figure size 720x720 with 0 Axes>"
      ]
     },
     "execution_count": 30,
     "metadata": {},
     "output_type": "execute_result"
    },
    {
     "data": {
      "image/png": "[encoded data removed]",
      "text/plain": [
       "<Figure size 432x288 with 2 Axes>"
      ]
     },
     "metadata": {
      "needs_background": "light"
     },
     "output_type": "display_data"
    },
    {
     "data": {
      "text/plain": [
       "<Figure size 720x720 with 0 Axes>"
      ]
     },
     "metadata": {},
     "output_type": "display_data"
    }
   ],
   "source": [
    "# Import necessary packages\n",
    "import os\n",
    "import numpy as np\n",
    "import pylab as py\n",
    "import matplotlib.pyplot as plt\n",
    "from spisea import synthetic, evolution, atmospheres, reddening, ifmr\n",
    "from spisea.imf import imf, multiplicity\n",
    "from matplotlib.colors import Normalize\n",
    "from matplotlib.cm import ScalarMappable\n",
    "import csv\n",
    "\n",
    "# Paths for isochrones and output\n",
    "iso_dir = 'isochrones/'\n",
    "output_dir = 'output_diagrams/'\n",
    "\n",
    "# Ensure output directory exists\n",
    "os.makedirs(output_dir, exist_ok=True)\n",
    "\n",
    "# Define static isochrone parameters\n",
    "dist = 4500\n",
    "evo_model = evolution.Baraffe15()\n",
    "atm_func = atmospheres.get_merged_atmosphere\n",
    "red_law = reddening.RedLawCardelli(3.1)\n",
    "filt_list = ['jwst,F162M', 'jwst,F182M']\n",
    "filters = ['m_jwst_F162M', 'm_jwst_F182M']\n",
    "metallicity = 0\n",
    "level_ages = np.linspace(1, 10, 19) * 1e6  # Define age array\n",
    "log_age_arr = np.log10(level_ages)\n",
    "AKs = 0\n",
    "\n",
    "# Load sample magnitudes, skipping the header row\n",
    "sample_mags = []\n",
    "with open('../../s284-162-182.csv', mode='r') as file:\n",
    "    csvFile = csv.reader(file)\n",
    "    next(csvFile)  # Skip header row\n",
    "    for lines in csvFile:\n",
    "        sample_mags.append([float(x) for x in lines])\n",
    "\n",
    "# Ensure both isochrone and output directories exist before the loop\n",
    "os.makedirs(iso_dir, exist_ok=True)\n",
    "os.makedirs(output_dir, exist_ok=True)\n",
    "    \n",
    "# Generate isochrone grid\n",
    "instances = np.array([\n",
    "    synthetic.IsochronePhot(log_age, AKs, dist, metallicity=metallicity,\n",
    "                            evo_model=evo_model, atm_func=atm_func,\n",
    "                            red_law=red_law, filters=filt_list,\n",
    "                            iso_dir=iso_dir)\n",
    "    for log_age in log_age_arr\n",
    "])\n",
    "\n",
    "# Create figure\n",
    "cmap = plt.get_cmap('coolwarm')\n",
    "\n",
    "plt.xlabel('F162M')\n",
    "plt.ylabel('F182M')\n",
    "plt.gca().invert_xaxis()\n",
    "plt.gca().invert_yaxis()\n",
    "plt.grid(True)  # Add grid lines to CMD\n",
    "\n",
    "# Magnitude-magnitude diagram (MMD)\n",
    "for i, instance in enumerate(instances):\n",
    "    color = cmap(i / (len(instances) - 1))\n",
    "    plt.plot(instance.points[filters[0]], instance.points[filters[1]], color=color)\n",
    "\n",
    "# Create colorbar legend\n",
    "norm = Normalize(vmin=min(level_ages), vmax=max(level_ages))\n",
    "sm = ScalarMappable(norm=norm, cmap=cmap)\n",
    "sm.set_array([])\n",
    "cbar = plt.colorbar(sm)\n",
    "cbar.set_label('Age (millions of years)')\n",
    "cbar.set_ticks(level_ages)\n",
    "cbar.set_ticklabels([f'{age/1e6:.1f}' for age in level_ages])\n",
    "\n",
    "# Read reference star data from S284 CSV (no error bars)\n",
    "sample_mags = []\n",
    "with open('../../s284-162-182.csv', mode='r') as file:\n",
    "    csvFile = csv.reader(file)\n",
    "    next(csvFile)  # Skip header row\n",
    "    for lines in csvFile:\n",
    "        sample_mags.append([float(x) for x in lines])  # Convert each entry to float\n",
    "\n",
    "ref_star_color = 'gold'\n",
    "ref_star_marker = '*'\n",
    "        \n",
    "for i in range(len(sample_mags)):\n",
    "    plt.plot(sample_mags[i][0], sample_mags[i][1], ref_star_marker, markersize=10, \n",
    "             color=ref_star_color)\n",
    "\n",
    "plt.figure(figsize=(10, 10))"
   ]
  },
  {
   "cell_type": "code",
   "execution_count": null,
   "id": "91b5d9c9",
   "metadata": {},
   "outputs": [],
   "source": []
  }
 ],
 "metadata": {
  "kernelspec": {
   "display_name": "Python 3",
   "language": "python",
   "name": "python3"
  },
  "language_info": {
   "codemirror_mode": {
    "name": "ipython",
    "version": 3
   },
   "file_extension": ".py",
   "mimetype": "text/x-python",
   "name": "python",
   "nbconvert_exporter": "python",
   "pygments_lexer": "ipython3",
   "version": "3.9.12"
  }
 },
 "nbformat": 4,
 "nbformat_minor": 5
}
