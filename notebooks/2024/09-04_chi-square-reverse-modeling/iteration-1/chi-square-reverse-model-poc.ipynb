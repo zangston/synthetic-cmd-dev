{
 "cells": [
  {
   "cell_type": "code",
   "execution_count": 1,
   "id": "9da07e07",
   "metadata": {},
   "outputs": [
    {
     "name": "stderr",
     "output_type": "stream",
     "text": [
      "/home/wyz5rge/.local/lib/python3.9/site-packages/pysynphot/locations.py:345: UserWarning: Extinction files not found in /scratch/wyz5rge/models/cdbs/extinction\n",
      "  warnings.warn('Extinction files not found in %s' % (extdir, ))\n"
     ]
    }
   ],
   "source": [
    "# import packages\n",
    "import numpy as np\n",
    "import pylab as py\n",
    "import matplotlib.pyplot as plt\n",
    "import math\n",
    "\n",
    "# import spisea packages\n",
    "from spisea import synthetic, evolution, atmospheres, reddening, ifmr\n",
    "from spisea.imf import imf, multiplicity\n",
    "\n",
    "# colormap stuff for plot generation\n",
    "from matplotlib.colors import Normalize\n",
    "from matplotlib.cm import ScalarMappable"
   ]
  },
  {
   "cell_type": "markdown",
   "id": "c665ceec",
   "metadata": {},
   "source": [
    "# Isochrone parameters\n",
    "The difference this time is that we are using 6 filters for chi-squared analysis. The interpolation code will most definitely need to be changed so that this can be performed on the synethic CMD outputs created from Nbody6"
   ]
  },
  {
   "cell_type": "code",
   "execution_count": 2,
   "id": "c72ff3d3",
   "metadata": {},
   "outputs": [],
   "source": [
    "# define isochrone parameters\n",
    "AKs = 0\n",
    "dist = 410\n",
    "evo_model = evolution.Baraffe15()\n",
    "atm_func = atmospheres.get_merged_atmosphere\n",
    "red_law = reddening.RedLawHosek18b()\n",
    "filt_list = ['jwst,F115W', 'jwst,F150W', 'jwst,F200W', 'jwst,F277W', 'jwst,F356W', 'jwst,F444W']\n",
    "filters = ['m_jwst_F115W', 'm_jwst_F150W', 'm_jwst_F200W', 'm_jwst_F277W', 'm_jwst_F356W', 'm_jwst_F444W']\n",
    "iso_dir = 'isochrones/'\n",
    "metallicity = 0"
   ]
  },
  {
   "cell_type": "code",
   "execution_count": 3,
   "id": "4ab861b2",
   "metadata": {},
   "outputs": [
    {
     "name": "stdout",
     "output_type": "stream",
     "text": [
      "[ 1000000.  1500000.  2000000.  2500000.  3000000.  3500000.  4000000.\n",
      "  4500000.  5000000.  5500000.  6000000.  6500000.  7000000.  7500000.\n",
      "  8000000.  8500000.  9000000.  9500000. 10000000.]\n",
      "[6.         6.17609126 6.30103    6.39794001 6.47712125 6.54406804\n",
      " 6.60205999 6.65321251 6.69897    6.74036269 6.77815125 6.81291336\n",
      " 6.84509804 6.87506126 6.90308999 6.92941893 6.95424251 6.97772361\n",
      " 7.        ]\n"
     ]
    }
   ],
   "source": [
    "# define log age array for isochrone grid\n",
    "level_ages = np.linspace(1, 10, 19)\n",
    "level_ages = np.multiply(level_ages, 1e6)\n",
    "print(level_ages)\n",
    "log_age_arr = np.log10(level_ages)\n",
    "print(log_age_arr)"
   ]
  },
  {
   "cell_type": "markdown",
   "id": "a6ef9ae6",
   "metadata": {},
   "source": [
    "# Generate isochrone grid"
   ]
  },
  {
   "cell_type": "code",
   "execution_count": 4,
   "id": "ba80d334",
   "metadata": {
    "scrolled": true
   },
   "outputs": [
    {
     "name": "stdout",
     "output_type": "stream",
     "text": [
      "isochrone generation done\n"
     ]
    }
   ],
   "source": [
    "instances = np.empty(len(log_age_arr), dtype=object)\n",
    "\n",
    "for i in range(len(log_age_arr)):\n",
    "    my_iso = synthetic.IsochronePhot(log_age_arr[i], AKs, dist, metallicity=metallicity,\n",
    "                            evo_model=evo_model, atm_func=atm_func,\n",
    "                            red_law=red_law, filters=filt_list,\n",
    "                                iso_dir=iso_dir)\n",
    "    instances[i] = my_iso\n",
    "        \n",
    "print(\"isochrone generation done\")"
   ]
  },
  {
   "cell_type": "markdown",
   "id": "daa94ed2",
   "metadata": {},
   "source": [
    "# Function for calculating chi-square value based on photometric magnitudes"
   ]
  },
  {
   "cell_type": "code",
   "execution_count": 5,
   "id": "b812a17c",
   "metadata": {},
   "outputs": [
    {
     "name": "stdout",
     "output_type": "stream",
     "text": [
      "['L', 'Teff', 'R', 'mass', 'logg', 'isWR', 'mass_current', 'phase', 'm_jwst_F115W', 'm_jwst_F150W', 'm_jwst_F200W', 'm_jwst_F277W', 'm_jwst_F356W', 'm_jwst_F444W']\n"
     ]
    }
   ],
   "source": [
    "print(instances[0].points.keys())"
   ]
  },
  {
   "cell_type": "code",
   "execution_count": 6,
   "id": "27f6e8f8",
   "metadata": {},
   "outputs": [],
   "source": [
    "def chi_square_reverse_model(iso_grid, sample_mags):\n",
    "    results = []\n",
    "    \n",
    "    for i in range(len(iso_grid)):\n",
    "        for j in range(len(iso_grid[i].points)):\n",
    "            arr = []\n",
    "            chi_square = 0\n",
    "            for k in range(len(sample_mags)):\n",
    "                mag_obs = sample_mags[k]\n",
    "                mag_exp = iso_grid[i].points[j][filters[k]]\n",
    "                chi_square = chi_square + (((mag_obs - mag_exp) ** 2) / mag_exp)\n",
    "\n",
    "            arr.append(chi_square)\n",
    "            arr.append(iso_grid[i].points[j]['mass'])\n",
    "            arr.append(10 ** log_age_arr[i])\n",
    "            \n",
    "            results.append(arr)\n",
    "    \n",
    "    sorted_results = sorted(results, key=sort_by_chi_square)\n",
    "    \n",
    "    report(sorted_results[:10])\n",
    "    \n",
    "def sort_by_chi_square(sub_list):\n",
    "    return sub_list[0]\n",
    "\n",
    "def report(output_arr):\n",
    "    for i in range(len(output_arr)):\n",
    "        print(\"Chi-square: \" + str(output_arr[i][0]))\n",
    "        print(\"Mass (Msun): \" + str(output_arr[i][1]))\n",
    "        print(\"Age (Myr): \" + str(output_arr[i][2]))\n",
    "        print()"
   ]
  },
  {
   "cell_type": "markdown",
   "id": "a28362ff",
   "metadata": {},
   "source": [
    "# Test chi-square function against a pre-determined star\n",
    "I am going to perform this test on a 0.9 Msun, 1 Myr star - we expect a 1 Msun, 1 Myr star to have a very low chi-square value"
   ]
  },
  {
   "cell_type": "code",
   "execution_count": 7,
   "id": "f50c06e0",
   "metadata": {},
   "outputs": [
    {
     "name": "stdout",
     "output_type": "stream",
     "text": [
      "[10.984540911059824, 10.294770171751042, 9.977909538052804, 9.972149774893902, 9.907517984661238, 9.943493220686026]\n"
     ]
    }
   ],
   "source": [
    "idx = np.where( abs(instances[0].points['mass'] - 0.90) == min(abs(instances[0].points['mass'] - 0.90)) )[0]\n",
    "\n",
    "sample_mags = []\n",
    "\n",
    "for i in range(len(filters)):\n",
    "    sample_mags.append(instances[0].points[idx][filters[i]][0])\n",
    "    \n",
    "print(sample_mags)"
   ]
  },
  {
   "cell_type": "code",
   "execution_count": 8,
   "id": "ad066f91",
   "metadata": {},
   "outputs": [
    {
     "name": "stdout",
     "output_type": "stream",
     "text": [
      "Chi-square: 0.0\n",
      "Mass (Msun): 0.9\n",
      "Age (Myr): 1000000.0\n",
      "\n",
      "Chi-square: 0.0010994548742689148\n",
      "Mass (Msun): 1.1\n",
      "Age (Myr): 1500000.0000000005\n",
      "\n",
      "Chi-square: 0.0020831283148331475\n",
      "Mass (Msun): 1.3\n",
      "Age (Myr): 2000000.0000000002\n",
      "\n",
      "Chi-square: 0.004739632134347281\n",
      "Mass (Msun): 1.2\n",
      "Age (Myr): 1500000.0000000005\n",
      "\n",
      "Chi-square: 0.004774167795039644\n",
      "Mass (Msun): 1.4\n",
      "Age (Myr): 2499999.9999999995\n",
      "\n",
      "Chi-square: 0.005655083306777714\n",
      "Mass (Msun): 1.4\n",
      "Age (Myr): 2000000.0000000002\n",
      "\n",
      "Chi-square: 0.011334603727357336\n",
      "Mass (Msun): 1.0\n",
      "Age (Myr): 1000000.0\n",
      "\n",
      "Chi-square: 0.0122105561068105\n",
      "Mass (Msun): 1.2\n",
      "Age (Myr): 2000000.0000000002\n",
      "\n",
      "Chi-square: 0.013012026695863904\n",
      "Mass (Msun): 0.8\n",
      "Age (Myr): 1000000.0\n",
      "\n",
      "Chi-square: 0.01397495683593276\n",
      "Mass (Msun): 1.0\n",
      "Age (Myr): 1500000.0000000005\n",
      "\n"
     ]
    }
   ],
   "source": [
    "chi_square_reverse_model(instances, sample_mags)"
   ]
  },
  {
   "cell_type": "code",
   "execution_count": null,
   "id": "5d712fc3",
   "metadata": {},
   "outputs": [],
   "source": []
  }
 ],
 "metadata": {
  "kernelspec": {
   "display_name": "Python 3",
   "language": "python",
   "name": "python3"
  },
  "language_info": {
   "codemirror_mode": {
    "name": "ipython",
    "version": 3
   },
   "file_extension": ".py",
   "mimetype": "text/x-python",
   "name": "python",
   "nbconvert_exporter": "python",
   "pygments_lexer": "ipython3",
   "version": "3.9.12"
  }
 },
 "nbformat": 4,
 "nbformat_minor": 5
}
