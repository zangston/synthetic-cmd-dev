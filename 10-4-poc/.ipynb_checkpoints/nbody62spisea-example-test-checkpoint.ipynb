{
 "cells": [
  {
   "cell_type": "markdown",
   "id": "d4f8c3cb-f104-42e3-aef5-9621d0ea5a46",
   "metadata": {},
   "source": [
    "#  N-body6 to spicea working example\n",
    "\n",
    "This is a notebook testing the implementation of SPISEA for using Nbody6 models as input.\n",
    "SPISEA was designed to compute a synthetic population of stars from scratch. However, our implementation aims to provide the stars as input, from the N-body6 (gradual formation) simulations.\n",
    "\n",
    "The structure of this implementation is as follows:\n",
    "1) We have our own version of SPICEA where we must implement the general tools to provide a star cluster as input, being as general as possible. This means do not depend on Nbody6 data structure, but aim that an user should provide any arbirtrary table of stars.\n",
    "\n",
    "2) In our project repository, i.e. this one, we construct the scripts that translate our simulations data format to the structure that SPISEA requires, based on the above implementation.\n"
   ]
  },
  {
   "cell_type": "code",
   "execution_count": 1,
   "id": "083f15fe-4eae-4340-90c9-37b31a7a0136",
   "metadata": {},
   "outputs": [
    {
     "name": "stderr",
     "output_type": "stream",
     "text": [
      "/home/wyz5rge/.local/lib/python3.9/site-packages/pysynphot/locations.py:345: UserWarning: Extinction files not found in /scratch/wyz5rge/models/cdbs/extinction\n",
      "  warnings.warn('Extinction files not found in %s' % (extdir, ))\n"
     ]
    }
   ],
   "source": [
    "import os\n",
    "import sys\n",
    "sys.path.insert(0,os.path.abspath('../')) # This should not be necessary if you add this repo to your python path.\n",
    "import numpy\n",
    "\n",
    "from nbody62spisea import converter # This is the file that contains the data transition routines.\n",
    "\n",
    "# This is my nbody6tools package for analysing the nbody simulations\n",
    "#https://github.com/juanfariaso/nbody6tools\n",
    "from nbody6tools import Reader \n",
    "\n",
    "#This should be our forked version of spicea from: https://github.com/juanfariaso/SPISEA\n",
    "from spisea.synthetic import CustomResolvedCluster \n",
    "\n",
    "%load_ext autoreload\n",
    "%autoreload 2"
   ]
  },
  {
   "cell_type": "code",
   "execution_count": 4,
   "id": "480de7fc-880f-42c7-a377-0a4b82e49aa8",
   "metadata": {},
   "outputs": [],
   "source": [
    "# Path to the simulation folder.\n",
    "# All simulatinos are storaged in the origins machine in chalmers.\n",
    "folder = '../../storage/data/jfarias/Data/Orion/massive_clusters/M3000new/sigma0p1/fiducial/sfe_ff003/15/'"
   ]
  },
  {
   "cell_type": "code",
   "execution_count": 5,
   "id": "06c2e000-086f-47f5-9410-5a013d282355",
   "metadata": {},
   "outputs": [
    {
     "ename": "FileNotFoundError",
     "evalue": "[Errno 2] No such file or directory: '../../storage/data/jfarias/Data/Orion/massive_clusters/M3000new/sigma0p1/fiducial/sfe_ff003/15//global.30'",
     "output_type": "error",
     "traceback": [
      "\u001b[0;31m---------------------------------------------------------------------------\u001b[0m",
      "\u001b[0;31mFileNotFoundError\u001b[0m                         Traceback (most recent call last)",
      "Input \u001b[0;32mIn [5]\u001b[0m, in \u001b[0;36m<cell line: 2>\u001b[0;34m()\u001b[0m\n\u001b[1;32m      1\u001b[0m \u001b[38;5;66;03m# Reading a snapshot object. See the nbody6tools repo for details\u001b[39;00m\n\u001b[0;32m----> 2\u001b[0m snap \u001b[38;5;241m=\u001b[39m \u001b[43mReader\u001b[49m\u001b[38;5;241;43m.\u001b[39;49m\u001b[43mread_snapshot\u001b[49m\u001b[43m(\u001b[49m\u001b[43mfolder\u001b[49m\u001b[43m,\u001b[49m\u001b[43mtime\u001b[49m\u001b[38;5;241;43m=\u001b[39;49m\u001b[38;5;241;43m10\u001b[39;49m\u001b[43m)\u001b[49m\n\u001b[1;32m      3\u001b[0m snap\u001b[38;5;241m.\u001b[39mto_physical()\n",
      "File \u001b[0;32m~/.local/lib/python3.9/site-packages/nbody6tools/Reader.py:74\u001b[0m, in \u001b[0;36mread_snapshot\u001b[0;34m(folder, snapshot, time, inputfilename, singlefile, snapshotfile)\u001b[0m\n\u001b[1;32m     71\u001b[0m \u001b[38;5;28;01mdef\u001b[39;00m \u001b[38;5;21mread_snapshot\u001b[39m(folder,snapshot\u001b[38;5;241m=\u001b[39m\u001b[38;5;241m0\u001b[39m,time\u001b[38;5;241m=\u001b[39m\u001b[38;5;28;01mNone\u001b[39;00m,inputfilename\u001b[38;5;241m=\u001b[39minputFile,singlefile\u001b[38;5;241m=\u001b[39msingleFile,\n\u001b[1;32m     72\u001b[0m         snapshotfile \u001b[38;5;241m=\u001b[39m snapshotFile):\n\u001b[1;32m     73\u001b[0m     \u001b[38;5;28;01mif\u001b[39;00m time \u001b[38;5;129;01mis\u001b[39;00m \u001b[38;5;129;01mnot\u001b[39;00m \u001b[38;5;28;01mNone\u001b[39;00m:\n\u001b[0;32m---> 74\u001b[0m         times \u001b[38;5;241m=\u001b[39m numpy\u001b[38;5;241m.\u001b[39marray(\u001b[43mget_times\u001b[49m\u001b[43m(\u001b[49m\u001b[43mfolder\u001b[49m\u001b[43m)\u001b[49m)\n\u001b[1;32m     75\u001b[0m         snapshot \u001b[38;5;241m=\u001b[39m numpy\u001b[38;5;241m.\u001b[39margmin( \u001b[38;5;28mabs\u001b[39m( times \u001b[38;5;241m-\u001b[39m time) )\n\u001b[1;32m     76\u001b[0m         \u001b[38;5;66;03m#snapshot = numpy.where( times >= time )[0][0]\u001b[39;00m\n",
      "File \u001b[0;32m~/.local/lib/python3.9/site-packages/nbody6tools/Reader.py:59\u001b[0m, in \u001b[0;36mget_times\u001b[0;34m(folder, nbody, inputfilename, snapshotfile, singlefile)\u001b[0m\n\u001b[1;32m     57\u001b[0m \u001b[38;5;28;01mdef\u001b[39;00m \u001b[38;5;21mget_times\u001b[39m(folder,nbody\u001b[38;5;241m=\u001b[39m\u001b[38;5;28;01mFalse\u001b[39;00m,inputfilename\u001b[38;5;241m=\u001b[39minputFile,\n\u001b[1;32m     58\u001b[0m         snapshotfile \u001b[38;5;241m=\u001b[39m snapshotFile,singlefile\u001b[38;5;241m=\u001b[39msingleFile):\n\u001b[0;32m---> 59\u001b[0m     glfile \u001b[38;5;241m=\u001b[39m \u001b[43mget_globals\u001b[49m\u001b[43m(\u001b[49m\u001b[43mfolder\u001b[49m\u001b[43m)\u001b[49m\n\u001b[1;32m     60\u001b[0m     inputfile \u001b[38;5;241m=\u001b[39m parse_inputfile(\u001b[38;5;124m\"\u001b[39m\u001b[38;5;132;01m%s\u001b[39;00m\u001b[38;5;124m/\u001b[39m\u001b[38;5;132;01m%s\u001b[39;00m\u001b[38;5;124m\"\u001b[39m\u001b[38;5;241m%\u001b[39m(folder,inputfilename) )\n\u001b[1;32m     61\u001b[0m     key \u001b[38;5;241m=\u001b[39m \u001b[38;5;124m\"\u001b[39m\u001b[38;5;124mTIME[NB]\u001b[39m\u001b[38;5;124m\"\u001b[39m \u001b[38;5;28;01mif\u001b[39;00m nbody \u001b[38;5;28;01melse\u001b[39;00m \u001b[38;5;124m\"\u001b[39m\u001b[38;5;124mTIME[Myr]\u001b[39m\u001b[38;5;124m\"\u001b[39m\n",
      "File \u001b[0;32m~/.local/lib/python3.9/site-packages/nbody6tools/Reader.py:22\u001b[0m, in \u001b[0;36mget_globals\u001b[0;34m(folder)\u001b[0m\n\u001b[1;32m     20\u001b[0m \u001b[38;5;28;01mdef\u001b[39;00m \u001b[38;5;21mget_globals\u001b[39m(folder):\n\u001b[1;32m     21\u001b[0m     \u001b[38;5;124m\"\u001b[39m\u001b[38;5;124mfind last block of globals that is good\u001b[39m\u001b[38;5;124m\"\u001b[39m\n\u001b[0;32m---> 22\u001b[0m     x \u001b[38;5;241m=\u001b[39m \u001b[38;5;28;43mopen\u001b[39;49m\u001b[43m(\u001b[49m\u001b[38;5;124;43m\"\u001b[39;49m\u001b[38;5;132;43;01m%s\u001b[39;49;00m\u001b[38;5;124;43m/global.30\u001b[39;49m\u001b[38;5;124;43m\"\u001b[39;49m\u001b[38;5;241;43m%\u001b[39;49m\u001b[43mfolder\u001b[49m\u001b[43m,\u001b[49m\u001b[38;5;124;43m\"\u001b[39;49m\u001b[38;5;124;43mr\u001b[39;49m\u001b[38;5;124;43m\"\u001b[39;49m\u001b[43m)\u001b[49m\u001b[38;5;241m.\u001b[39mreadlines()\n\u001b[1;32m     23\u001b[0m     it \u001b[38;5;241m=\u001b[39m [ i \u001b[38;5;28;01mfor\u001b[39;00m i \u001b[38;5;129;01min\u001b[39;00m \u001b[38;5;28mrange\u001b[39m(\u001b[38;5;28mlen\u001b[39m(x)) \u001b[38;5;28;01mif\u001b[39;00m \u001b[38;5;124m\"\u001b[39m\u001b[38;5;124mTIME\u001b[39m\u001b[38;5;124m\"\u001b[39m \u001b[38;5;129;01min\u001b[39;00m x[i] ]  \u001b[38;5;66;03m#find headers if more than one\u001b[39;00m\n\u001b[1;32m     24\u001b[0m     \u001b[38;5;66;03m#header = x[it[-1]]\u001b[39;00m\n",
      "\u001b[0;31mFileNotFoundError\u001b[0m: [Errno 2] No such file or directory: '../../storage/data/jfarias/Data/Orion/massive_clusters/M3000new/sigma0p1/fiducial/sfe_ff003/15//global.30'"
     ]
    }
   ],
   "source": [
    "# Reading a snapshot object. See the nbody6tools repo for details\n",
    "snap = Reader.read_snapshot(folder,time=10)\n",
    "snap.to_physical() # original units are on Nbody units, changing to physical units."
   ]
  },
  {
   "cell_type": "markdown",
   "id": "ebb46c16",
   "metadata": {},
   "source": [
    "Now we use the `converter` script to translate the snapshot object to a table that can be used by spisea.\n",
    " Single objects have `isMultiple`=0.\n",
    " \n",
    "Note that these binaries are only the ones regularized by Nbody6. This does not necessairly means all binaries are included since that depends on several factors such as the local environment of a binary. Probably a more sophisticated binary selection is needed based on distance and semimajor axis."
   ]
  },
  {
   "cell_type": "code",
   "execution_count": null,
   "id": "34fb4389",
   "metadata": {},
   "outputs": [],
   "source": [
    "cluster_table = converter.to_spicea_table(snap)\n",
    "cluster_table"
   ]
  },
  {
   "cell_type": "markdown",
   "id": "ad430262",
   "metadata": {},
   "source": [
    "The following follows the example script used in SPISEA, but adapted to our implementation:\n",
    "\n",
    "Note that for this example, we assume that all stars have the same age, which is not true. But this is only to test the implementation."
   ]
  },
  {
   "cell_type": "code",
   "execution_count": null,
   "id": "464b8f2a-743f-4dd3-9e66-0eacc5694dd5",
   "metadata": {},
   "outputs": [],
   "source": [
    "from spisea import synthetic, evolution, atmospheres, reddening, ifmr\n",
    "# Define isochrone parameters\n",
    "logAge = numpy.log10(5*10**6.) # Age in log(years)\n",
    "AKs = 0.8 # extinction in mags\n",
    "dist = 4000 # distance in parsec\n",
    "metallicity = 0 # Metallicity in [M/H]\n",
    "\n",
    "# Define evolution/atmosphere models and extinction law\n",
    "evo_model = evolution.Parsec() \n",
    "atm_func = atmospheres.get_merged_atmosphere\n",
    "red_law = reddening.RedLawHosek18b()\n",
    "\n",
    "# Also specify filters for synthetic photometry (optional). Here we use \n",
    "# the HST WFC3-IR F127M, F139M, and F153M filters\n",
    "filt_list = ['wfc3,ir,f127m', 'wfc3,ir,f139m', 'wfc3,ir,f153m']\n",
    "\n",
    "# Specify the directory we want the output isochrone\n",
    "# table saved in. If the directory does not already exist,\n",
    "# SPISEA will create it.\n",
    "iso_dir = 'isochrones/'\n",
    "\n",
    "# Make IsochronePhot object. Note that this will take a minute or two, \n",
    "# unless the isochrone has been generated previously.\n",
    "#\n",
    "# Note that this is not show all of the user options \n",
    "# for IsochronePhot. See docs for complete list of options.\n",
    "my_iso = synthetic.IsochronePhot(logAge, AKs, dist, metallicity=0,\n",
    "                            evo_model=evo_model, atm_func=atm_func,\n",
    "                            red_law=red_law, filters=filt_list,recomp=True,\n",
    "                                iso_dir=iso_dir)"
   ]
  },
  {
   "cell_type": "markdown",
   "id": "ec055463",
   "metadata": {},
   "source": [
    "Note that the avobe script took about 12 seconds in my laptop to complete for one single age.\n",
    "\n",
    "In order to implement the different ages, we may need to compute the above data for a grid of ages based on the age difference of the stars.\n",
    "\n",
    "Now, we use our version of SPISEA to complement our previous basic table with synthetic photometry."
   ]
  },
  {
   "cell_type": "code",
   "execution_count": null,
   "id": "584b0d2d-3def-41ab-8434-86d11dea7932",
   "metadata": {
    "scrolled": false
   },
   "outputs": [],
   "source": [
    "#cluster = CustomResolvedCluster(cluster_table[cluster_table['isMultiple'] ==1],my_iso)\n",
    "cluster = CustomResolvedCluster(cluster_table,my_iso)\n",
    "cluster.star_systems"
   ]
  },
  {
   "cell_type": "markdown",
   "id": "0e1931c9",
   "metadata": {},
   "source": [
    "Plotting the resulting HR diagrame (single age, but with binaries)"
   ]
  },
  {
   "cell_type": "code",
   "execution_count": null,
   "id": "2040e0af-cedc-47b2-b7b1-e9341aa509f9",
   "metadata": {},
   "outputs": [],
   "source": [
    "from matplotlib import pyplot as py\n",
    "# Look at the cluster CMD, compared to input isochrone. Note the impact of\n",
    "# multiple systems on the photometry\n",
    "clust = cluster.star_systems\n",
    "iso = my_iso.points\n",
    "\n",
    "py.figure(2, figsize=(10,10))\n",
    "py.clf()\n",
    "py.plot(clust['m_hst_f127m'] - clust['m_hst_f153m'], clust['m_hst_f153m'],\n",
    "       'k.', ms=5, alpha=0.1, label='__nolegend__')\n",
    "py.xlabel('F127M - F153M')\n",
    "py.ylabel('F153M')\n",
    "py.gca().invert_yaxis()\n",
    "py.legend()"
   ]
  },
  {
   "cell_type": "markdown",
   "id": "0f8600ad-d8f5-4ad5-afc3-5d00c6c6aaf0",
   "metadata": {},
   "source": [
    "# Multiple ages \n",
    "\n",
    "The above stars table already have implemented an age column for the stars that can be used in the implementation of muliple ages, here an histogram of them at 10 Myr. \n",
    "\n",
    "There is a peak at 10Myr since because of tecnical limitations of Nbody6, gradual formation simulations start with 150 stars at t = 0."
   ]
  },
  {
   "cell_type": "code",
   "execution_count": null,
   "id": "d13152b4-eada-4022-abe4-f02989483243",
   "metadata": {},
   "outputs": [],
   "source": [
    "from matplotlib import pyplot\n",
    "pyplot.figure(figsize=(10,8) )\n",
    "n,edges,c = pyplot.hist(cluster_table['age'],bins=40)\n",
    "pyplot.xlabel('stellar age (Myr)',fontsize=16)\n",
    "pyplot.ylabel('N',fontsize=16)"
   ]
  },
  {
   "cell_type": "markdown",
   "id": "c812d839",
   "metadata": {},
   "source": [
    "Here some initial implementation of different ages.\n",
    "\n",
    "The code below uses the edge bins from the above histogram assuming stars in each bin have the same age. There are 40 time blocks in this case."
   ]
  },
  {
   "cell_type": "code",
   "execution_count": null,
   "id": "6b49c46f-1d8b-4a07-95bd-5d3591d83cc0",
   "metadata": {
    "jupyter": {
     "outputs_hidden": true
    },
    "scrolled": true,
    "tags": []
   },
   "outputs": [],
   "source": [
    "from spisea import synthetic, evolution, atmospheres, reddening, ifmr\n",
    "# Define isochrone parameters\n",
    "#logAge = numpy.log10(5*10**6.) # Age in log(years)\n",
    "AKs = 0.8 # extinction in mags\n",
    "dist = 4000 # distance in parsec\n",
    "metallicity = 0 # Metallicity in [M/H]\n",
    "\n",
    "# Define evolution/atmosphere models and extinction law\n",
    "evo_model = evolution.Parsec() \n",
    "atm_func = atmospheres.get_merged_atmosphere\n",
    "red_law = reddening.RedLawHosek18b()\n",
    "\n",
    "# Also specify filters for synthetic photometry (optional). Here we use \n",
    "# the HST WFC3-IR F127M, F139M, and F153M filters\n",
    "filt_list = ['wfc3,ir,f127m', 'wfc3,ir,f139m', 'wfc3,ir,f153m']\n",
    "\n",
    "# Specify the directory we want the output isochrone\n",
    "# table saved in. If the directory does not already exist,\n",
    "# SPISEA will create it.\n",
    "iso_dir = 'isochrones/'\n",
    "\n",
    "# Make IsochronePhot object. Note that this will take a minute or two, \n",
    "# unless the isochrone has been generated previously.\n",
    "#\n",
    "# Note that this is not show all of the user options \n",
    "# for IsochronePhot. See docs for complete list of options.\n",
    "my_isos = []\n",
    "for al,at in zip(edges[:-1],edges[1:]):\n",
    "    logAge = numpy.log10(numpy.mean([al,at])*1e6)\n",
    "    try: \n",
    "        my_iso = synthetic.IsochronePhot(logAge, AKs, dist, metallicity=0,\n",
    "                                    evo_model=evo_model, atm_func=atm_func,\n",
    "                                    red_law=red_law, filters=filt_list,recomp=True,\n",
    "                                        iso_dir=iso_dir)\n",
    "    except FileNotFoundError:\n",
    "        print(\"Warning: age not available %s\"%( 10.0**logAge ) )\n",
    "        my_iso = None\n",
    "    my_isos.append(my_iso)"
   ]
  },
  {
   "cell_type": "code",
   "execution_count": null,
   "id": "e9f0b1de-a410-4890-b903-24783372cb91",
   "metadata": {
    "scrolled": false,
    "tags": []
   },
   "outputs": [],
   "source": [
    "from matplotlib import pyplot as py\n",
    "\n",
    "py.figure(2, figsize=(10,10))\n",
    "py.clf()\n",
    "for la,ta,iso in zip(edges[:-1],edges[1:],my_isos):\n",
    "    mask = (cluster_table['age'] > la) * (cluster_table['age'] < ta)\n",
    "    clusterObject = CustomResolvedCluster(cluster_table[mask],iso)\n",
    "    iso = my_iso.points\n",
    "\n",
    "    star_systems = clusterObject.star_systems\n",
    "    py.plot(star_systems['m_hst_f127m'] - star_systems['m_hst_f153m'], star_systems['m_hst_f153m'],\n",
    "           'k.', ms=5, alpha=0.5, label='__nolegend__')\n",
    "py.xlabel('F127M - F153M')\n",
    "py.ylabel('F153M')\n",
    "py.gca().invert_yaxis()\n",
    "py.legend()"
   ]
  },
  {
   "cell_type": "code",
   "execution_count": null,
   "id": "33c33ebc-b8c5-4f89-8ff2-3a20afc36481",
   "metadata": {},
   "outputs": [],
   "source": []
  }
 ],
 "metadata": {
  "kernelspec": {
   "display_name": "Python 3",
   "language": "python",
   "name": "python3"
  },
  "language_info": {
   "codemirror_mode": {
    "name": "ipython",
    "version": 3
   },
   "file_extension": ".py",
   "mimetype": "text/x-python",
   "name": "python",
   "nbconvert_exporter": "python",
   "pygments_lexer": "ipython3",
   "version": "3.9.12"
  }
 },
 "nbformat": 4,
 "nbformat_minor": 5
}
